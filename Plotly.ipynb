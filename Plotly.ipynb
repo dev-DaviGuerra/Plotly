{
 "cells": [
  {
   "cell_type": "code",
   "execution_count": 2,
   "id": "91d740f6-a591-432f-abcc-62db2d2e4506",
   "metadata": {},
   "outputs": [],
   "source": [
    "import plotly"
   ]
  },
  {
   "cell_type": "code",
   "execution_count": 3,
   "id": "b1053d20-6ffd-4a25-aa91-f68e4b70cf17",
   "metadata": {},
   "outputs": [
    {
     "data": {
      "application/vnd.plotly.v1+json": {
       "config": {
        "plotlyServerURL": "https://plot.ly"
       },
       "data": [
        {
         "type": "bar",
         "x": [
          1,
          2,
          3
         ],
         "y": [
          1,
          3,
          2
         ]
        }
       ],
       "layout": {
        "template": {
         "data": {
          "bar": [
           {
            "error_x": {
             "color": "#2a3f5f"
            },
            "error_y": {
             "color": "#2a3f5f"
            },
            "marker": {
             "line": {
              "color": "#E5ECF6",
              "width": 0.5
             },
             "pattern": {
              "fillmode": "overlay",
              "size": 10,
              "solidity": 0.2
             }
            },
            "type": "bar"
           }
          ],
          "barpolar": [
           {
            "marker": {
             "line": {
              "color": "#E5ECF6",
              "width": 0.5
             },
             "pattern": {
              "fillmode": "overlay",
              "size": 10,
              "solidity": 0.2
             }
            },
            "type": "barpolar"
           }
          ],
          "carpet": [
           {
            "aaxis": {
             "endlinecolor": "#2a3f5f",
             "gridcolor": "white",
             "linecolor": "white",
             "minorgridcolor": "white",
             "startlinecolor": "#2a3f5f"
            },
            "baxis": {
             "endlinecolor": "#2a3f5f",
             "gridcolor": "white",
             "linecolor": "white",
             "minorgridcolor": "white",
             "startlinecolor": "#2a3f5f"
            },
            "type": "carpet"
           }
          ],
          "choropleth": [
           {
            "colorbar": {
             "outlinewidth": 0,
             "ticks": ""
            },
            "type": "choropleth"
           }
          ],
          "contour": [
           {
            "colorbar": {
             "outlinewidth": 0,
             "ticks": ""
            },
            "colorscale": [
             [
              0,
              "#0d0887"
             ],
             [
              0.1111111111111111,
              "#46039f"
             ],
             [
              0.2222222222222222,
              "#7201a8"
             ],
             [
              0.3333333333333333,
              "#9c179e"
             ],
             [
              0.4444444444444444,
              "#bd3786"
             ],
             [
              0.5555555555555556,
              "#d8576b"
             ],
             [
              0.6666666666666666,
              "#ed7953"
             ],
             [
              0.7777777777777778,
              "#fb9f3a"
             ],
             [
              0.8888888888888888,
              "#fdca26"
             ],
             [
              1,
              "#f0f921"
             ]
            ],
            "type": "contour"
           }
          ],
          "contourcarpet": [
           {
            "colorbar": {
             "outlinewidth": 0,
             "ticks": ""
            },
            "type": "contourcarpet"
           }
          ],
          "heatmap": [
           {
            "colorbar": {
             "outlinewidth": 0,
             "ticks": ""
            },
            "colorscale": [
             [
              0,
              "#0d0887"
             ],
             [
              0.1111111111111111,
              "#46039f"
             ],
             [
              0.2222222222222222,
              "#7201a8"
             ],
             [
              0.3333333333333333,
              "#9c179e"
             ],
             [
              0.4444444444444444,
              "#bd3786"
             ],
             [
              0.5555555555555556,
              "#d8576b"
             ],
             [
              0.6666666666666666,
              "#ed7953"
             ],
             [
              0.7777777777777778,
              "#fb9f3a"
             ],
             [
              0.8888888888888888,
              "#fdca26"
             ],
             [
              1,
              "#f0f921"
             ]
            ],
            "type": "heatmap"
           }
          ],
          "histogram": [
           {
            "marker": {
             "pattern": {
              "fillmode": "overlay",
              "size": 10,
              "solidity": 0.2
             }
            },
            "type": "histogram"
           }
          ],
          "histogram2d": [
           {
            "colorbar": {
             "outlinewidth": 0,
             "ticks": ""
            },
            "colorscale": [
             [
              0,
              "#0d0887"
             ],
             [
              0.1111111111111111,
              "#46039f"
             ],
             [
              0.2222222222222222,
              "#7201a8"
             ],
             [
              0.3333333333333333,
              "#9c179e"
             ],
             [
              0.4444444444444444,
              "#bd3786"
             ],
             [
              0.5555555555555556,
              "#d8576b"
             ],
             [
              0.6666666666666666,
              "#ed7953"
             ],
             [
              0.7777777777777778,
              "#fb9f3a"
             ],
             [
              0.8888888888888888,
              "#fdca26"
             ],
             [
              1,
              "#f0f921"
             ]
            ],
            "type": "histogram2d"
           }
          ],
          "histogram2dcontour": [
           {
            "colorbar": {
             "outlinewidth": 0,
             "ticks": ""
            },
            "colorscale": [
             [
              0,
              "#0d0887"
             ],
             [
              0.1111111111111111,
              "#46039f"
             ],
             [
              0.2222222222222222,
              "#7201a8"
             ],
             [
              0.3333333333333333,
              "#9c179e"
             ],
             [
              0.4444444444444444,
              "#bd3786"
             ],
             [
              0.5555555555555556,
              "#d8576b"
             ],
             [
              0.6666666666666666,
              "#ed7953"
             ],
             [
              0.7777777777777778,
              "#fb9f3a"
             ],
             [
              0.8888888888888888,
              "#fdca26"
             ],
             [
              1,
              "#f0f921"
             ]
            ],
            "type": "histogram2dcontour"
           }
          ],
          "mesh3d": [
           {
            "colorbar": {
             "outlinewidth": 0,
             "ticks": ""
            },
            "type": "mesh3d"
           }
          ],
          "parcoords": [
           {
            "line": {
             "colorbar": {
              "outlinewidth": 0,
              "ticks": ""
             }
            },
            "type": "parcoords"
           }
          ],
          "pie": [
           {
            "automargin": true,
            "type": "pie"
           }
          ],
          "scatter": [
           {
            "fillpattern": {
             "fillmode": "overlay",
             "size": 10,
             "solidity": 0.2
            },
            "type": "scatter"
           }
          ],
          "scatter3d": [
           {
            "line": {
             "colorbar": {
              "outlinewidth": 0,
              "ticks": ""
             }
            },
            "marker": {
             "colorbar": {
              "outlinewidth": 0,
              "ticks": ""
             }
            },
            "type": "scatter3d"
           }
          ],
          "scattercarpet": [
           {
            "marker": {
             "colorbar": {
              "outlinewidth": 0,
              "ticks": ""
             }
            },
            "type": "scattercarpet"
           }
          ],
          "scattergeo": [
           {
            "marker": {
             "colorbar": {
              "outlinewidth": 0,
              "ticks": ""
             }
            },
            "type": "scattergeo"
           }
          ],
          "scattergl": [
           {
            "marker": {
             "colorbar": {
              "outlinewidth": 0,
              "ticks": ""
             }
            },
            "type": "scattergl"
           }
          ],
          "scattermap": [
           {
            "marker": {
             "colorbar": {
              "outlinewidth": 0,
              "ticks": ""
             }
            },
            "type": "scattermap"
           }
          ],
          "scattermapbox": [
           {
            "marker": {
             "colorbar": {
              "outlinewidth": 0,
              "ticks": ""
             }
            },
            "type": "scattermapbox"
           }
          ],
          "scatterpolar": [
           {
            "marker": {
             "colorbar": {
              "outlinewidth": 0,
              "ticks": ""
             }
            },
            "type": "scatterpolar"
           }
          ],
          "scatterpolargl": [
           {
            "marker": {
             "colorbar": {
              "outlinewidth": 0,
              "ticks": ""
             }
            },
            "type": "scatterpolargl"
           }
          ],
          "scatterternary": [
           {
            "marker": {
             "colorbar": {
              "outlinewidth": 0,
              "ticks": ""
             }
            },
            "type": "scatterternary"
           }
          ],
          "surface": [
           {
            "colorbar": {
             "outlinewidth": 0,
             "ticks": ""
            },
            "colorscale": [
             [
              0,
              "#0d0887"
             ],
             [
              0.1111111111111111,
              "#46039f"
             ],
             [
              0.2222222222222222,
              "#7201a8"
             ],
             [
              0.3333333333333333,
              "#9c179e"
             ],
             [
              0.4444444444444444,
              "#bd3786"
             ],
             [
              0.5555555555555556,
              "#d8576b"
             ],
             [
              0.6666666666666666,
              "#ed7953"
             ],
             [
              0.7777777777777778,
              "#fb9f3a"
             ],
             [
              0.8888888888888888,
              "#fdca26"
             ],
             [
              1,
              "#f0f921"
             ]
            ],
            "type": "surface"
           }
          ],
          "table": [
           {
            "cells": {
             "fill": {
              "color": "#EBF0F8"
             },
             "line": {
              "color": "white"
             }
            },
            "header": {
             "fill": {
              "color": "#C8D4E3"
             },
             "line": {
              "color": "white"
             }
            },
            "type": "table"
           }
          ]
         },
         "layout": {
          "annotationdefaults": {
           "arrowcolor": "#2a3f5f",
           "arrowhead": 0,
           "arrowwidth": 1
          },
          "autotypenumbers": "strict",
          "coloraxis": {
           "colorbar": {
            "outlinewidth": 0,
            "ticks": ""
           }
          },
          "colorscale": {
           "diverging": [
            [
             0,
             "#8e0152"
            ],
            [
             0.1,
             "#c51b7d"
            ],
            [
             0.2,
             "#de77ae"
            ],
            [
             0.3,
             "#f1b6da"
            ],
            [
             0.4,
             "#fde0ef"
            ],
            [
             0.5,
             "#f7f7f7"
            ],
            [
             0.6,
             "#e6f5d0"
            ],
            [
             0.7,
             "#b8e186"
            ],
            [
             0.8,
             "#7fbc41"
            ],
            [
             0.9,
             "#4d9221"
            ],
            [
             1,
             "#276419"
            ]
           ],
           "sequential": [
            [
             0,
             "#0d0887"
            ],
            [
             0.1111111111111111,
             "#46039f"
            ],
            [
             0.2222222222222222,
             "#7201a8"
            ],
            [
             0.3333333333333333,
             "#9c179e"
            ],
            [
             0.4444444444444444,
             "#bd3786"
            ],
            [
             0.5555555555555556,
             "#d8576b"
            ],
            [
             0.6666666666666666,
             "#ed7953"
            ],
            [
             0.7777777777777778,
             "#fb9f3a"
            ],
            [
             0.8888888888888888,
             "#fdca26"
            ],
            [
             1,
             "#f0f921"
            ]
           ],
           "sequentialminus": [
            [
             0,
             "#0d0887"
            ],
            [
             0.1111111111111111,
             "#46039f"
            ],
            [
             0.2222222222222222,
             "#7201a8"
            ],
            [
             0.3333333333333333,
             "#9c179e"
            ],
            [
             0.4444444444444444,
             "#bd3786"
            ],
            [
             0.5555555555555556,
             "#d8576b"
            ],
            [
             0.6666666666666666,
             "#ed7953"
            ],
            [
             0.7777777777777778,
             "#fb9f3a"
            ],
            [
             0.8888888888888888,
             "#fdca26"
            ],
            [
             1,
             "#f0f921"
            ]
           ]
          },
          "colorway": [
           "#636efa",
           "#EF553B",
           "#00cc96",
           "#ab63fa",
           "#FFA15A",
           "#19d3f3",
           "#FF6692",
           "#B6E880",
           "#FF97FF",
           "#FECB52"
          ],
          "font": {
           "color": "#2a3f5f"
          },
          "geo": {
           "bgcolor": "white",
           "lakecolor": "white",
           "landcolor": "#E5ECF6",
           "showlakes": true,
           "showland": true,
           "subunitcolor": "white"
          },
          "hoverlabel": {
           "align": "left"
          },
          "hovermode": "closest",
          "mapbox": {
           "style": "light"
          },
          "paper_bgcolor": "white",
          "plot_bgcolor": "#E5ECF6",
          "polar": {
           "angularaxis": {
            "gridcolor": "white",
            "linecolor": "white",
            "ticks": ""
           },
           "bgcolor": "#E5ECF6",
           "radialaxis": {
            "gridcolor": "white",
            "linecolor": "white",
            "ticks": ""
           }
          },
          "scene": {
           "xaxis": {
            "backgroundcolor": "#E5ECF6",
            "gridcolor": "white",
            "gridwidth": 2,
            "linecolor": "white",
            "showbackground": true,
            "ticks": "",
            "zerolinecolor": "white"
           },
           "yaxis": {
            "backgroundcolor": "#E5ECF6",
            "gridcolor": "white",
            "gridwidth": 2,
            "linecolor": "white",
            "showbackground": true,
            "ticks": "",
            "zerolinecolor": "white"
           },
           "zaxis": {
            "backgroundcolor": "#E5ECF6",
            "gridcolor": "white",
            "gridwidth": 2,
            "linecolor": "white",
            "showbackground": true,
            "ticks": "",
            "zerolinecolor": "white"
           }
          },
          "shapedefaults": {
           "line": {
            "color": "#2a3f5f"
           }
          },
          "ternary": {
           "aaxis": {
            "gridcolor": "white",
            "linecolor": "white",
            "ticks": ""
           },
           "baxis": {
            "gridcolor": "white",
            "linecolor": "white",
            "ticks": ""
           },
           "bgcolor": "#E5ECF6",
           "caxis": {
            "gridcolor": "white",
            "linecolor": "white",
            "ticks": ""
           }
          },
          "title": {
           "x": 0.05
          },
          "xaxis": {
           "automargin": true,
           "gridcolor": "white",
           "linecolor": "white",
           "ticks": "",
           "title": {
            "standoff": 15
           },
           "zerolinecolor": "white",
           "zerolinewidth": 2
          },
          "yaxis": {
           "automargin": true,
           "gridcolor": "white",
           "linecolor": "white",
           "ticks": "",
           "title": {
            "standoff": 15
           },
           "zerolinecolor": "white",
           "zerolinewidth": 2
          }
         }
        },
        "title": {
         "text": "A Figure Specified By A Graph Object"
        }
       }
      },
      "image/png": "[encoded data removed]"
     },
     "metadata": {},
     "output_type": "display_data"
    }
   ],
   "source": [
    "import plotly.graph_objects as go\n",
    "\n",
    "fig = go.Figure(\n",
    "    data=[go.Bar(x=[1, 2, 3], y=[1, 3, 2])],\n",
    "    layout=go.Layout(\n",
    "        title=go.layout.Title(text=\"A Figure Specified By A Graph Object\")\n",
    "    )\n",
    ")\n",
    "\n",
    "fig.show()"
   ]
  },
  {
   "cell_type": "code",
   "execution_count": 10,
   "id": "18ba015d-8c99-4f6d-b9f0-046d0daf924b",
   "metadata": {},
   "outputs": [
    {
     "data": {
      "application/vnd.plotly.v1+json": {
       "config": {
        "plotlyServerURL": "https://plot.ly"
       },
       "data": [
        {
         "marker": {
          "color": "green"
         },
         "type": "bar",
         "x": [
          6,
          5,
          2
         ],
         "xaxis": "x",
         "y": [
          1,
          4,
          5
         ],
         "yaxis": "y"
        },
        {
         "type": "scatter",
         "x": [
          6,
          5,
          2,
          7
         ],
         "xaxis": "x2",
         "y": [
          8,
          2,
          4,
          5
         ],
         "yaxis": "y2"
        }
       ],
       "layout": {
        "template": {
         "data": {
          "bar": [
           {
            "error_x": {
             "color": "#2a3f5f"
            },
            "error_y": {
             "color": "#2a3f5f"
            },
            "marker": {
             "line": {
              "color": "#E5ECF6",
              "width": 0.5
             },
             "pattern": {
              "fillmode": "overlay",
              "size": 10,
              "solidity": 0.2
             }
            },
            "type": "bar"
           }
          ],
          "barpolar": [
           {
            "marker": {
             "line": {
              "color": "#E5ECF6",
              "width": 0.5
             },
             "pattern": {
              "fillmode": "overlay",
              "size": 10,
              "solidity": 0.2
             }
            },
            "type": "barpolar"
           }
          ],
          "carpet": [
           {
            "aaxis": {
             "endlinecolor": "#2a3f5f",
             "gridcolor": "white",
             "linecolor": "white",
             "minorgridcolor": "white",
             "startlinecolor": "#2a3f5f"
            },
            "baxis": {
             "endlinecolor": "#2a3f5f",
             "gridcolor": "white",
             "linecolor": "white",
             "minorgridcolor": "white",
             "startlinecolor": "#2a3f5f"
            },
            "type": "carpet"
           }
          ],
          "choropleth": [
           {
            "colorbar": {
             "outlinewidth": 0,
             "ticks": ""
            },
            "type": "choropleth"
           }
          ],
          "contour": [
           {
            "colorbar": {
             "outlinewidth": 0,
             "ticks": ""
            },
            "colorscale": [
             [
              0,
              "#0d0887"
             ],
             [
              0.1111111111111111,
              "#46039f"
             ],
             [
              0.2222222222222222,
              "#7201a8"
             ],
             [
              0.3333333333333333,
              "#9c179e"
             ],
             [
              0.4444444444444444,
              "#bd3786"
             ],
             [
              0.5555555555555556,
              "#d8576b"
             ],
             [
              0.6666666666666666,
              "#ed7953"
             ],
             [
              0.7777777777777778,
              "#fb9f3a"
             ],
             [
              0.8888888888888888,
              "#fdca26"
             ],
             [
              1,
              "#f0f921"
             ]
            ],
            "type": "contour"
           }
          ],
          "contourcarpet": [
           {
            "colorbar": {
             "outlinewidth": 0,
             "ticks": ""
            },
            "type": "contourcarpet"
           }
          ],
          "heatmap": [
           {
            "colorbar": {
             "outlinewidth": 0,
             "ticks": ""
            },
            "colorscale": [
             [
              0,
              "#0d0887"
             ],
             [
              0.1111111111111111,
              "#46039f"
             ],
             [
              0.2222222222222222,
              "#7201a8"
             ],
             [
              0.3333333333333333,
              "#9c179e"
             ],
             [
              0.4444444444444444,
              "#bd3786"
             ],
             [
              0.5555555555555556,
              "#d8576b"
             ],
             [
              0.6666666666666666,
              "#ed7953"
             ],
             [
              0.7777777777777778,
              "#fb9f3a"
             ],
             [
              0.8888888888888888,
              "#fdca26"
             ],
             [
              1,
              "#f0f921"
             ]
            ],
            "type": "heatmap"
           }
          ],
          "histogram": [
           {
            "marker": {
             "pattern": {
              "fillmode": "overlay",
              "size": 10,
              "solidity": 0.2
             }
            },
            "type": "histogram"
           }
          ],
          "histogram2d": [
           {
            "colorbar": {
             "outlinewidth": 0,
             "ticks": ""
            },
            "colorscale": [
             [
              0,
              "#0d0887"
             ],
             [
              0.1111111111111111,
              "#46039f"
             ],
             [
              0.2222222222222222,
              "#7201a8"
             ],
             [
              0.3333333333333333,
              "#9c179e"
             ],
             [
              0.4444444444444444,
              "#bd3786"
             ],
             [
              0.5555555555555556,
              "#d8576b"
             ],
             [
              0.6666666666666666,
              "#ed7953"
             ],
             [
              0.7777777777777778,
              "#fb9f3a"
             ],
             [
              0.8888888888888888,
              "#fdca26"
             ],
             [
              1,
              "#f0f921"
             ]
            ],
            "type": "histogram2d"
           }
          ],
          "histogram2dcontour": [
           {
            "colorbar": {
             "outlinewidth": 0,
             "ticks": ""
            },
            "colorscale": [
             [
              0,
              "#0d0887"
             ],
             [
              0.1111111111111111,
              "#46039f"
             ],
             [
              0.2222222222222222,
              "#7201a8"
             ],
             [
              0.3333333333333333,
              "#9c179e"
             ],
             [
              0.4444444444444444,
              "#bd3786"
             ],
             [
              0.5555555555555556,
              "#d8576b"
             ],
             [
              0.6666666666666666,
              "#ed7953"
             ],
             [
              0.7777777777777778,
              "#fb9f3a"
             ],
             [
              0.8888888888888888,
              "#fdca26"
             ],
             [
              1,
              "#f0f921"
             ]
            ],
            "type": "histogram2dcontour"
           }
          ],
          "mesh3d": [
           {
            "colorbar": {
             "outlinewidth": 0,
             "ticks": ""
            },
            "type": "mesh3d"
           }
          ],
          "parcoords": [
           {
            "line": {
             "colorbar": {
              "outlinewidth": 0,
              "ticks": ""
             }
            },
            "type": "parcoords"
           }
          ],
          "pie": [
           {
            "automargin": true,
            "type": "pie"
           }
          ],
          "scatter": [
           {
            "fillpattern": {
             "fillmode": "overlay",
             "size": 10,
             "solidity": 0.2
            },
            "type": "scatter"
           }
          ],
          "scatter3d": [
           {
            "line": {
             "colorbar": {
              "outlinewidth": 0,
              "ticks": ""
             }
            },
            "marker": {
             "colorbar": {
              "outlinewidth": 0,
              "ticks": ""
             }
            },
            "type": "scatter3d"
           }
          ],
          "scattercarpet": [
           {
            "marker": {
             "colorbar": {
              "outlinewidth": 0,
              "ticks": ""
             }
            },
            "type": "scattercarpet"
           }
          ],
          "scattergeo": [
           {
            "marker": {
             "colorbar": {
              "outlinewidth": 0,
              "ticks": ""
             }
            },
            "type": "scattergeo"
           }
          ],
          "scattergl": [
           {
            "marker": {
             "colorbar": {
              "outlinewidth": 0,
              "ticks": ""
             }
            },
            "type": "scattergl"
           }
          ],
          "scattermap": [
           {
            "marker": {
             "colorbar": {
              "outlinewidth": 0,
              "ticks": ""
             }
            },
            "type": "scattermap"
           }
          ],
          "scattermapbox": [
           {
            "marker": {
             "colorbar": {
              "outlinewidth": 0,
              "ticks": ""
             }
            },
            "type": "scattermapbox"
           }
          ],
          "scatterpolar": [
           {
            "marker": {
             "colorbar": {
              "outlinewidth": 0,
              "ticks": ""
             }
            },
            "type": "scatterpolar"
           }
          ],
          "scatterpolargl": [
           {
            "marker": {
             "colorbar": {
              "outlinewidth": 0,
              "ticks": ""
             }
            },
            "type": "scatterpolargl"
           }
          ],
          "scatterternary": [
           {
            "marker": {
             "colorbar": {
              "outlinewidth": 0,
              "ticks": ""
             }
            },
            "type": "scatterternary"
           }
          ],
          "surface": [
           {
            "colorbar": {
             "outlinewidth": 0,
             "ticks": ""
            },
            "colorscale": [
             [
              0,
              "#0d0887"
             ],
             [
              0.1111111111111111,
              "#46039f"
             ],
             [
              0.2222222222222222,
              "#7201a8"
             ],
             [
              0.3333333333333333,
              "#9c179e"
             ],
             [
              0.4444444444444444,
              "#bd3786"
             ],
             [
              0.5555555555555556,
              "#d8576b"
             ],
             [
              0.6666666666666666,
              "#ed7953"
             ],
             [
              0.7777777777777778,
              "#fb9f3a"
             ],
             [
              0.8888888888888888,
              "#fdca26"
             ],
             [
              1,
              "#f0f921"
             ]
            ],
            "type": "surface"
           }
          ],
          "table": [
           {
            "cells": {
             "fill": {
              "color": "#EBF0F8"
             },
             "line": {
              "color": "white"
             }
            },
            "header": {
             "fill": {
              "color": "#C8D4E3"
             },
             "line": {
              "color": "white"
             }
            },
            "type": "table"
           }
          ]
         },
         "layout": {
          "annotationdefaults": {
           "arrowcolor": "#2a3f5f",
           "arrowhead": 0,
           "arrowwidth": 1
          },
          "autotypenumbers": "strict",
          "coloraxis": {
           "colorbar": {
            "outlinewidth": 0,
            "ticks": ""
           }
          },
          "colorscale": {
           "diverging": [
            [
             0,
             "#8e0152"
            ],
            [
             0.1,
             "#c51b7d"
            ],
            [
             0.2,
             "#de77ae"
            ],
            [
             0.3,
             "#f1b6da"
            ],
            [
             0.4,
             "#fde0ef"
            ],
            [
             0.5,
             "#f7f7f7"
            ],
            [
             0.6,
             "#e6f5d0"
            ],
            [
             0.7,
             "#b8e186"
            ],
            [
             0.8,
             "#7fbc41"
            ],
            [
             0.9,
             "#4d9221"
            ],
            [
             1,
             "#276419"
            ]
           ],
           "sequential": [
            [
             0,
             "#0d0887"
            ],
            [
             0.1111111111111111,
             "#46039f"
            ],
            [
             0.2222222222222222,
             "#7201a8"
            ],
            [
             0.3333333333333333,
             "#9c179e"
            ],
            [
             0.4444444444444444,
             "#bd3786"
            ],
            [
             0.5555555555555556,
             "#d8576b"
            ],
            [
             0.6666666666666666,
             "#ed7953"
            ],
            [
             0.7777777777777778,
             "#fb9f3a"
            ],
            [
             0.8888888888888888,
             "#fdca26"
            ],
            [
             1,
             "#f0f921"
            ]
           ],
           "sequentialminus": [
            [
             0,
             "#0d0887"
            ],
            [
             0.1111111111111111,
             "#46039f"
            ],
            [
             0.2222222222222222,
             "#7201a8"
            ],
            [
             0.3333333333333333,
             "#9c179e"
            ],
            [
             0.4444444444444444,
             "#bd3786"
            ],
            [
             0.5555555555555556,
             "#d8576b"
            ],
            [
             0.6666666666666666,
             "#ed7953"
            ],
            [
             0.7777777777777778,
             "#fb9f3a"
            ],
            [
             0.8888888888888888,
             "#fdca26"
            ],
            [
             1,
             "#f0f921"
            ]
           ]
          },
          "colorway": [
           "#636efa",
           "#EF553B",
           "#00cc96",
           "#ab63fa",
           "#FFA15A",
           "#19d3f3",
           "#FF6692",
           "#B6E880",
           "#FF97FF",
           "#FECB52"
          ],
          "font": {
           "color": "#2a3f5f"
          },
          "geo": {
           "bgcolor": "white",
           "lakecolor": "white",
           "landcolor": "#E5ECF6",
           "showlakes": true,
           "showland": true,
           "subunitcolor": "white"
          },
          "hoverlabel": {
           "align": "left"
          },
          "hovermode": "closest",
          "mapbox": {
           "style": "light"
          },
          "paper_bgcolor": "white",
          "plot_bgcolor": "#E5ECF6",
          "polar": {
           "angularaxis": {
            "gridcolor": "white",
            "linecolor": "white",
            "ticks": ""
           },
           "bgcolor": "#E5ECF6",
           "radialaxis": {
            "gridcolor": "white",
            "linecolor": "white",
            "ticks": ""
           }
          },
          "scene": {
           "xaxis": {
            "backgroundcolor": "#E5ECF6",
            "gridcolor": "white",
            "gridwidth": 2,
            "linecolor": "white",
            "showbackground": true,
            "ticks": "",
            "zerolinecolor": "white"
           },
           "yaxis": {
            "backgroundcolor": "#E5ECF6",
            "gridcolor": "white",
            "gridwidth": 2,
            "linecolor": "white",
            "showbackground": true,
            "ticks": "",
            "zerolinecolor": "white"
           },
           "zaxis": {
            "backgroundcolor": "#E5ECF6",
            "gridcolor": "white",
            "gridwidth": 2,
            "linecolor": "white",
            "showbackground": true,
            "ticks": "",
            "zerolinecolor": "white"
           }
          },
          "shapedefaults": {
           "line": {
            "color": "#2a3f5f"
           }
          },
          "ternary": {
           "aaxis": {
            "gridcolor": "white",
            "linecolor": "white",
            "ticks": ""
           },
           "baxis": {
            "gridcolor": "white",
            "linecolor": "white",
            "ticks": ""
           },
           "bgcolor": "#E5ECF6",
           "caxis": {
            "gridcolor": "white",
            "linecolor": "white",
            "ticks": ""
           }
          },
          "title": {
           "x": 0.05
          },
          "xaxis": {
           "automargin": true,
           "gridcolor": "white",
           "linecolor": "white",
           "ticks": "",
           "title": {
            "standoff": 15
           },
           "zerolinecolor": "white",
           "zerolinewidth": 2
          },
          "yaxis": {
           "automargin": true,
           "gridcolor": "white",
           "linecolor": "white",
           "ticks": "",
           "title": {
            "standoff": 15
           },
           "zerolinecolor": "white",
           "zerolinewidth": 2
          }
         }
        },
        "title": {
         "font": {
          "size": 20
         },
         "text": "Usando o update_layout()"
        },
        "xaxis": {
         "anchor": "y",
         "domain": [
          0,
          0.45
         ]
        },
        "xaxis2": {
         "anchor": "y2",
         "domain": [
          0.55,
          1
         ]
        },
        "yaxis": {
         "anchor": "x",
         "domain": [
          0,
          1
         ]
        },
        "yaxis2": {
         "anchor": "x2",
         "domain": [
          0,
          1
         ]
        }
       }
      },
      "image/png": "[encoded data removed]"
     },
     "metadata": {},
     "output_type": "display_data"
    }
   ],
   "source": [
    "from plotly.subplots import make_subplots\n",
    "\n",
    "fig = make_subplots(rows=1, cols=2)\n",
    "\n",
    "fig.add_trace(go.Bar(y=[1, 4, 5], x=[6, 5, 2], marker_color='green'), row=1, col=1)\n",
    "fig.add_trace(go.Scatter(y=[8, 2, 4, 5], x=[6, 5, 2, 7]), row=1, col=2)\n",
    "\n",
    "fig.update_layout(title_text='Usando o update_layout()', title_font_size=20)\n",
    "fig.show()"
   ]
  },
  {
   "cell_type": "markdown",
   "id": "572c28fd-29ef-4845-90ed-e3d53cc59b40",
   "metadata": {},
   "source": [
    "## Scatter plots"
   ]
  },
  {
   "cell_type": "code",
   "execution_count": 11,
   "id": "561dd602-4c9c-41b0-bfc7-db839d528017",
   "metadata": {},
   "outputs": [],
   "source": [
    "import plotly.graph_objects as go\n",
    "import numpy as np"
   ]
  },
  {
   "cell_type": "code",
   "execution_count": 12,
   "id": "8d068f0f-33a3-43a0-bfb5-87562dfff27c",
   "metadata": {},
   "outputs": [],
   "source": [
    "t = np.linspace(0, 10, 100)\n",
    "y = np.sin(t)"
   ]
  },
  {
   "cell_type": "code",
   "execution_count": 18,
   "id": "cc3b2864-753f-4097-b825-fec23c59d084",
   "metadata": {},
   "outputs": [
    {
     "data": {
      "application/vnd.plotly.v1+json": {
       "config": {
        "plotlyServerURL": "https://plot.ly"
       },
       "data": [
        {
         "mode": "lines",
         "type": "scatter",
         "x": {
          "bdata": "AAAAAAAAAAAxb2dIzNu5PzFvZ0jM28k/ZZNNNtlk0z8xb2dIzNvZP3+lQK1fKeA/ZZNNNtlk4z9LgVq/UqDmPzFvZ0jM2+k/F1100UUX7T9/pUCtXynwP3Icx3Ecx/E/ZZNNNtlk8z9YCtT6lQL1P0uBWr9SoPY/Pvjggw8++D8xb2dIzNv5PyTm7QyJefs/F1100UUX/T8K1PqVArX+P3+lQK1fKQBA+OCDDz74AEByHMdxHMcBQOtXCtT6lQJAZZNNNtlkA0DezpCYtzMEQFgK1PqVAgVA0UUXXXTRBUBLgVq/UqAGQMS8nSExbwdAPvjggw8+CEC3MyTm7QwJQDFvZ0jM2wlAq6qqqqqqCkAk5u0MiXkLQJ4hMW9nSAxAF1100UUXDUCRmLczJOYNQArU+pUCtQ5AhA8++OCDD0B/pUCtXykQQDtDYt7OkBBA+OCDDz74EEC1fqVArV8RQHIcx3EcxxFALrrooosuEkDrVwrU+pUSQKj1KwVq/RJAZZNNNtlkE0AiMW9nSMwTQN7OkJi3MxRAm2yyySabFEBYCtT6lQIVQBWo9SsFahVA0UUXXXTRFUCO4ziO4zgWQEuBWr9SoBZACB988MEHF0DEvJ0hMW8XQIFav1Kg1hdAPvjggw8+GED7lQK1fqUYQLczJObtDBlAdNFFF110GUAxb2dIzNsZQO4MiXk7QxpAq6qqqqqqGkBnSMzbGRIbQCTm7QyJeRtA4YMPPvjgG0CeITFvZ0gcQFq/UqDWrxxAF1100UUXHUDU+pUCtX4dQJGYtzMk5h1ATTbZZJNNHkAK1PqVArUeQMdxHMdxHB9AhA8++OCDH0BArV8pUOsfQH+lQK1fKSBAXXTRRRddIEA7Q2LezpAgQBoS83aGxCBA+OCDDz74IEDXrxSo9SshQLV+pUCtXyFAk0022WSTIUByHMdxHMchQFDrVwrU+iFALrrooosuIkANiXk7Q2IiQOtXCtT6lSJAyiabbLLJIkCo9SsFav0iQIbEvJ0hMSNAZZNNNtlkI0BDYt7OkJgjQCIxb2dIzCNAAAAAAAAAJEA=",
          "dtype": "f8"
         },
         "y": {
          "bdata": "AAAAAAAAAABWWTD1i9C5P1FTX5rcrsk/gsOxNjYZ0z9VYwJ3JinZPxcA895s994/joZ7TnE64j/qrfXjmcnkP2ssuWGCIuc/Iswnjgo/6T+RI+TArxnrP1BTS0Sbrew/3oUw9q727T8Xi+UGkPHuP/kGhbqvm+8/OPqkFVLz7z8TWwZkkvfvP5TacY1lqO8/kSusMpoG7z8wOzaS1hPuPz2qWDqU0uw/jV22kxlG6z8pMUFVcXLpP4gS3/dfXOc/1MdGRVcJ5T/m1IwiaH/iP8q16nZlit8/8e22b6rD2T9j8JxQsrnTPwFWfWl/+Mo/+7miP25uvD8ew57TVQ2FP7c2U+b2Mbe/NJcb8IdkyL+cMtDaNXjSv4gGHUH0jdi/BM5I1Z1j3r8dASM//PThv5J0Xo5MieS/fMX9lQTo5r9AD0Xy9Arpv5gfWUKK7Oq/hEBctduH7L9UjGrat9jtv9nTBZKv2+6/Gw5iBB+O778QwS6FNO7vv7NU4lL1+u+/vLAjJUC0778fSaaDzRrvv6PqleQtMO6/ehV7l8X27L+nYD+HxnHrv2I/nOMnpem/D922x5uV57/CVOv4gkjlv1aewt3ew+K/ZCe00UEO4L8DKjT9e13av93iNNGlWdS/wgS4cmdBzL8fFrKmiwu/v2He8+4MDZW/u4zZNsGStD+7ZD9aihnHP7P36Je11tE/W/DDABjy1z9jyIBZ/M7dP8e6gdUKr+E/qWzMAXFI5D//7Lop6KzmP7yvSOox1ug/Al+5UKq+6j+T7POSVmHsP14AZw7yue0/UWGMa/nE7j/0lfnIs3/vP+x2ENY56O8/b1zFynr97z+a4IMvP7/vP+dX8G0pLu8/1DgMKbRL7j8lnQ9hLhrtP1CyCm21nOs/N08I2izX6T+2POhENM7nPxy7bUkbh+U/z6j/pdMH4z+wXUa44VbgP6UpR/aW9to/VbjOZAz51D8WLl/Qi4nNP2bQXAjp08A//1m7LN2Snz/o7+kO/fKxv37G6czszcW/VIdizLk00b98w03tlVXXvzzw4HCMOd2/Uk/z9Z5o4b8=",
          "dtype": "f8"
         }
        }
       ],
       "layout": {
        "template": {
         "data": {
          "bar": [
           {
            "error_x": {
             "color": "#2a3f5f"
            },
            "error_y": {
             "color": "#2a3f5f"
            },
            "marker": {
             "line": {
              "color": "#E5ECF6",
              "width": 0.5
             },
             "pattern": {
              "fillmode": "overlay",
              "size": 10,
              "solidity": 0.2
             }
            },
            "type": "bar"
           }
          ],
          "barpolar": [
           {
            "marker": {
             "line": {
              "color": "#E5ECF6",
              "width": 0.5
             },
             "pattern": {
              "fillmode": "overlay",
              "size": 10,
              "solidity": 0.2
             }
            },
            "type": "barpolar"
           }
          ],
          "carpet": [
           {
            "aaxis": {
             "endlinecolor": "#2a3f5f",
             "gridcolor": "white",
             "linecolor": "white",
             "minorgridcolor": "white",
             "startlinecolor": "#2a3f5f"
            },
            "baxis": {
             "endlinecolor": "#2a3f5f",
             "gridcolor": "white",
             "linecolor": "white",
             "minorgridcolor": "white",
             "startlinecolor": "#2a3f5f"
            },
            "type": "carpet"
           }
          ],
          "choropleth": [
           {
            "colorbar": {
             "outlinewidth": 0,
             "ticks": ""
            },
            "type": "choropleth"
           }
          ],
          "contour": [
           {
            "colorbar": {
             "outlinewidth": 0,
             "ticks": ""
            },
            "colorscale": [
             [
              0,
              "#0d0887"
             ],
             [
              0.1111111111111111,
              "#46039f"
             ],
             [
              0.2222222222222222,
              "#7201a8"
             ],
             [
              0.3333333333333333,
              "#9c179e"
             ],
             [
              0.4444444444444444,
              "#bd3786"
             ],
             [
              0.5555555555555556,
              "#d8576b"
             ],
             [
              0.6666666666666666,
              "#ed7953"
             ],
             [
              0.7777777777777778,
              "#fb9f3a"
             ],
             [
              0.8888888888888888,
              "#fdca26"
             ],
             [
              1,
              "#f0f921"
             ]
            ],
            "type": "contour"
           }
          ],
          "contourcarpet": [
           {
            "colorbar": {
             "outlinewidth": 0,
             "ticks": ""
            },
            "type": "contourcarpet"
           }
          ],
          "heatmap": [
           {
            "colorbar": {
             "outlinewidth": 0,
             "ticks": ""
            },
            "colorscale": [
             [
              0,
              "#0d0887"
             ],
             [
              0.1111111111111111,
              "#46039f"
             ],
             [
              0.2222222222222222,
              "#7201a8"
             ],
             [
              0.3333333333333333,
              "#9c179e"
             ],
             [
              0.4444444444444444,
              "#bd3786"
             ],
             [
              0.5555555555555556,
              "#d8576b"
             ],
             [
              0.6666666666666666,
              "#ed7953"
             ],
             [
              0.7777777777777778,
              "#fb9f3a"
             ],
             [
              0.8888888888888888,
              "#fdca26"
             ],
             [
              1,
              "#f0f921"
             ]
            ],
            "type": "heatmap"
           }
          ],
          "histogram": [
           {
            "marker": {
             "pattern": {
              "fillmode": "overlay",
              "size": 10,
              "solidity": 0.2
             }
            },
            "type": "histogram"
           }
          ],
          "histogram2d": [
           {
            "colorbar": {
             "outlinewidth": 0,
             "ticks": ""
            },
            "colorscale": [
             [
              0,
              "#0d0887"
             ],
             [
              0.1111111111111111,
              "#46039f"
             ],
             [
              0.2222222222222222,
              "#7201a8"
             ],
             [
              0.3333333333333333,
              "#9c179e"
             ],
             [
              0.4444444444444444,
              "#bd3786"
             ],
             [
              0.5555555555555556,
              "#d8576b"
             ],
             [
              0.6666666666666666,
              "#ed7953"
             ],
             [
              0.7777777777777778,
              "#fb9f3a"
             ],
             [
              0.8888888888888888,
              "#fdca26"
             ],
             [
              1,
              "#f0f921"
             ]
            ],
            "type": "histogram2d"
           }
          ],
          "histogram2dcontour": [
           {
            "colorbar": {
             "outlinewidth": 0,
             "ticks": ""
            },
            "colorscale": [
             [
              0,
              "#0d0887"
             ],
             [
              0.1111111111111111,
              "#46039f"
             ],
             [
              0.2222222222222222,
              "#7201a8"
             ],
             [
              0.3333333333333333,
              "#9c179e"
             ],
             [
              0.4444444444444444,
              "#bd3786"
             ],
             [
              0.5555555555555556,
              "#d8576b"
             ],
             [
              0.6666666666666666,
              "#ed7953"
             ],
             [
              0.7777777777777778,
              "#fb9f3a"
             ],
             [
              0.8888888888888888,
              "#fdca26"
             ],
             [
              1,
              "#f0f921"
             ]
            ],
            "type": "histogram2dcontour"
           }
          ],
          "mesh3d": [
           {
            "colorbar": {
             "outlinewidth": 0,
             "ticks": ""
            },
            "type": "mesh3d"
           }
          ],
          "parcoords": [
           {
            "line": {
             "colorbar": {
              "outlinewidth": 0,
              "ticks": ""
             }
            },
            "type": "parcoords"
           }
          ],
          "pie": [
           {
            "automargin": true,
            "type": "pie"
           }
          ],
          "scatter": [
           {
            "fillpattern": {
             "fillmode": "overlay",
             "size": 10,
             "solidity": 0.2
            },
            "type": "scatter"
           }
          ],
          "scatter3d": [
           {
            "line": {
             "colorbar": {
              "outlinewidth": 0,
              "ticks": ""
             }
            },
            "marker": {
             "colorbar": {
              "outlinewidth": 0,
              "ticks": ""
             }
            },
            "type": "scatter3d"
           }
          ],
          "scattercarpet": [
           {
            "marker": {
             "colorbar": {
              "outlinewidth": 0,
              "ticks": ""
             }
            },
            "type": "scattercarpet"
           }
          ],
          "scattergeo": [
           {
            "marker": {
             "colorbar": {
              "outlinewidth": 0,
              "ticks": ""
             }
            },
            "type": "scattergeo"
           }
          ],
          "scattergl": [
           {
            "marker": {
             "colorbar": {
              "outlinewidth": 0,
              "ticks": ""
             }
            },
            "type": "scattergl"
           }
          ],
          "scattermap": [
           {
            "marker": {
             "colorbar": {
              "outlinewidth": 0,
              "ticks": ""
             }
            },
            "type": "scattermap"
           }
          ],
          "scattermapbox": [
           {
            "marker": {
             "colorbar": {
              "outlinewidth": 0,
              "ticks": ""
             }
            },
            "type": "scattermapbox"
           }
          ],
          "scatterpolar": [
           {
            "marker": {
             "colorbar": {
              "outlinewidth": 0,
              "ticks": ""
             }
            },
            "type": "scatterpolar"
           }
          ],
          "scatterpolargl": [
           {
            "marker": {
             "colorbar": {
              "outlinewidth": 0,
              "ticks": ""
             }
            },
            "type": "scatterpolargl"
           }
          ],
          "scatterternary": [
           {
            "marker": {
             "colorbar": {
              "outlinewidth": 0,
              "ticks": ""
             }
            },
            "type": "scatterternary"
           }
          ],
          "surface": [
           {
            "colorbar": {
             "outlinewidth": 0,
             "ticks": ""
            },
            "colorscale": [
             [
              0,
              "#0d0887"
             ],
             [
              0.1111111111111111,
              "#46039f"
             ],
             [
              0.2222222222222222,
              "#7201a8"
             ],
             [
              0.3333333333333333,
              "#9c179e"
             ],
             [
              0.4444444444444444,
              "#bd3786"
             ],
             [
              0.5555555555555556,
              "#d8576b"
             ],
             [
              0.6666666666666666,
              "#ed7953"
             ],
             [
              0.7777777777777778,
              "#fb9f3a"
             ],
             [
              0.8888888888888888,
              "#fdca26"
             ],
             [
              1,
              "#f0f921"
             ]
            ],
            "type": "surface"
           }
          ],
          "table": [
           {
            "cells": {
             "fill": {
              "color": "#EBF0F8"
             },
             "line": {
              "color": "white"
             }
            },
            "header": {
             "fill": {
              "color": "#C8D4E3"
             },
             "line": {
              "color": "white"
             }
            },
            "type": "table"
           }
          ]
         },
         "layout": {
          "annotationdefaults": {
           "arrowcolor": "#2a3f5f",
           "arrowhead": 0,
           "arrowwidth": 1
          },
          "autotypenumbers": "strict",
          "coloraxis": {
           "colorbar": {
            "outlinewidth": 0,
            "ticks": ""
           }
          },
          "colorscale": {
           "diverging": [
            [
             0,
             "#8e0152"
            ],
            [
             0.1,
             "#c51b7d"
            ],
            [
             0.2,
             "#de77ae"
            ],
            [
             0.3,
             "#f1b6da"
            ],
            [
             0.4,
             "#fde0ef"
            ],
            [
             0.5,
             "#f7f7f7"
            ],
            [
             0.6,
             "#e6f5d0"
            ],
            [
             0.7,
             "#b8e186"
            ],
            [
             0.8,
             "#7fbc41"
            ],
            [
             0.9,
             "#4d9221"
            ],
            [
             1,
             "#276419"
            ]
           ],
           "sequential": [
            [
             0,
             "#0d0887"
            ],
            [
             0.1111111111111111,
             "#46039f"
            ],
            [
             0.2222222222222222,
             "#7201a8"
            ],
            [
             0.3333333333333333,
             "#9c179e"
            ],
            [
             0.4444444444444444,
             "#bd3786"
            ],
            [
             0.5555555555555556,
             "#d8576b"
            ],
            [
             0.6666666666666666,
             "#ed7953"
            ],
            [
             0.7777777777777778,
             "#fb9f3a"
            ],
            [
             0.8888888888888888,
             "#fdca26"
            ],
            [
             1,
             "#f0f921"
            ]
           ],
           "sequentialminus": [
            [
             0,
             "#0d0887"
            ],
            [
             0.1111111111111111,
             "#46039f"
            ],
            [
             0.2222222222222222,
             "#7201a8"
            ],
            [
             0.3333333333333333,
             "#9c179e"
            ],
            [
             0.4444444444444444,
             "#bd3786"
            ],
            [
             0.5555555555555556,
             "#d8576b"
            ],
            [
             0.6666666666666666,
             "#ed7953"
            ],
            [
             0.7777777777777778,
             "#fb9f3a"
            ],
            [
             0.8888888888888888,
             "#fdca26"
            ],
            [
             1,
             "#f0f921"
            ]
           ]
          },
          "colorway": [
           "#636efa",
           "#EF553B",
           "#00cc96",
           "#ab63fa",
           "#FFA15A",
           "#19d3f3",
           "#FF6692",
           "#B6E880",
           "#FF97FF",
           "#FECB52"
          ],
          "font": {
           "color": "#2a3f5f"
          },
          "geo": {
           "bgcolor": "white",
           "lakecolor": "white",
           "landcolor": "#E5ECF6",
           "showlakes": true,
           "showland": true,
           "subunitcolor": "white"
          },
          "hoverlabel": {
           "align": "left"
          },
          "hovermode": "closest",
          "mapbox": {
           "style": "light"
          },
          "paper_bgcolor": "white",
          "plot_bgcolor": "#E5ECF6",
          "polar": {
           "angularaxis": {
            "gridcolor": "white",
            "linecolor": "white",
            "ticks": ""
           },
           "bgcolor": "#E5ECF6",
           "radialaxis": {
            "gridcolor": "white",
            "linecolor": "white",
            "ticks": ""
           }
          },
          "scene": {
           "xaxis": {
            "backgroundcolor": "#E5ECF6",
            "gridcolor": "white",
            "gridwidth": 2,
            "linecolor": "white",
            "showbackground": true,
            "ticks": "",
            "zerolinecolor": "white"
           },
           "yaxis": {
            "backgroundcolor": "#E5ECF6",
            "gridcolor": "white",
            "gridwidth": 2,
            "linecolor": "white",
            "showbackground": true,
            "ticks": "",
            "zerolinecolor": "white"
           },
           "zaxis": {
            "backgroundcolor": "#E5ECF6",
            "gridcolor": "white",
            "gridwidth": 2,
            "linecolor": "white",
            "showbackground": true,
            "ticks": "",
            "zerolinecolor": "white"
           }
          },
          "shapedefaults": {
           "line": {
            "color": "#2a3f5f"
           }
          },
          "ternary": {
           "aaxis": {
            "gridcolor": "white",
            "linecolor": "white",
            "ticks": ""
           },
           "baxis": {
            "gridcolor": "white",
            "linecolor": "white",
            "ticks": ""
           },
           "bgcolor": "#E5ECF6",
           "caxis": {
            "gridcolor": "white",
            "linecolor": "white",
            "ticks": ""
           }
          },
          "title": {
           "x": 0.05
          },
          "xaxis": {
           "automargin": true,
           "gridcolor": "white",
           "linecolor": "white",
           "ticks": "",
           "title": {
            "standoff": 15
           },
           "zerolinecolor": "white",
           "zerolinewidth": 2
          },
          "yaxis": {
           "automargin": true,
           "gridcolor": "white",
           "linecolor": "white",
           "ticks": "",
           "title": {
            "standoff": 15
           },
           "zerolinecolor": "white",
           "zerolinewidth": 2
          }
         }
        }
       }
      },
      "image/png": "[encoded data removed]"
     },
     "metadata": {},
     "output_type": "display_data"
    }
   ],
   "source": [
    "fig = go.Figure(data=go.Scatter(x=t, y=y, mode=\"lines\"))\n",
    "fig.show()"
   ]
  },
  {
   "cell_type": "code",
   "execution_count": 28,
   "id": "f94c5dc8-0a35-4eb9-b615-99e3fe4990ca",
   "metadata": {},
   "outputs": [
    {
     "data": {
      "application/vnd.plotly.v1+json": {
       "config": {
        "plotlyServerURL": "https://plot.ly"
       },
       "data": [
        {
         "mode": "lines+markers",
         "type": "scatter",
         "x": {
          "bdata": "AAAAAAAAAAAxb2dIzNu5PzFvZ0jM28k/ZZNNNtlk0z8xb2dIzNvZP3+lQK1fKeA/ZZNNNtlk4z9LgVq/UqDmPzFvZ0jM2+k/F1100UUX7T9/pUCtXynwP3Icx3Ecx/E/ZZNNNtlk8z9YCtT6lQL1P0uBWr9SoPY/Pvjggw8++D8xb2dIzNv5PyTm7QyJefs/F1100UUX/T8K1PqVArX+P3+lQK1fKQBA+OCDDz74AEByHMdxHMcBQOtXCtT6lQJAZZNNNtlkA0DezpCYtzMEQFgK1PqVAgVA0UUXXXTRBUBLgVq/UqAGQMS8nSExbwdAPvjggw8+CEC3MyTm7QwJQDFvZ0jM2wlAq6qqqqqqCkAk5u0MiXkLQJ4hMW9nSAxAF1100UUXDUCRmLczJOYNQArU+pUCtQ5AhA8++OCDD0B/pUCtXykQQDtDYt7OkBBA+OCDDz74EEC1fqVArV8RQHIcx3EcxxFALrrooosuEkDrVwrU+pUSQKj1KwVq/RJAZZNNNtlkE0AiMW9nSMwTQN7OkJi3MxRAm2yyySabFEBYCtT6lQIVQBWo9SsFahVA0UUXXXTRFUCO4ziO4zgWQEuBWr9SoBZACB988MEHF0DEvJ0hMW8XQIFav1Kg1hdAPvjggw8+GED7lQK1fqUYQLczJObtDBlAdNFFF110GUAxb2dIzNsZQO4MiXk7QxpAq6qqqqqqGkBnSMzbGRIbQCTm7QyJeRtA4YMPPvjgG0CeITFvZ0gcQFq/UqDWrxxAF1100UUXHUDU+pUCtX4dQJGYtzMk5h1ATTbZZJNNHkAK1PqVArUeQMdxHMdxHB9AhA8++OCDH0BArV8pUOsfQH+lQK1fKSBAXXTRRRddIEA7Q2LezpAgQBoS83aGxCBA+OCDDz74IEDXrxSo9SshQLV+pUCtXyFAk0022WSTIUByHMdxHMchQFDrVwrU+iFALrrooosuIkANiXk7Q2IiQOtXCtT6lSJAyiabbLLJIkCo9SsFav0iQIbEvJ0hMSNAZZNNNtlkI0BDYt7OkJgjQCIxb2dIzCNAAAAAAAAAJEA=",
          "dtype": "f8"
         },
         "y": {
          "bdata": "AAAAAAAAAABWWTD1i9C5P1FTX5rcrsk/gsOxNjYZ0z9VYwJ3JinZPxcA895s994/joZ7TnE64j/qrfXjmcnkP2ssuWGCIuc/Iswnjgo/6T+RI+TArxnrP1BTS0Sbrew/3oUw9q727T8Xi+UGkPHuP/kGhbqvm+8/OPqkFVLz7z8TWwZkkvfvP5TacY1lqO8/kSusMpoG7z8wOzaS1hPuPz2qWDqU0uw/jV22kxlG6z8pMUFVcXLpP4gS3/dfXOc/1MdGRVcJ5T/m1IwiaH/iP8q16nZlit8/8e22b6rD2T9j8JxQsrnTPwFWfWl/+Mo/+7miP25uvD8ew57TVQ2FP7c2U+b2Mbe/NJcb8IdkyL+cMtDaNXjSv4gGHUH0jdi/BM5I1Z1j3r8dASM//PThv5J0Xo5MieS/fMX9lQTo5r9AD0Xy9Arpv5gfWUKK7Oq/hEBctduH7L9UjGrat9jtv9nTBZKv2+6/Gw5iBB+O778QwS6FNO7vv7NU4lL1+u+/vLAjJUC0778fSaaDzRrvv6PqleQtMO6/ehV7l8X27L+nYD+HxnHrv2I/nOMnpem/D922x5uV57/CVOv4gkjlv1aewt3ew+K/ZCe00UEO4L8DKjT9e13av93iNNGlWdS/wgS4cmdBzL8fFrKmiwu/v2He8+4MDZW/u4zZNsGStD+7ZD9aihnHP7P36Je11tE/W/DDABjy1z9jyIBZ/M7dP8e6gdUKr+E/qWzMAXFI5D//7Lop6KzmP7yvSOox1ug/Al+5UKq+6j+T7POSVmHsP14AZw7yue0/UWGMa/nE7j/0lfnIs3/vP+x2ENY56O8/b1zFynr97z+a4IMvP7/vP+dX8G0pLu8/1DgMKbRL7j8lnQ9hLhrtP1CyCm21nOs/N08I2izX6T+2POhENM7nPxy7bUkbh+U/z6j/pdMH4z+wXUa44VbgP6UpR/aW9to/VbjOZAz51D8WLl/Qi4nNP2bQXAjp08A//1m7LN2Snz/o7+kO/fKxv37G6czszcW/VIdizLk00b98w03tlVXXvzzw4HCMOd2/Uk/z9Z5o4b8=",
          "dtype": "f8"
         }
        }
       ],
       "layout": {
        "template": {
         "data": {
          "bar": [
           {
            "error_x": {
             "color": "#2a3f5f"
            },
            "error_y": {
             "color": "#2a3f5f"
            },
            "marker": {
             "line": {
              "color": "#E5ECF6",
              "width": 0.5
             },
             "pattern": {
              "fillmode": "overlay",
              "size": 10,
              "solidity": 0.2
             }
            },
            "type": "bar"
           }
          ],
          "barpolar": [
           {
            "marker": {
             "line": {
              "color": "#E5ECF6",
              "width": 0.5
             },
             "pattern": {
              "fillmode": "overlay",
              "size": 10,
              "solidity": 0.2
             }
            },
            "type": "barpolar"
           }
          ],
          "carpet": [
           {
            "aaxis": {
             "endlinecolor": "#2a3f5f",
             "gridcolor": "white",
             "linecolor": "white",
             "minorgridcolor": "white",
             "startlinecolor": "#2a3f5f"
            },
            "baxis": {
             "endlinecolor": "#2a3f5f",
             "gridcolor": "white",
             "linecolor": "white",
             "minorgridcolor": "white",
             "startlinecolor": "#2a3f5f"
            },
            "type": "carpet"
           }
          ],
          "choropleth": [
           {
            "colorbar": {
             "outlinewidth": 0,
             "ticks": ""
            },
            "type": "choropleth"
           }
          ],
          "contour": [
           {
            "colorbar": {
             "outlinewidth": 0,
             "ticks": ""
            },
            "colorscale": [
             [
              0,
              "#0d0887"
             ],
             [
              0.1111111111111111,
              "#46039f"
             ],
             [
              0.2222222222222222,
              "#7201a8"
             ],
             [
              0.3333333333333333,
              "#9c179e"
             ],
             [
              0.4444444444444444,
              "#bd3786"
             ],
             [
              0.5555555555555556,
              "#d8576b"
             ],
             [
              0.6666666666666666,
              "#ed7953"
             ],
             [
              0.7777777777777778,
              "#fb9f3a"
             ],
             [
              0.8888888888888888,
              "#fdca26"
             ],
             [
              1,
              "#f0f921"
             ]
            ],
            "type": "contour"
           }
          ],
          "contourcarpet": [
           {
            "colorbar": {
             "outlinewidth": 0,
             "ticks": ""
            },
            "type": "contourcarpet"
           }
          ],
          "heatmap": [
           {
            "colorbar": {
             "outlinewidth": 0,
             "ticks": ""
            },
            "colorscale": [
             [
              0,
              "#0d0887"
             ],
             [
              0.1111111111111111,
              "#46039f"
             ],
             [
              0.2222222222222222,
              "#7201a8"
             ],
             [
              0.3333333333333333,
              "#9c179e"
             ],
             [
              0.4444444444444444,
              "#bd3786"
             ],
             [
              0.5555555555555556,
              "#d8576b"
             ],
             [
              0.6666666666666666,
              "#ed7953"
             ],
             [
              0.7777777777777778,
              "#fb9f3a"
             ],
             [
              0.8888888888888888,
              "#fdca26"
             ],
             [
              1,
              "#f0f921"
             ]
            ],
            "type": "heatmap"
           }
          ],
          "histogram": [
           {
            "marker": {
             "pattern": {
              "fillmode": "overlay",
              "size": 10,
              "solidity": 0.2
             }
            },
            "type": "histogram"
           }
          ],
          "histogram2d": [
           {
            "colorbar": {
             "outlinewidth": 0,
             "ticks": ""
            },
            "colorscale": [
             [
              0,
              "#0d0887"
             ],
             [
              0.1111111111111111,
              "#46039f"
             ],
             [
              0.2222222222222222,
              "#7201a8"
             ],
             [
              0.3333333333333333,
              "#9c179e"
             ],
             [
              0.4444444444444444,
              "#bd3786"
             ],
             [
              0.5555555555555556,
              "#d8576b"
             ],
             [
              0.6666666666666666,
              "#ed7953"
             ],
             [
              0.7777777777777778,
              "#fb9f3a"
             ],
             [
              0.8888888888888888,
              "#fdca26"
             ],
             [
              1,
              "#f0f921"
             ]
            ],
            "type": "histogram2d"
           }
          ],
          "histogram2dcontour": [
           {
            "colorbar": {
             "outlinewidth": 0,
             "ticks": ""
            },
            "colorscale": [
             [
              0,
              "#0d0887"
             ],
             [
              0.1111111111111111,
              "#46039f"
             ],
             [
              0.2222222222222222,
              "#7201a8"
             ],
             [
              0.3333333333333333,
              "#9c179e"
             ],
             [
              0.4444444444444444,
              "#bd3786"
             ],
             [
              0.5555555555555556,
              "#d8576b"
             ],
             [
              0.6666666666666666,
              "#ed7953"
             ],
             [
              0.7777777777777778,
              "#fb9f3a"
             ],
             [
              0.8888888888888888,
              "#fdca26"
             ],
             [
              1,
              "#f0f921"
             ]
            ],
            "type": "histogram2dcontour"
           }
          ],
          "mesh3d": [
           {
            "colorbar": {
             "outlinewidth": 0,
             "ticks": ""
            },
            "type": "mesh3d"
           }
          ],
          "parcoords": [
           {
            "line": {
             "colorbar": {
              "outlinewidth": 0,
              "ticks": ""
             }
            },
            "type": "parcoords"
           }
          ],
          "pie": [
           {
            "automargin": true,
            "type": "pie"
           }
          ],
          "scatter": [
           {
            "fillpattern": {
             "fillmode": "overlay",
             "size": 10,
             "solidity": 0.2
            },
            "type": "scatter"
           }
          ],
          "scatter3d": [
           {
            "line": {
             "colorbar": {
              "outlinewidth": 0,
              "ticks": ""
             }
            },
            "marker": {
             "colorbar": {
              "outlinewidth": 0,
              "ticks": ""
             }
            },
            "type": "scatter3d"
           }
          ],
          "scattercarpet": [
           {
            "marker": {
             "colorbar": {
              "outlinewidth": 0,
              "ticks": ""
             }
            },
            "type": "scattercarpet"
           }
          ],
          "scattergeo": [
           {
            "marker": {
             "colorbar": {
              "outlinewidth": 0,
              "ticks": ""
             }
            },
            "type": "scattergeo"
           }
          ],
          "scattergl": [
           {
            "marker": {
             "colorbar": {
              "outlinewidth": 0,
              "ticks": ""
             }
            },
            "type": "scattergl"
           }
          ],
          "scattermap": [
           {
            "marker": {
             "colorbar": {
              "outlinewidth": 0,
              "ticks": ""
             }
            },
            "type": "scattermap"
           }
          ],
          "scattermapbox": [
           {
            "marker": {
             "colorbar": {
              "outlinewidth": 0,
              "ticks": ""
             }
            },
            "type": "scattermapbox"
           }
          ],
          "scatterpolar": [
           {
            "marker": {
             "colorbar": {
              "outlinewidth": 0,
              "ticks": ""
             }
            },
            "type": "scatterpolar"
           }
          ],
          "scatterpolargl": [
           {
            "marker": {
             "colorbar": {
              "outlinewidth": 0,
              "ticks": ""
             }
            },
            "type": "scatterpolargl"
           }
          ],
          "scatterternary": [
           {
            "marker": {
             "colorbar": {
              "outlinewidth": 0,
              "ticks": ""
             }
            },
            "type": "scatterternary"
           }
          ],
          "surface": [
           {
            "colorbar": {
             "outlinewidth": 0,
             "ticks": ""
            },
            "colorscale": [
             [
              0,
              "#0d0887"
             ],
             [
              0.1111111111111111,
              "#46039f"
             ],
             [
              0.2222222222222222,
              "#7201a8"
             ],
             [
              0.3333333333333333,
              "#9c179e"
             ],
             [
              0.4444444444444444,
              "#bd3786"
             ],
             [
              0.5555555555555556,
              "#d8576b"
             ],
             [
              0.6666666666666666,
              "#ed7953"
             ],
             [
              0.7777777777777778,
              "#fb9f3a"
             ],
             [
              0.8888888888888888,
              "#fdca26"
             ],
             [
              1,
              "#f0f921"
             ]
            ],
            "type": "surface"
           }
          ],
          "table": [
           {
            "cells": {
             "fill": {
              "color": "#EBF0F8"
             },
             "line": {
              "color": "white"
             }
            },
            "header": {
             "fill": {
              "color": "#C8D4E3"
             },
             "line": {
              "color": "white"
             }
            },
            "type": "table"
           }
          ]
         },
         "layout": {
          "annotationdefaults": {
           "arrowcolor": "#2a3f5f",
           "arrowhead": 0,
           "arrowwidth": 1
          },
          "autotypenumbers": "strict",
          "coloraxis": {
           "colorbar": {
            "outlinewidth": 0,
            "ticks": ""
           }
          },
          "colorscale": {
           "diverging": [
            [
             0,
             "#8e0152"
            ],
            [
             0.1,
             "#c51b7d"
            ],
            [
             0.2,
             "#de77ae"
            ],
            [
             0.3,
             "#f1b6da"
            ],
            [
             0.4,
             "#fde0ef"
            ],
            [
             0.5,
             "#f7f7f7"
            ],
            [
             0.6,
             "#e6f5d0"
            ],
            [
             0.7,
             "#b8e186"
            ],
            [
             0.8,
             "#7fbc41"
            ],
            [
             0.9,
             "#4d9221"
            ],
            [
             1,
             "#276419"
            ]
           ],
           "sequential": [
            [
             0,
             "#0d0887"
            ],
            [
             0.1111111111111111,
             "#46039f"
            ],
            [
             0.2222222222222222,
             "#7201a8"
            ],
            [
             0.3333333333333333,
             "#9c179e"
            ],
            [
             0.4444444444444444,
             "#bd3786"
            ],
            [
             0.5555555555555556,
             "#d8576b"
            ],
            [
             0.6666666666666666,
             "#ed7953"
            ],
            [
             0.7777777777777778,
             "#fb9f3a"
            ],
            [
             0.8888888888888888,
             "#fdca26"
            ],
            [
             1,
             "#f0f921"
            ]
           ],
           "sequentialminus": [
            [
             0,
             "#0d0887"
            ],
            [
             0.1111111111111111,
             "#46039f"
            ],
            [
             0.2222222222222222,
             "#7201a8"
            ],
            [
             0.3333333333333333,
             "#9c179e"
            ],
            [
             0.4444444444444444,
             "#bd3786"
            ],
            [
             0.5555555555555556,
             "#d8576b"
            ],
            [
             0.6666666666666666,
             "#ed7953"
            ],
            [
             0.7777777777777778,
             "#fb9f3a"
            ],
            [
             0.8888888888888888,
             "#fdca26"
            ],
            [
             1,
             "#f0f921"
            ]
           ]
          },
          "colorway": [
           "#636efa",
           "#EF553B",
           "#00cc96",
           "#ab63fa",
           "#FFA15A",
           "#19d3f3",
           "#FF6692",
           "#B6E880",
           "#FF97FF",
           "#FECB52"
          ],
          "font": {
           "color": "#2a3f5f"
          },
          "geo": {
           "bgcolor": "white",
           "lakecolor": "white",
           "landcolor": "#E5ECF6",
           "showlakes": true,
           "showland": true,
           "subunitcolor": "white"
          },
          "hoverlabel": {
           "align": "left"
          },
          "hovermode": "closest",
          "mapbox": {
           "style": "light"
          },
          "paper_bgcolor": "white",
          "plot_bgcolor": "#E5ECF6",
          "polar": {
           "angularaxis": {
            "gridcolor": "white",
            "linecolor": "white",
            "ticks": ""
           },
           "bgcolor": "#E5ECF6",
           "radialaxis": {
            "gridcolor": "white",
            "linecolor": "white",
            "ticks": ""
           }
          },
          "scene": {
           "xaxis": {
            "backgroundcolor": "#E5ECF6",
            "gridcolor": "white",
            "gridwidth": 2,
            "linecolor": "white",
            "showbackground": true,
            "ticks": "",
            "zerolinecolor": "white"
           },
           "yaxis": {
            "backgroundcolor": "#E5ECF6",
            "gridcolor": "white",
            "gridwidth": 2,
            "linecolor": "white",
            "showbackground": true,
            "ticks": "",
            "zerolinecolor": "white"
           },
           "zaxis": {
            "backgroundcolor": "#E5ECF6",
            "gridcolor": "white",
            "gridwidth": 2,
            "linecolor": "white",
            "showbackground": true,
            "ticks": "",
            "zerolinecolor": "white"
           }
          },
          "shapedefaults": {
           "line": {
            "color": "#2a3f5f"
           }
          },
          "ternary": {
           "aaxis": {
            "gridcolor": "white",
            "linecolor": "white",
            "ticks": ""
           },
           "baxis": {
            "gridcolor": "white",
            "linecolor": "white",
            "ticks": ""
           },
           "bgcolor": "#E5ECF6",
           "caxis": {
            "gridcolor": "white",
            "linecolor": "white",
            "ticks": ""
           }
          },
          "title": {
           "x": 0.05
          },
          "xaxis": {
           "automargin": true,
           "gridcolor": "white",
           "linecolor": "white",
           "ticks": "",
           "title": {
            "standoff": 15
           },
           "zerolinecolor": "white",
           "zerolinewidth": 2
          },
          "yaxis": {
           "automargin": true,
           "gridcolor": "white",
           "linecolor": "white",
           "ticks": "",
           "title": {
            "standoff": 15
           },
           "zerolinecolor": "white",
           "zerolinewidth": 2
          }
         }
        }
       }
      },
      "image/png": "[encoded data removed]"
     },
     "metadata": {},
     "output_type": "display_data"
    }
   ],
   "source": [
    "fig = go.Figure(data=go.Scatter(x=t, y=y, mode=\"lines+markers\"))\n",
    "fig.show()"
   ]
  },
  {
   "cell_type": "code",
   "execution_count": 34,
   "id": "918aab31-835b-4755-9276-cb28aab35b78",
   "metadata": {},
   "outputs": [],
   "source": [
    "N = 100\n",
    "x = np.linspace(0, 1, N)\n",
    "random_y0 = np.random.randn(N) + 5\n",
    "random_y1 = np.random.randn(N)\n",
    "random_y2 = np.random.randn(N) - 5\n"
   ]
  },
  {
   "cell_type": "code",
   "execution_count": 35,
   "id": "5ea90b1a-dfee-443d-a0c0-1219beb75853",
   "metadata": {},
   "outputs": [
    {
     "data": {
      "application/vnd.plotly.v1+json": {
       "config": {
        "plotlyServerURL": "https://plot.ly"
       },
       "data": [
        {
         "mode": "markers",
         "name": "markers",
         "type": "scatter",
         "x": {
          "bdata": "AAAAAAAAAABbv1Kg1q+EP1u/UqDWr5Q/CB988MEHnz9bv1Kg1q+kPzJvZ0jM26k/CB988MEHrz9wZ0jM2xmyP1u/UqDWr7Q/RhdddNFFtz8yb2dIzNu5Px3HcRzHcbw/CB988MEHvz96O0Ni3s7AP3BnSMzbGcI/ZZNNNtlkwz9bv1Kg1q/EP1HrVwrU+sU/RhdddNFFxz88Q2LezpDIPzJvZ0jM28k/J5tssskmyz8dx3Ecx3HMPxPzdobEvM0/CB988MEHzz9/pUCtXynQP3o7Q2LeztA/ddFFF1100T9wZ0jM2xnSP2r9SoFav9I/ZZNNNtlk0z9gKVDrVwrUP1u/UqDWr9Q/VlVVVVVV1T9R61cK1PrVP0yBWr9SoNY/RhdddNFF1z9BrV8pUOvXPzxDYt7OkNg/N9lkk0022T8yb2dIzNvZPy0Fav1Kgdo/J5tssskm2z8iMW9nSMzbPx3HcRzHcdw/GF100UUX3T8T83aGxLzdPw6JeTtDYt4/CB988MEH3z8DtX6lQK3fP3+lQK1fKeA/ffDBBx984D96O0Ni3s7gP3eGxLydIeE/ddFFF1104T9yHMdxHMfhP3BnSMzbGeI/bbLJJpts4j9q/UqBWr/iP2hIzNsZEuM/ZZNNNtlk4z9j3s6QmLfjP2ApUOtXCuQ/XnTRRRdd5D9bv1Kg1q/kP1gK1PqVAuU/VlVVVVVV5T9ToNavFKjlP1HrVwrU+uU/TjbZZJNN5j9MgVq/UqDmP0nM2xkS8+Y/RhdddNFF5z9EYt7OkJjnP0GtXylQ6+c/P/jggw8+6D88Q2LezpDoPzmO4ziO4+g/N9lkk0026T80JObtDInpPzJvZ0jM2+k/L7rooosu6j8tBWr9SoHqPypQ61cK1Oo/J5tssskm6z8l5u0MiXnrPyIxb2dIzOs/IHzwwQcf7D8dx3Ecx3HsPxsS83aGxOw/GF100UUX7T8VqPUrBWrtPxPzdobEvO0/ED744IMP7j8OiXk7Q2LuPwvU+pUCte4/CB988MEH7z8Gav1KgVrvPwO1fqVAre8/AAAAAAAA8D8=",
          "dtype": "f8"
         },
         "y": {
          "bdata": "lR1o7vGQGEBm20p2C0MQQNycMAqz2xRAUfOAYrPGFEAcz8UQ2TgRQP9yyVdJCxVA2vSvw7EBGUAYDMx3B28dQF/JLyldiBhA/cQ8jKjdFEDAG7g8eD8VQE/u6sFPIQpAG9CNGTZCFEAg7FJL61cRQIyctuJc5xZA9H9GSVyFF0CUdRUurM0ZQEtik27tIBdAyRxRIWlPEkDk/lhdjaYSQPC9HD8PCBhABc8wlLnXFECdd5NJukMaQNnfHIEd6RRAridl2Ie7B0DyO/6HAkoIQBbMBJxf4xpAzFluFaeFEUDx7jM1B3gTQDZrBXP2rxZAvJkkoEwRDUA2gHGJp6QBQALxmqoMwxVA5BOtYA6ZEUDEmFaoqKQSQGTwZXkJlh1ASEP9O+gYFEAfIIl2vTMVQIOHuXUZcQ1APPqMMR7kFkCqvRR8Jp0VQM82W7NDihFACskEqS+UFkCkBPoau4oXQODP6DHaDA9A1Hfg21XIEECMNmeJ+MgZQIX/ZGdVFRRAal51uRpXBkDuQCT3t1MWQGD1j0se4xJAqvScYYq5FkDgAbW2sngTQHiXu7bJeBFAqYwq6dx6FECZJ53eA8EXQH41CuJsTB1AUrjOSuMiCEBWAyxZ12AXQGQ9mDLnQx9Agu5z7h4JFkA1aX5gUNoZQHziWOPf2BJAKZwo+OfaDEDl+d5uaKIUQHrqA+5EOBRAWOODMLFAFEDD5/QcE7AUQHd/6+1FBxdA5kRf21k6FkDbd9b+bGwaQMFWelLX5RFA2AxUxewZF0BbSmnf2DEVQCuI5ICQUhRAZyURuJl/EECbq6Hef/cXQAcfq07DLxVAv241Ml/dFUC72c7+yiYVQPB3L9UC7RZAG27zZ32jFkC6zT4nhxkQQBG6a6bhEhVAg27CUn72EEA2nOPlPLcRQGJ3re/aMhhATN9bXfaOEkA9ViFh1P4TQMd9ah9g3RNAwxsU26NbDkCtmpwaaDUTQNgYfvzZohBAdgIND7xBFkAvDQBopCASQIBTy/WX9QxABoWriFa/DkAlNfUqIHERQIHE/Y7jGhRAcEBwNfWiDkA=",
          "dtype": "f8"
         }
        },
        {
         "mode": "lines+markers",
         "name": "lines+markers",
         "type": "scatter",
         "x": {
          "bdata": "AAAAAAAAAABbv1Kg1q+EP1u/UqDWr5Q/CB988MEHnz9bv1Kg1q+kPzJvZ0jM26k/CB988MEHrz9wZ0jM2xmyP1u/UqDWr7Q/RhdddNFFtz8yb2dIzNu5Px3HcRzHcbw/CB988MEHvz96O0Ni3s7AP3BnSMzbGcI/ZZNNNtlkwz9bv1Kg1q/EP1HrVwrU+sU/RhdddNFFxz88Q2LezpDIPzJvZ0jM28k/J5tssskmyz8dx3Ecx3HMPxPzdobEvM0/CB988MEHzz9/pUCtXynQP3o7Q2LeztA/ddFFF1100T9wZ0jM2xnSP2r9SoFav9I/ZZNNNtlk0z9gKVDrVwrUP1u/UqDWr9Q/VlVVVVVV1T9R61cK1PrVP0yBWr9SoNY/RhdddNFF1z9BrV8pUOvXPzxDYt7OkNg/N9lkk0022T8yb2dIzNvZPy0Fav1Kgdo/J5tssskm2z8iMW9nSMzbPx3HcRzHcdw/GF100UUX3T8T83aGxLzdPw6JeTtDYt4/CB988MEH3z8DtX6lQK3fP3+lQK1fKeA/ffDBBx984D96O0Ni3s7gP3eGxLydIeE/ddFFF1104T9yHMdxHMfhP3BnSMzbGeI/bbLJJpts4j9q/UqBWr/iP2hIzNsZEuM/ZZNNNtlk4z9j3s6QmLfjP2ApUOtXCuQ/XnTRRRdd5D9bv1Kg1q/kP1gK1PqVAuU/VlVVVVVV5T9ToNavFKjlP1HrVwrU+uU/TjbZZJNN5j9MgVq/UqDmP0nM2xkS8+Y/RhdddNFF5z9EYt7OkJjnP0GtXylQ6+c/P/jggw8+6D88Q2LezpDoPzmO4ziO4+g/N9lkk0026T80JObtDInpPzJvZ0jM2+k/L7rooosu6j8tBWr9SoHqPypQ61cK1Oo/J5tssskm6z8l5u0MiXnrPyIxb2dIzOs/IHzwwQcf7D8dx3Ecx3HsPxsS83aGxOw/GF100UUX7T8VqPUrBWrtPxPzdobEvO0/ED744IMP7j8OiXk7Q2LuPwvU+pUCte4/CB988MEH7z8Gav1KgVrvPwO1fqVAre8/AAAAAAAA8D8=",
          "dtype": "f8"
         },
         "y": {
          "bdata": "QJcABmsh8j/yWgLaBOjkPxfLQONqv+2/HkHq9sPa1L+YTR2j1VfBP2TzTcGxp8M/mCTDdXt6+D8J90m6KM7OP5iFlpCnSfc/nSJCwoaK5z9d42QG3MnPP0+vaVwM9Lm/hkhvvPXW4z8wgEIdZUX8v+s2I1UYIQvAG+ZByuJ09T8VH/ORhI/Uvz6gcMQYZPU/bRlIAY4Y3D9VTwMYAB7RP8QWflWZHPQ/UxoAqf859T96E+hds4XtP38nlDf9vOY/FjZ32oF47L8Bkba9qqfwv5IpCwlMeOo/k/DUo7bk3b/QyggzTsPqvy6cXhJ4OYc/NWymaP4Y+j/CHn5d957eP3TuDHxTxuM/9ssuhNhu0b+41XYn6DXmvwU6cJux/W6/6uI8zvqW+j/XMQC2EW3gP+SNZwhSBuA/5v9MndGo97+XVZCPOlHXv2XY0qfQoMo/L3qLAn310b9nv58aVNT0v5L6a3SoCMq//u26JsZR+78i821aA6AAQMGqeQrFSvk/JUbDg0Mw4r9nMuklr6nlP550tbfEotw/sV+EdMh46L/+cnBn/DrgP/bHzsjbMsE/cpPxMFzy3L+g2tKQIO7xP+PixiH1Mtm/Wbg/VR2H5z9n1Pg5sFnsP5R+JP6EO+S/PU2hCcOo2D9kmA8aptnFv++HA3W4WtU/vJ2ArqLW9b/dnNPLVWjaP3Ab0IrO5/m/0TAjiXcm5L/u4QuQZEPpP7mssO9DuPq/T30gdp2R9D8jJa1zYq7oP8Pwq0hxQd4/cffYSxzOxz93Blru3tTEvyo8M4+DF9g/GXzNcU9n7j+6O56GxRwGwBuDtfAQ6dy/o+yJL3nJ2T+QKM8Er2OaPzdnnwi05PG/yxCPKrMJ1b/RmlIvO4PoP3gUFcGRm/K/gFJan+lh7L/axfxefYDdP8SAz47vHv0/2FY3Bjl29L8whdJRGxTcv61dafFDYPE/MHTH5wEnxb9KdmS7WArwP7URs5AR0Pa/Ym/hI1qAxr+reNsK5ijiP4ZN4to7WdG/1nAL9Nlojb/uUi+p6JHsP1jZ9TdrAQFAn64JH5eMqb8=",
          "dtype": "f8"
         }
        },
        {
         "mode": "lines",
         "name": "lines",
         "type": "scatter",
         "x": {
          "bdata": "AAAAAAAAAABbv1Kg1q+EP1u/UqDWr5Q/CB988MEHnz9bv1Kg1q+kPzJvZ0jM26k/CB988MEHrz9wZ0jM2xmyP1u/UqDWr7Q/RhdddNFFtz8yb2dIzNu5Px3HcRzHcbw/CB988MEHvz96O0Ni3s7AP3BnSMzbGcI/ZZNNNtlkwz9bv1Kg1q/EP1HrVwrU+sU/RhdddNFFxz88Q2LezpDIPzJvZ0jM28k/J5tssskmyz8dx3Ecx3HMPxPzdobEvM0/CB988MEHzz9/pUCtXynQP3o7Q2LeztA/ddFFF1100T9wZ0jM2xnSP2r9SoFav9I/ZZNNNtlk0z9gKVDrVwrUP1u/UqDWr9Q/VlVVVVVV1T9R61cK1PrVP0yBWr9SoNY/RhdddNFF1z9BrV8pUOvXPzxDYt7OkNg/N9lkk0022T8yb2dIzNvZPy0Fav1Kgdo/J5tssskm2z8iMW9nSMzbPx3HcRzHcdw/GF100UUX3T8T83aGxLzdPw6JeTtDYt4/CB988MEH3z8DtX6lQK3fP3+lQK1fKeA/ffDBBx984D96O0Ni3s7gP3eGxLydIeE/ddFFF1104T9yHMdxHMfhP3BnSMzbGeI/bbLJJpts4j9q/UqBWr/iP2hIzNsZEuM/ZZNNNtlk4z9j3s6QmLfjP2ApUOtXCuQ/XnTRRRdd5D9bv1Kg1q/kP1gK1PqVAuU/VlVVVVVV5T9ToNavFKjlP1HrVwrU+uU/TjbZZJNN5j9MgVq/UqDmP0nM2xkS8+Y/RhdddNFF5z9EYt7OkJjnP0GtXylQ6+c/P/jggw8+6D88Q2LezpDoPzmO4ziO4+g/N9lkk0026T80JObtDInpPzJvZ0jM2+k/L7rooosu6j8tBWr9SoHqPypQ61cK1Oo/J5tssskm6z8l5u0MiXnrPyIxb2dIzOs/IHzwwQcf7D8dx3Ecx3HsPxsS83aGxOw/GF100UUX7T8VqPUrBWrtPxPzdobEvO0/ED744IMP7j8OiXk7Q2LuPwvU+pUCte4/CB988MEH7z8Gav1KgVrvPwO1fqVAre8/AAAAAAAA8D8=",
          "dtype": "f8"
         },
         "y": {
          "bdata": "mUkHdhIpGsBfO0hUEDATwH9Dq277igjAf39LA8K8FsC8RuwEnEAZwJuJXZCvTxDAIXz8IBHsE8CbGK4VKd4WwPU8w6ReBBfAK9HDM3ebFsAsuQoe4VcTwB5HZnQlgBXAX+1qpHWjEMCtlkH5Zt0RwLv/Bs73OBLAbnzMag8JCsD9amPhjawFwG7PiWPUjQvAEPaTI4xsGMDkexDazlIQwL5CJXOjdA/AgEG+MZEdEMBiuVhRnF8TwL3NlxMQHBLA3FCDCtyuGMDVoXGwt0EXwBrwfAI5XhPADOQWoRHwFMDeubpfewcWwKgN81hUXhTAH9onnWxfCcAOau+Zk5kSwHCS2C2afRDAjBB0z68dFcBv51dOapYPwC2GLpn15hXAxjay702NEsCiJR/4jsYNwF1GSAqQzhjAT4itth49EcCVRw7zjMkQwFT7LFXJahvAnh2AmM8EEcAw0GSl4lEJwDVPIF81uBfAPvXUvSNYEcCV9fccgqgVwPMdmTRYtRTAzIHRPKCCCsA2GQkewU8UwO60F19lZxTA8Dic2WgMFcCn7+4J1X8UwDAr6Kjh+RfAUsR8wnsMF8C8Tpuodm0TwKY1Yv/twQnAdyJmZlOPEsCX/HxjnRARwPiaQGF7yhbA/1ZPyv1bEMD+191XSfITwNgRZ7bTgxHA+Dizw6RvDMCxY0RHzjgPwLpweZyJfxPAou9NbWqXFsCS9op/vC8awDDquDLa7hjATyCH0U7yEcCMt81/nIwQwOTOBCz1lxPAQfmelqMmEcBoFWC96i4TwPZvXaeOoxTA+m5ul9whEcAy87qGzesYwLjiQp/UBxbAVMQIV6GTGMCq9bNq2HoVwFDoYUBsZhfA73ajdoarFsCdyBnI4woUwA8LrQPpixLAJgpIAhmBC8D44VFRVCQUwMgDVFsbLxjAZieKGQPeF8DCBL8rHWQMwKmDrDqqWRXAXLI4EHlRHsAC2+lKLoodwNp9/RN+PRXAmh2+2s3rGcDm0Z5LAq4YwBqNGiRXARfAbCYfEumdF8DpoQs6oh4VwECcoCvbdAHAarIGK9hGDcA=",
          "dtype": "f8"
         }
        }
       ],
       "layout": {
        "template": {
         "data": {
          "bar": [
           {
            "error_x": {
             "color": "#2a3f5f"
            },
            "error_y": {
             "color": "#2a3f5f"
            },
            "marker": {
             "line": {
              "color": "#E5ECF6",
              "width": 0.5
             },
             "pattern": {
              "fillmode": "overlay",
              "size": 10,
              "solidity": 0.2
             }
            },
            "type": "bar"
           }
          ],
          "barpolar": [
           {
            "marker": {
             "line": {
              "color": "#E5ECF6",
              "width": 0.5
             },
             "pattern": {
              "fillmode": "overlay",
              "size": 10,
              "solidity": 0.2
             }
            },
            "type": "barpolar"
           }
          ],
          "carpet": [
           {
            "aaxis": {
             "endlinecolor": "#2a3f5f",
             "gridcolor": "white",
             "linecolor": "white",
             "minorgridcolor": "white",
             "startlinecolor": "#2a3f5f"
            },
            "baxis": {
             "endlinecolor": "#2a3f5f",
             "gridcolor": "white",
             "linecolor": "white",
             "minorgridcolor": "white",
             "startlinecolor": "#2a3f5f"
            },
            "type": "carpet"
           }
          ],
          "choropleth": [
           {
            "colorbar": {
             "outlinewidth": 0,
             "ticks": ""
            },
            "type": "choropleth"
           }
          ],
          "contour": [
           {
            "colorbar": {
             "outlinewidth": 0,
             "ticks": ""
            },
            "colorscale": [
             [
              0,
              "#0d0887"
             ],
             [
              0.1111111111111111,
              "#46039f"
             ],
             [
              0.2222222222222222,
              "#7201a8"
             ],
             [
              0.3333333333333333,
              "#9c179e"
             ],
             [
              0.4444444444444444,
              "#bd3786"
             ],
             [
              0.5555555555555556,
              "#d8576b"
             ],
             [
              0.6666666666666666,
              "#ed7953"
             ],
             [
              0.7777777777777778,
              "#fb9f3a"
             ],
             [
              0.8888888888888888,
              "#fdca26"
             ],
             [
              1,
              "#f0f921"
             ]
            ],
            "type": "contour"
           }
          ],
          "contourcarpet": [
           {
            "colorbar": {
             "outlinewidth": 0,
             "ticks": ""
            },
            "type": "contourcarpet"
           }
          ],
          "heatmap": [
           {
            "colorbar": {
             "outlinewidth": 0,
             "ticks": ""
            },
            "colorscale": [
             [
              0,
              "#0d0887"
             ],
             [
              0.1111111111111111,
              "#46039f"
             ],
             [
              0.2222222222222222,
              "#7201a8"
             ],
             [
              0.3333333333333333,
              "#9c179e"
             ],
             [
              0.4444444444444444,
              "#bd3786"
             ],
             [
              0.5555555555555556,
              "#d8576b"
             ],
             [
              0.6666666666666666,
              "#ed7953"
             ],
             [
              0.7777777777777778,
              "#fb9f3a"
             ],
             [
              0.8888888888888888,
              "#fdca26"
             ],
             [
              1,
              "#f0f921"
             ]
            ],
            "type": "heatmap"
           }
          ],
          "histogram": [
           {
            "marker": {
             "pattern": {
              "fillmode": "overlay",
              "size": 10,
              "solidity": 0.2
             }
            },
            "type": "histogram"
           }
          ],
          "histogram2d": [
           {
            "colorbar": {
             "outlinewidth": 0,
             "ticks": ""
            },
            "colorscale": [
             [
              0,
              "#0d0887"
             ],
             [
              0.1111111111111111,
              "#46039f"
             ],
             [
              0.2222222222222222,
              "#7201a8"
             ],
             [
              0.3333333333333333,
              "#9c179e"
             ],
             [
              0.4444444444444444,
              "#bd3786"
             ],
             [
              0.5555555555555556,
              "#d8576b"
             ],
             [
              0.6666666666666666,
              "#ed7953"
             ],
             [
              0.7777777777777778,
              "#fb9f3a"
             ],
             [
              0.8888888888888888,
              "#fdca26"
             ],
             [
              1,
              "#f0f921"
             ]
            ],
            "type": "histogram2d"
           }
          ],
          "histogram2dcontour": [
           {
            "colorbar": {
             "outlinewidth": 0,
             "ticks": ""
            },
            "colorscale": [
             [
              0,
              "#0d0887"
             ],
             [
              0.1111111111111111,
              "#46039f"
             ],
             [
              0.2222222222222222,
              "#7201a8"
             ],
             [
              0.3333333333333333,
              "#9c179e"
             ],
             [
              0.4444444444444444,
              "#bd3786"
             ],
             [
              0.5555555555555556,
              "#d8576b"
             ],
             [
              0.6666666666666666,
              "#ed7953"
             ],
             [
              0.7777777777777778,
              "#fb9f3a"
             ],
             [
              0.8888888888888888,
              "#fdca26"
             ],
             [
              1,
              "#f0f921"
             ]
            ],
            "type": "histogram2dcontour"
           }
          ],
          "mesh3d": [
           {
            "colorbar": {
             "outlinewidth": 0,
             "ticks": ""
            },
            "type": "mesh3d"
           }
          ],
          "parcoords": [
           {
            "line": {
             "colorbar": {
              "outlinewidth": 0,
              "ticks": ""
             }
            },
            "type": "parcoords"
           }
          ],
          "pie": [
           {
            "automargin": true,
            "type": "pie"
           }
          ],
          "scatter": [
           {
            "fillpattern": {
             "fillmode": "overlay",
             "size": 10,
             "solidity": 0.2
            },
            "type": "scatter"
           }
          ],
          "scatter3d": [
           {
            "line": {
             "colorbar": {
              "outlinewidth": 0,
              "ticks": ""
             }
            },
            "marker": {
             "colorbar": {
              "outlinewidth": 0,
              "ticks": ""
             }
            },
            "type": "scatter3d"
           }
          ],
          "scattercarpet": [
           {
            "marker": {
             "colorbar": {
              "outlinewidth": 0,
              "ticks": ""
             }
            },
            "type": "scattercarpet"
           }
          ],
          "scattergeo": [
           {
            "marker": {
             "colorbar": {
              "outlinewidth": 0,
              "ticks": ""
             }
            },
            "type": "scattergeo"
           }
          ],
          "scattergl": [
           {
            "marker": {
             "colorbar": {
              "outlinewidth": 0,
              "ticks": ""
             }
            },
            "type": "scattergl"
           }
          ],
          "scattermap": [
           {
            "marker": {
             "colorbar": {
              "outlinewidth": 0,
              "ticks": ""
             }
            },
            "type": "scattermap"
           }
          ],
          "scattermapbox": [
           {
            "marker": {
             "colorbar": {
              "outlinewidth": 0,
              "ticks": ""
             }
            },
            "type": "scattermapbox"
           }
          ],
          "scatterpolar": [
           {
            "marker": {
             "colorbar": {
              "outlinewidth": 0,
              "ticks": ""
             }
            },
            "type": "scatterpolar"
           }
          ],
          "scatterpolargl": [
           {
            "marker": {
             "colorbar": {
              "outlinewidth": 0,
              "ticks": ""
             }
            },
            "type": "scatterpolargl"
           }
          ],
          "scatterternary": [
           {
            "marker": {
             "colorbar": {
              "outlinewidth": 0,
              "ticks": ""
             }
            },
            "type": "scatterternary"
           }
          ],
          "surface": [
           {
            "colorbar": {
             "outlinewidth": 0,
             "ticks": ""
            },
            "colorscale": [
             [
              0,
              "#0d0887"
             ],
             [
              0.1111111111111111,
              "#46039f"
             ],
             [
              0.2222222222222222,
              "#7201a8"
             ],
             [
              0.3333333333333333,
              "#9c179e"
             ],
             [
              0.4444444444444444,
              "#bd3786"
             ],
             [
              0.5555555555555556,
              "#d8576b"
             ],
             [
              0.6666666666666666,
              "#ed7953"
             ],
             [
              0.7777777777777778,
              "#fb9f3a"
             ],
             [
              0.8888888888888888,
              "#fdca26"
             ],
             [
              1,
              "#f0f921"
             ]
            ],
            "type": "surface"
           }
          ],
          "table": [
           {
            "cells": {
             "fill": {
              "color": "#EBF0F8"
             },
             "line": {
              "color": "white"
             }
            },
            "header": {
             "fill": {
              "color": "#C8D4E3"
             },
             "line": {
              "color": "white"
             }
            },
            "type": "table"
           }
          ]
         },
         "layout": {
          "annotationdefaults": {
           "arrowcolor": "#2a3f5f",
           "arrowhead": 0,
           "arrowwidth": 1
          },
          "autotypenumbers": "strict",
          "coloraxis": {
           "colorbar": {
            "outlinewidth": 0,
            "ticks": ""
           }
          },
          "colorscale": {
           "diverging": [
            [
             0,
             "#8e0152"
            ],
            [
             0.1,
             "#c51b7d"
            ],
            [
             0.2,
             "#de77ae"
            ],
            [
             0.3,
             "#f1b6da"
            ],
            [
             0.4,
             "#fde0ef"
            ],
            [
             0.5,
             "#f7f7f7"
            ],
            [
             0.6,
             "#e6f5d0"
            ],
            [
             0.7,
             "#b8e186"
            ],
            [
             0.8,
             "#7fbc41"
            ],
            [
             0.9,
             "#4d9221"
            ],
            [
             1,
             "#276419"
            ]
           ],
           "sequential": [
            [
             0,
             "#0d0887"
            ],
            [
             0.1111111111111111,
             "#46039f"
            ],
            [
             0.2222222222222222,
             "#7201a8"
            ],
            [
             0.3333333333333333,
             "#9c179e"
            ],
            [
             0.4444444444444444,
             "#bd3786"
            ],
            [
             0.5555555555555556,
             "#d8576b"
            ],
            [
             0.6666666666666666,
             "#ed7953"
            ],
            [
             0.7777777777777778,
             "#fb9f3a"
            ],
            [
             0.8888888888888888,
             "#fdca26"
            ],
            [
             1,
             "#f0f921"
            ]
           ],
           "sequentialminus": [
            [
             0,
             "#0d0887"
            ],
            [
             0.1111111111111111,
             "#46039f"
            ],
            [
             0.2222222222222222,
             "#7201a8"
            ],
            [
             0.3333333333333333,
             "#9c179e"
            ],
            [
             0.4444444444444444,
             "#bd3786"
            ],
            [
             0.5555555555555556,
             "#d8576b"
            ],
            [
             0.6666666666666666,
             "#ed7953"
            ],
            [
             0.7777777777777778,
             "#fb9f3a"
            ],
            [
             0.8888888888888888,
             "#fdca26"
            ],
            [
             1,
             "#f0f921"
            ]
           ]
          },
          "colorway": [
           "#636efa",
           "#EF553B",
           "#00cc96",
           "#ab63fa",
           "#FFA15A",
           "#19d3f3",
           "#FF6692",
           "#B6E880",
           "#FF97FF",
           "#FECB52"
          ],
          "font": {
           "color": "#2a3f5f"
          },
          "geo": {
           "bgcolor": "white",
           "lakecolor": "white",
           "landcolor": "#E5ECF6",
           "showlakes": true,
           "showland": true,
           "subunitcolor": "white"
          },
          "hoverlabel": {
           "align": "left"
          },
          "hovermode": "closest",
          "mapbox": {
           "style": "light"
          },
          "paper_bgcolor": "white",
          "plot_bgcolor": "#E5ECF6",
          "polar": {
           "angularaxis": {
            "gridcolor": "white",
            "linecolor": "white",
            "ticks": ""
           },
           "bgcolor": "#E5ECF6",
           "radialaxis": {
            "gridcolor": "white",
            "linecolor": "white",
            "ticks": ""
           }
          },
          "scene": {
           "xaxis": {
            "backgroundcolor": "#E5ECF6",
            "gridcolor": "white",
            "gridwidth": 2,
            "linecolor": "white",
            "showbackground": true,
            "ticks": "",
            "zerolinecolor": "white"
           },
           "yaxis": {
            "backgroundcolor": "#E5ECF6",
            "gridcolor": "white",
            "gridwidth": 2,
            "linecolor": "white",
            "showbackground": true,
            "ticks": "",
            "zerolinecolor": "white"
           },
           "zaxis": {
            "backgroundcolor": "#E5ECF6",
            "gridcolor": "white",
            "gridwidth": 2,
            "linecolor": "white",
            "showbackground": true,
            "ticks": "",
            "zerolinecolor": "white"
           }
          },
          "shapedefaults": {
           "line": {
            "color": "#2a3f5f"
           }
          },
          "ternary": {
           "aaxis": {
            "gridcolor": "white",
            "linecolor": "white",
            "ticks": ""
           },
           "baxis": {
            "gridcolor": "white",
            "linecolor": "white",
            "ticks": ""
           },
           "bgcolor": "#E5ECF6",
           "caxis": {
            "gridcolor": "white",
            "linecolor": "white",
            "ticks": ""
           }
          },
          "title": {
           "x": 0.05
          },
          "xaxis": {
           "automargin": true,
           "gridcolor": "white",
           "linecolor": "white",
           "ticks": "",
           "title": {
            "standoff": 15
           },
           "zerolinecolor": "white",
           "zerolinewidth": 2
          },
          "yaxis": {
           "automargin": true,
           "gridcolor": "white",
           "linecolor": "white",
           "ticks": "",
           "title": {
            "standoff": 15
           },
           "zerolinecolor": "white",
           "zerolinewidth": 2
          }
         }
        }
       }
      },
      "image/png": "[encoded data removed]"
     },
     "metadata": {},
     "output_type": "display_data"
    }
   ],
   "source": [
    "fig = go.Figure()\n",
    "\n",
    "fig.add_traces(go.Scatter(x=x, y=random_y0, mode=\"markers\", name=\"markers\"))\n",
    "\n",
    "fig.add_traces(go.Scatter(x=x, y=random_y1, mode=\"lines+markers\", name=\"lines+markers\"))\n",
    "\n",
    "fig.add_traces(go.Scatter(x=x, y=random_y2, mode=\"lines\", name=\"lines\"))"
   ]
  },
  {
   "cell_type": "markdown",
   "id": "c3b0162c-0a35-4662-99ee-9e96de30dd9b",
   "metadata": {},
   "source": [
    "## Bar Charts"
   ]
  },
  {
   "cell_type": "code",
   "execution_count": 1,
   "id": "6b287520-b6dd-43b7-95ae-a968cfd582e1",
   "metadata": {},
   "outputs": [],
   "source": [
    "import plotly.graph_objects as go\n",
    "\n",
    "animais = ['Girafas', 'Macacos', 'Tigres']"
   ]
  },
  {
   "cell_type": "code",
   "execution_count": 4,
   "id": "0c92067b-19e3-40a0-a7f7-c915075546ed",
   "metadata": {},
   "outputs": [
    {
     "data": {
      "application/vnd.plotly.v1+json": {
       "config": {
        "plotlyServerURL": "https://plot.ly"
       },
       "data": [
        {
         "name": "Zoo RJ",
         "type": "bar",
         "x": [
          "Girafas",
          "Macacos",
          "Tigres"
         ],
         "y": [
          3,
          120,
          6
         ]
        },
        {
         "name": "Zoo RS",
         "type": "bar",
         "x": [
          "Girafas",
          "Macacos",
          "Tigres"
         ],
         "y": [
          1,
          40,
          2
         ]
        }
       ],
       "layout": {
        "barmode": "stack",
        "template": {
         "data": {
          "bar": [
           {
            "error_x": {
             "color": "#2a3f5f"
            },
            "error_y": {
             "color": "#2a3f5f"
            },
            "marker": {
             "line": {
              "color": "#E5ECF6",
              "width": 0.5
             },
             "pattern": {
              "fillmode": "overlay",
              "size": 10,
              "solidity": 0.2
             }
            },
            "type": "bar"
           }
          ],
          "barpolar": [
           {
            "marker": {
             "line": {
              "color": "#E5ECF6",
              "width": 0.5
             },
             "pattern": {
              "fillmode": "overlay",
              "size": 10,
              "solidity": 0.2
             }
            },
            "type": "barpolar"
           }
          ],
          "carpet": [
           {
            "aaxis": {
             "endlinecolor": "#2a3f5f",
             "gridcolor": "white",
             "linecolor": "white",
             "minorgridcolor": "white",
             "startlinecolor": "#2a3f5f"
            },
            "baxis": {
             "endlinecolor": "#2a3f5f",
             "gridcolor": "white",
             "linecolor": "white",
             "minorgridcolor": "white",
             "startlinecolor": "#2a3f5f"
            },
            "type": "carpet"
           }
          ],
          "choropleth": [
           {
            "colorbar": {
             "outlinewidth": 0,
             "ticks": ""
            },
            "type": "choropleth"
           }
          ],
          "contour": [
           {
            "colorbar": {
             "outlinewidth": 0,
             "ticks": ""
            },
            "colorscale": [
             [
              0,
              "#0d0887"
             ],
             [
              0.1111111111111111,
              "#46039f"
             ],
             [
              0.2222222222222222,
              "#7201a8"
             ],
             [
              0.3333333333333333,
              "#9c179e"
             ],
             [
              0.4444444444444444,
              "#bd3786"
             ],
             [
              0.5555555555555556,
              "#d8576b"
             ],
             [
              0.6666666666666666,
              "#ed7953"
             ],
             [
              0.7777777777777778,
              "#fb9f3a"
             ],
             [
              0.8888888888888888,
              "#fdca26"
             ],
             [
              1,
              "#f0f921"
             ]
            ],
            "type": "contour"
           }
          ],
          "contourcarpet": [
           {
            "colorbar": {
             "outlinewidth": 0,
             "ticks": ""
            },
            "type": "contourcarpet"
           }
          ],
          "heatmap": [
           {
            "colorbar": {
             "outlinewidth": 0,
             "ticks": ""
            },
            "colorscale": [
             [
              0,
              "#0d0887"
             ],
             [
              0.1111111111111111,
              "#46039f"
             ],
             [
              0.2222222222222222,
              "#7201a8"
             ],
             [
              0.3333333333333333,
              "#9c179e"
             ],
             [
              0.4444444444444444,
              "#bd3786"
             ],
             [
              0.5555555555555556,
              "#d8576b"
             ],
             [
              0.6666666666666666,
              "#ed7953"
             ],
             [
              0.7777777777777778,
              "#fb9f3a"
             ],
             [
              0.8888888888888888,
              "#fdca26"
             ],
             [
              1,
              "#f0f921"
             ]
            ],
            "type": "heatmap"
           }
          ],
          "histogram": [
           {
            "marker": {
             "pattern": {
              "fillmode": "overlay",
              "size": 10,
              "solidity": 0.2
             }
            },
            "type": "histogram"
           }
          ],
          "histogram2d": [
           {
            "colorbar": {
             "outlinewidth": 0,
             "ticks": ""
            },
            "colorscale": [
             [
              0,
              "#0d0887"
             ],
             [
              0.1111111111111111,
              "#46039f"
             ],
             [
              0.2222222222222222,
              "#7201a8"
             ],
             [
              0.3333333333333333,
              "#9c179e"
             ],
             [
              0.4444444444444444,
              "#bd3786"
             ],
             [
              0.5555555555555556,
              "#d8576b"
             ],
             [
              0.6666666666666666,
              "#ed7953"
             ],
             [
              0.7777777777777778,
              "#fb9f3a"
             ],
             [
              0.8888888888888888,
              "#fdca26"
             ],
             [
              1,
              "#f0f921"
             ]
            ],
            "type": "histogram2d"
           }
          ],
          "histogram2dcontour": [
           {
            "colorbar": {
             "outlinewidth": 0,
             "ticks": ""
            },
            "colorscale": [
             [
              0,
              "#0d0887"
             ],
             [
              0.1111111111111111,
              "#46039f"
             ],
             [
              0.2222222222222222,
              "#7201a8"
             ],
             [
              0.3333333333333333,
              "#9c179e"
             ],
             [
              0.4444444444444444,
              "#bd3786"
             ],
             [
              0.5555555555555556,
              "#d8576b"
             ],
             [
              0.6666666666666666,
              "#ed7953"
             ],
             [
              0.7777777777777778,
              "#fb9f3a"
             ],
             [
              0.8888888888888888,
              "#fdca26"
             ],
             [
              1,
              "#f0f921"
             ]
            ],
            "type": "histogram2dcontour"
           }
          ],
          "mesh3d": [
           {
            "colorbar": {
             "outlinewidth": 0,
             "ticks": ""
            },
            "type": "mesh3d"
           }
          ],
          "parcoords": [
           {
            "line": {
             "colorbar": {
              "outlinewidth": 0,
              "ticks": ""
             }
            },
            "type": "parcoords"
           }
          ],
          "pie": [
           {
            "automargin": true,
            "type": "pie"
           }
          ],
          "scatter": [
           {
            "fillpattern": {
             "fillmode": "overlay",
             "size": 10,
             "solidity": 0.2
            },
            "type": "scatter"
           }
          ],
          "scatter3d": [
           {
            "line": {
             "colorbar": {
              "outlinewidth": 0,
              "ticks": ""
             }
            },
            "marker": {
             "colorbar": {
              "outlinewidth": 0,
              "ticks": ""
             }
            },
            "type": "scatter3d"
           }
          ],
          "scattercarpet": [
           {
            "marker": {
             "colorbar": {
              "outlinewidth": 0,
              "ticks": ""
             }
            },
            "type": "scattercarpet"
           }
          ],
          "scattergeo": [
           {
            "marker": {
             "colorbar": {
              "outlinewidth": 0,
              "ticks": ""
             }
            },
            "type": "scattergeo"
           }
          ],
          "scattergl": [
           {
            "marker": {
             "colorbar": {
              "outlinewidth": 0,
              "ticks": ""
             }
            },
            "type": "scattergl"
           }
          ],
          "scattermap": [
           {
            "marker": {
             "colorbar": {
              "outlinewidth": 0,
              "ticks": ""
             }
            },
            "type": "scattermap"
           }
          ],
          "scattermapbox": [
           {
            "marker": {
             "colorbar": {
              "outlinewidth": 0,
              "ticks": ""
             }
            },
            "type": "scattermapbox"
           }
          ],
          "scatterpolar": [
           {
            "marker": {
             "colorbar": {
              "outlinewidth": 0,
              "ticks": ""
             }
            },
            "type": "scatterpolar"
           }
          ],
          "scatterpolargl": [
           {
            "marker": {
             "colorbar": {
              "outlinewidth": 0,
              "ticks": ""
             }
            },
            "type": "scatterpolargl"
           }
          ],
          "scatterternary": [
           {
            "marker": {
             "colorbar": {
              "outlinewidth": 0,
              "ticks": ""
             }
            },
            "type": "scatterternary"
           }
          ],
          "surface": [
           {
            "colorbar": {
             "outlinewidth": 0,
             "ticks": ""
            },
            "colorscale": [
             [
              0,
              "#0d0887"
             ],
             [
              0.1111111111111111,
              "#46039f"
             ],
             [
              0.2222222222222222,
              "#7201a8"
             ],
             [
              0.3333333333333333,
              "#9c179e"
             ],
             [
              0.4444444444444444,
              "#bd3786"
             ],
             [
              0.5555555555555556,
              "#d8576b"
             ],
             [
              0.6666666666666666,
              "#ed7953"
             ],
             [
              0.7777777777777778,
              "#fb9f3a"
             ],
             [
              0.8888888888888888,
              "#fdca26"
             ],
             [
              1,
              "#f0f921"
             ]
            ],
            "type": "surface"
           }
          ],
          "table": [
           {
            "cells": {
             "fill": {
              "color": "#EBF0F8"
             },
             "line": {
              "color": "white"
             }
            },
            "header": {
             "fill": {
              "color": "#C8D4E3"
             },
             "line": {
              "color": "white"
             }
            },
            "type": "table"
           }
          ]
         },
         "layout": {
          "annotationdefaults": {
           "arrowcolor": "#2a3f5f",
           "arrowhead": 0,
           "arrowwidth": 1
          },
          "autotypenumbers": "strict",
          "coloraxis": {
           "colorbar": {
            "outlinewidth": 0,
            "ticks": ""
           }
          },
          "colorscale": {
           "diverging": [
            [
             0,
             "#8e0152"
            ],
            [
             0.1,
             "#c51b7d"
            ],
            [
             0.2,
             "#de77ae"
            ],
            [
             0.3,
             "#f1b6da"
            ],
            [
             0.4,
             "#fde0ef"
            ],
            [
             0.5,
             "#f7f7f7"
            ],
            [
             0.6,
             "#e6f5d0"
            ],
            [
             0.7,
             "#b8e186"
            ],
            [
             0.8,
             "#7fbc41"
            ],
            [
             0.9,
             "#4d9221"
            ],
            [
             1,
             "#276419"
            ]
           ],
           "sequential": [
            [
             0,
             "#0d0887"
            ],
            [
             0.1111111111111111,
             "#46039f"
            ],
            [
             0.2222222222222222,
             "#7201a8"
            ],
            [
             0.3333333333333333,
             "#9c179e"
            ],
            [
             0.4444444444444444,
             "#bd3786"
            ],
            [
             0.5555555555555556,
             "#d8576b"
            ],
            [
             0.6666666666666666,
             "#ed7953"
            ],
            [
             0.7777777777777778,
             "#fb9f3a"
            ],
            [
             0.8888888888888888,
             "#fdca26"
            ],
            [
             1,
             "#f0f921"
            ]
           ],
           "sequentialminus": [
            [
             0,
             "#0d0887"
            ],
            [
             0.1111111111111111,
             "#46039f"
            ],
            [
             0.2222222222222222,
             "#7201a8"
            ],
            [
             0.3333333333333333,
             "#9c179e"
            ],
            [
             0.4444444444444444,
             "#bd3786"
            ],
            [
             0.5555555555555556,
             "#d8576b"
            ],
            [
             0.6666666666666666,
             "#ed7953"
            ],
            [
             0.7777777777777778,
             "#fb9f3a"
            ],
            [
             0.8888888888888888,
             "#fdca26"
            ],
            [
             1,
             "#f0f921"
            ]
           ]
          },
          "colorway": [
           "#636efa",
           "#EF553B",
           "#00cc96",
           "#ab63fa",
           "#FFA15A",
           "#19d3f3",
           "#FF6692",
           "#B6E880",
           "#FF97FF",
           "#FECB52"
          ],
          "font": {
           "color": "#2a3f5f"
          },
          "geo": {
           "bgcolor": "white",
           "lakecolor": "white",
           "landcolor": "#E5ECF6",
           "showlakes": true,
           "showland": true,
           "subunitcolor": "white"
          },
          "hoverlabel": {
           "align": "left"
          },
          "hovermode": "closest",
          "mapbox": {
           "style": "light"
          },
          "paper_bgcolor": "white",
          "plot_bgcolor": "#E5ECF6",
          "polar": {
           "angularaxis": {
            "gridcolor": "white",
            "linecolor": "white",
            "ticks": ""
           },
           "bgcolor": "#E5ECF6",
           "radialaxis": {
            "gridcolor": "white",
            "linecolor": "white",
            "ticks": ""
           }
          },
          "scene": {
           "xaxis": {
            "backgroundcolor": "#E5ECF6",
            "gridcolor": "white",
            "gridwidth": 2,
            "linecolor": "white",
            "showbackground": true,
            "ticks": "",
            "zerolinecolor": "white"
           },
           "yaxis": {
            "backgroundcolor": "#E5ECF6",
            "gridcolor": "white",
            "gridwidth": 2,
            "linecolor": "white",
            "showbackground": true,
            "ticks": "",
            "zerolinecolor": "white"
           },
           "zaxis": {
            "backgroundcolor": "#E5ECF6",
            "gridcolor": "white",
            "gridwidth": 2,
            "linecolor": "white",
            "showbackground": true,
            "ticks": "",
            "zerolinecolor": "white"
           }
          },
          "shapedefaults": {
           "line": {
            "color": "#2a3f5f"
           }
          },
          "ternary": {
           "aaxis": {
            "gridcolor": "white",
            "linecolor": "white",
            "ticks": ""
           },
           "baxis": {
            "gridcolor": "white",
            "linecolor": "white",
            "ticks": ""
           },
           "bgcolor": "#E5ECF6",
           "caxis": {
            "gridcolor": "white",
            "linecolor": "white",
            "ticks": ""
           }
          },
          "title": {
           "x": 0.05
          },
          "xaxis": {
           "automargin": true,
           "gridcolor": "white",
           "linecolor": "white",
           "ticks": "",
           "title": {
            "standoff": 15
           },
           "zerolinecolor": "white",
           "zerolinewidth": 2
          },
          "yaxis": {
           "automargin": true,
           "gridcolor": "white",
           "linecolor": "white",
           "ticks": "",
           "title": {
            "standoff": 15
           },
           "zerolinecolor": "white",
           "zerolinewidth": 2
          }
         }
        }
       }
      },
      "image/png": "[encoded data removed]"
     },
     "metadata": {},
     "output_type": "display_data"
    }
   ],
   "source": [
    "fig = go.Figure(\n",
    "    data = [\n",
    "        go.Bar(x=animais, y=[3, 120, 6], name='Zoo RJ'),\n",
    "        go.Bar(x=animais, y=[1, 40, 2], name='Zoo RS')\n",
    "    ]\n",
    ")\n",
    "\n",
    "fig.update_layout(barmode='stack')\n",
    "\n",
    "fig.show()"
   ]
  },
  {
   "cell_type": "markdown",
   "id": "ae64c266-b3e8-4531-baed-8e9b91397a6e",
   "metadata": {},
   "source": [
    "## Pie Charts"
   ]
  },
  {
   "cell_type": "code",
   "execution_count": 26,
   "id": "793db918-18b4-49f5-bd31-572eef414cc7",
   "metadata": {},
   "outputs": [
    {
     "data": {
      "application/vnd.plotly.v1+json": {
       "config": {
        "plotlyServerURL": "https://plot.ly"
       },
       "data": [
        {
         "hoverinfo": "value+label",
         "labels": [
          "Oxigênio",
          "Hidrogênio",
          "Gás Carbônico",
          "Nitrogênio"
         ],
         "marker": {
          "colors": [
           "green",
           "#FF0841",
           "purple",
           "pink"
          ]
         },
         "pull": [
          0,
          0.2,
          0,
          0
         ],
         "textfont": {
          "size": 10
         },
         "textinfo": "percent",
         "type": "pie",
         "values": [
          4500,
          2500,
          1053,
          500
         ]
        }
       ],
       "layout": {
        "template": {
         "data": {
          "bar": [
           {
            "error_x": {
             "color": "#2a3f5f"
            },
            "error_y": {
             "color": "#2a3f5f"
            },
            "marker": {
             "line": {
              "color": "#E5ECF6",
              "width": 0.5
             },
             "pattern": {
              "fillmode": "overlay",
              "size": 10,
              "solidity": 0.2
             }
            },
            "type": "bar"
           }
          ],
          "barpolar": [
           {
            "marker": {
             "line": {
              "color": "#E5ECF6",
              "width": 0.5
             },
             "pattern": {
              "fillmode": "overlay",
              "size": 10,
              "solidity": 0.2
             }
            },
            "type": "barpolar"
           }
          ],
          "carpet": [
           {
            "aaxis": {
             "endlinecolor": "#2a3f5f",
             "gridcolor": "white",
             "linecolor": "white",
             "minorgridcolor": "white",
             "startlinecolor": "#2a3f5f"
            },
            "baxis": {
             "endlinecolor": "#2a3f5f",
             "gridcolor": "white",
             "linecolor": "white",
             "minorgridcolor": "white",
             "startlinecolor": "#2a3f5f"
            },
            "type": "carpet"
           }
          ],
          "choropleth": [
           {
            "colorbar": {
             "outlinewidth": 0,
             "ticks": ""
            },
            "type": "choropleth"
           }
          ],
          "contour": [
           {
            "colorbar": {
             "outlinewidth": 0,
             "ticks": ""
            },
            "colorscale": [
             [
              0,
              "#0d0887"
             ],
             [
              0.1111111111111111,
              "#46039f"
             ],
             [
              0.2222222222222222,
              "#7201a8"
             ],
             [
              0.3333333333333333,
              "#9c179e"
             ],
             [
              0.4444444444444444,
              "#bd3786"
             ],
             [
              0.5555555555555556,
              "#d8576b"
             ],
             [
              0.6666666666666666,
              "#ed7953"
             ],
             [
              0.7777777777777778,
              "#fb9f3a"
             ],
             [
              0.8888888888888888,
              "#fdca26"
             ],
             [
              1,
              "#f0f921"
             ]
            ],
            "type": "contour"
           }
          ],
          "contourcarpet": [
           {
            "colorbar": {
             "outlinewidth": 0,
             "ticks": ""
            },
            "type": "contourcarpet"
           }
          ],
          "heatmap": [
           {
            "colorbar": {
             "outlinewidth": 0,
             "ticks": ""
            },
            "colorscale": [
             [
              0,
              "#0d0887"
             ],
             [
              0.1111111111111111,
              "#46039f"
             ],
             [
              0.2222222222222222,
              "#7201a8"
             ],
             [
              0.3333333333333333,
              "#9c179e"
             ],
             [
              0.4444444444444444,
              "#bd3786"
             ],
             [
              0.5555555555555556,
              "#d8576b"
             ],
             [
              0.6666666666666666,
              "#ed7953"
             ],
             [
              0.7777777777777778,
              "#fb9f3a"
             ],
             [
              0.8888888888888888,
              "#fdca26"
             ],
             [
              1,
              "#f0f921"
             ]
            ],
            "type": "heatmap"
           }
          ],
          "histogram": [
           {
            "marker": {
             "pattern": {
              "fillmode": "overlay",
              "size": 10,
              "solidity": 0.2
             }
            },
            "type": "histogram"
           }
          ],
          "histogram2d": [
           {
            "colorbar": {
             "outlinewidth": 0,
             "ticks": ""
            },
            "colorscale": [
             [
              0,
              "#0d0887"
             ],
             [
              0.1111111111111111,
              "#46039f"
             ],
             [
              0.2222222222222222,
              "#7201a8"
             ],
             [
              0.3333333333333333,
              "#9c179e"
             ],
             [
              0.4444444444444444,
              "#bd3786"
             ],
             [
              0.5555555555555556,
              "#d8576b"
             ],
             [
              0.6666666666666666,
              "#ed7953"
             ],
             [
              0.7777777777777778,
              "#fb9f3a"
             ],
             [
              0.8888888888888888,
              "#fdca26"
             ],
             [
              1,
              "#f0f921"
             ]
            ],
            "type": "histogram2d"
           }
          ],
          "histogram2dcontour": [
           {
            "colorbar": {
             "outlinewidth": 0,
             "ticks": ""
            },
            "colorscale": [
             [
              0,
              "#0d0887"
             ],
             [
              0.1111111111111111,
              "#46039f"
             ],
             [
              0.2222222222222222,
              "#7201a8"
             ],
             [
              0.3333333333333333,
              "#9c179e"
             ],
             [
              0.4444444444444444,
              "#bd3786"
             ],
             [
              0.5555555555555556,
              "#d8576b"
             ],
             [
              0.6666666666666666,
              "#ed7953"
             ],
             [
              0.7777777777777778,
              "#fb9f3a"
             ],
             [
              0.8888888888888888,
              "#fdca26"
             ],
             [
              1,
              "#f0f921"
             ]
            ],
            "type": "histogram2dcontour"
           }
          ],
          "mesh3d": [
           {
            "colorbar": {
             "outlinewidth": 0,
             "ticks": ""
            },
            "type": "mesh3d"
           }
          ],
          "parcoords": [
           {
            "line": {
             "colorbar": {
              "outlinewidth": 0,
              "ticks": ""
             }
            },
            "type": "parcoords"
           }
          ],
          "pie": [
           {
            "automargin": true,
            "type": "pie"
           }
          ],
          "scatter": [
           {
            "fillpattern": {
             "fillmode": "overlay",
             "size": 10,
             "solidity": 0.2
            },
            "type": "scatter"
           }
          ],
          "scatter3d": [
           {
            "line": {
             "colorbar": {
              "outlinewidth": 0,
              "ticks": ""
             }
            },
            "marker": {
             "colorbar": {
              "outlinewidth": 0,
              "ticks": ""
             }
            },
            "type": "scatter3d"
           }
          ],
          "scattercarpet": [
           {
            "marker": {
             "colorbar": {
              "outlinewidth": 0,
              "ticks": ""
             }
            },
            "type": "scattercarpet"
           }
          ],
          "scattergeo": [
           {
            "marker": {
             "colorbar": {
              "outlinewidth": 0,
              "ticks": ""
             }
            },
            "type": "scattergeo"
           }
          ],
          "scattergl": [
           {
            "marker": {
             "colorbar": {
              "outlinewidth": 0,
              "ticks": ""
             }
            },
            "type": "scattergl"
           }
          ],
          "scattermap": [
           {
            "marker": {
             "colorbar": {
              "outlinewidth": 0,
              "ticks": ""
             }
            },
            "type": "scattermap"
           }
          ],
          "scattermapbox": [
           {
            "marker": {
             "colorbar": {
              "outlinewidth": 0,
              "ticks": ""
             }
            },
            "type": "scattermapbox"
           }
          ],
          "scatterpolar": [
           {
            "marker": {
             "colorbar": {
              "outlinewidth": 0,
              "ticks": ""
             }
            },
            "type": "scatterpolar"
           }
          ],
          "scatterpolargl": [
           {
            "marker": {
             "colorbar": {
              "outlinewidth": 0,
              "ticks": ""
             }
            },
            "type": "scatterpolargl"
           }
          ],
          "scatterternary": [
           {
            "marker": {
             "colorbar": {
              "outlinewidth": 0,
              "ticks": ""
             }
            },
            "type": "scatterternary"
           }
          ],
          "surface": [
           {
            "colorbar": {
             "outlinewidth": 0,
             "ticks": ""
            },
            "colorscale": [
             [
              0,
              "#0d0887"
             ],
             [
              0.1111111111111111,
              "#46039f"
             ],
             [
              0.2222222222222222,
              "#7201a8"
             ],
             [
              0.3333333333333333,
              "#9c179e"
             ],
             [
              0.4444444444444444,
              "#bd3786"
             ],
             [
              0.5555555555555556,
              "#d8576b"
             ],
             [
              0.6666666666666666,
              "#ed7953"
             ],
             [
              0.7777777777777778,
              "#fb9f3a"
             ],
             [
              0.8888888888888888,
              "#fdca26"
             ],
             [
              1,
              "#f0f921"
             ]
            ],
            "type": "surface"
           }
          ],
          "table": [
           {
            "cells": {
             "fill": {
              "color": "#EBF0F8"
             },
             "line": {
              "color": "white"
             }
            },
            "header": {
             "fill": {
              "color": "#C8D4E3"
             },
             "line": {
              "color": "white"
             }
            },
            "type": "table"
           }
          ]
         },
         "layout": {
          "annotationdefaults": {
           "arrowcolor": "#2a3f5f",
           "arrowhead": 0,
           "arrowwidth": 1
          },
          "autotypenumbers": "strict",
          "coloraxis": {
           "colorbar": {
            "outlinewidth": 0,
            "ticks": ""
           }
          },
          "colorscale": {
           "diverging": [
            [
             0,
             "#8e0152"
            ],
            [
             0.1,
             "#c51b7d"
            ],
            [
             0.2,
             "#de77ae"
            ],
            [
             0.3,
             "#f1b6da"
            ],
            [
             0.4,
             "#fde0ef"
            ],
            [
             0.5,
             "#f7f7f7"
            ],
            [
             0.6,
             "#e6f5d0"
            ],
            [
             0.7,
             "#b8e186"
            ],
            [
             0.8,
             "#7fbc41"
            ],
            [
             0.9,
             "#4d9221"
            ],
            [
             1,
             "#276419"
            ]
           ],
           "sequential": [
            [
             0,
             "#0d0887"
            ],
            [
             0.1111111111111111,
             "#46039f"
            ],
            [
             0.2222222222222222,
             "#7201a8"
            ],
            [
             0.3333333333333333,
             "#9c179e"
            ],
            [
             0.4444444444444444,
             "#bd3786"
            ],
            [
             0.5555555555555556,
             "#d8576b"
            ],
            [
             0.6666666666666666,
             "#ed7953"
            ],
            [
             0.7777777777777778,
             "#fb9f3a"
            ],
            [
             0.8888888888888888,
             "#fdca26"
            ],
            [
             1,
             "#f0f921"
            ]
           ],
           "sequentialminus": [
            [
             0,
             "#0d0887"
            ],
            [
             0.1111111111111111,
             "#46039f"
            ],
            [
             0.2222222222222222,
             "#7201a8"
            ],
            [
             0.3333333333333333,
             "#9c179e"
            ],
            [
             0.4444444444444444,
             "#bd3786"
            ],
            [
             0.5555555555555556,
             "#d8576b"
            ],
            [
             0.6666666666666666,
             "#ed7953"
            ],
            [
             0.7777777777777778,
             "#fb9f3a"
            ],
            [
             0.8888888888888888,
             "#fdca26"
            ],
            [
             1,
             "#f0f921"
            ]
           ]
          },
          "colorway": [
           "#636efa",
           "#EF553B",
           "#00cc96",
           "#ab63fa",
           "#FFA15A",
           "#19d3f3",
           "#FF6692",
           "#B6E880",
           "#FF97FF",
           "#FECB52"
          ],
          "font": {
           "color": "#2a3f5f"
          },
          "geo": {
           "bgcolor": "white",
           "lakecolor": "white",
           "landcolor": "#E5ECF6",
           "showlakes": true,
           "showland": true,
           "subunitcolor": "white"
          },
          "hoverlabel": {
           "align": "left"
          },
          "hovermode": "closest",
          "mapbox": {
           "style": "light"
          },
          "paper_bgcolor": "white",
          "plot_bgcolor": "#E5ECF6",
          "polar": {
           "angularaxis": {
            "gridcolor": "white",
            "linecolor": "white",
            "ticks": ""
           },
           "bgcolor": "#E5ECF6",
           "radialaxis": {
            "gridcolor": "white",
            "linecolor": "white",
            "ticks": ""
           }
          },
          "scene": {
           "xaxis": {
            "backgroundcolor": "#E5ECF6",
            "gridcolor": "white",
            "gridwidth": 2,
            "linecolor": "white",
            "showbackground": true,
            "ticks": "",
            "zerolinecolor": "white"
           },
           "yaxis": {
            "backgroundcolor": "#E5ECF6",
            "gridcolor": "white",
            "gridwidth": 2,
            "linecolor": "white",
            "showbackground": true,
            "ticks": "",
            "zerolinecolor": "white"
           },
           "zaxis": {
            "backgroundcolor": "#E5ECF6",
            "gridcolor": "white",
            "gridwidth": 2,
            "linecolor": "white",
            "showbackground": true,
            "ticks": "",
            "zerolinecolor": "white"
           }
          },
          "shapedefaults": {
           "line": {
            "color": "#2a3f5f"
           }
          },
          "ternary": {
           "aaxis": {
            "gridcolor": "white",
            "linecolor": "white",
            "ticks": ""
           },
           "baxis": {
            "gridcolor": "white",
            "linecolor": "white",
            "ticks": ""
           },
           "bgcolor": "#E5ECF6",
           "caxis": {
            "gridcolor": "white",
            "linecolor": "white",
            "ticks": ""
           }
          },
          "title": {
           "x": 0.05
          },
          "xaxis": {
           "automargin": true,
           "gridcolor": "white",
           "linecolor": "white",
           "ticks": "",
           "title": {
            "standoff": 15
           },
           "zerolinecolor": "white",
           "zerolinewidth": 2
          },
          "yaxis": {
           "automargin": true,
           "gridcolor": "white",
           "linecolor": "white",
           "ticks": "",
           "title": {
            "standoff": 15
           },
           "zerolinecolor": "white",
           "zerolinewidth": 2
          }
         }
        }
       }
      },
      "image/png": "[encoded data removed]"
     },
     "metadata": {},
     "output_type": "display_data"
    }
   ],
   "source": [
    "labels = ['Oxigênio', 'Hidrogênio', 'Gás Carbônico', 'Nitrogênio']\n",
    "values = [4500, 2500, 1053, 500]\n",
    "\n",
    "fig = go.Figure(go.Pie(labels=labels, values=values, pull=[0, 0.2, 0, 0]))\n",
    "fig.update_traces(hoverinfo='value+label', textinfo='percent', textfont_size=10, marker=dict(colors=['green', '#FF0841', 'purple', 'pink']))\n",
    "fig.show()"
   ]
  },
  {
   "cell_type": "markdown",
   "id": "0cf13e04-f275-4c60-ac31-36ed1ce43b24",
   "metadata": {},
   "source": [
    "## Histogramas"
   ]
  },
  {
   "cell_type": "code",
   "execution_count": 28,
   "id": "823af4dc-7d65-4e64-8194-9f5e384b6479",
   "metadata": {},
   "outputs": [],
   "source": [
    "import plotly.graph_objects as go\n",
    "import numpy as np\n",
    "\n",
    "x = np.random.randn(500)"
   ]
  },
  {
   "cell_type": "code",
   "execution_count": 31,
   "id": "690c7795-c214-4361-a90f-daf3fcbe49bd",
   "metadata": {},
   "outputs": [
    {
     "data": {
      "application/vnd.plotly.v1+json": {
       "config": {
        "plotlyServerURL": "https://plot.ly"
       },
       "data": [
        {
         "type": "histogram",
         "x": {
          "bdata": "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",
          "dtype": "f8"
         }
        }
       ],
       "layout": {
        "template": {
         "data": {
          "bar": [
           {
            "error_x": {
             "color": "#2a3f5f"
            },
            "error_y": {
             "color": "#2a3f5f"
            },
            "marker": {
             "line": {
              "color": "#E5ECF6",
              "width": 0.5
             },
             "pattern": {
              "fillmode": "overlay",
              "size": 10,
              "solidity": 0.2
             }
            },
            "type": "bar"
           }
          ],
          "barpolar": [
           {
            "marker": {
             "line": {
              "color": "#E5ECF6",
              "width": 0.5
             },
             "pattern": {
              "fillmode": "overlay",
              "size": 10,
              "solidity": 0.2
             }
            },
            "type": "barpolar"
           }
          ],
          "carpet": [
           {
            "aaxis": {
             "endlinecolor": "#2a3f5f",
             "gridcolor": "white",
             "linecolor": "white",
             "minorgridcolor": "white",
             "startlinecolor": "#2a3f5f"
            },
            "baxis": {
             "endlinecolor": "#2a3f5f",
             "gridcolor": "white",
             "linecolor": "white",
             "minorgridcolor": "white",
             "startlinecolor": "#2a3f5f"
            },
            "type": "carpet"
           }
          ],
          "choropleth": [
           {
            "colorbar": {
             "outlinewidth": 0,
             "ticks": ""
            },
            "type": "choropleth"
           }
          ],
          "contour": [
           {
            "colorbar": {
             "outlinewidth": 0,
             "ticks": ""
            },
            "colorscale": [
             [
              0,
              "#0d0887"
             ],
             [
              0.1111111111111111,
              "#46039f"
             ],
             [
              0.2222222222222222,
              "#7201a8"
             ],
             [
              0.3333333333333333,
              "#9c179e"
             ],
             [
              0.4444444444444444,
              "#bd3786"
             ],
             [
              0.5555555555555556,
              "#d8576b"
             ],
             [
              0.6666666666666666,
              "#ed7953"
             ],
             [
              0.7777777777777778,
              "#fb9f3a"
             ],
             [
              0.8888888888888888,
              "#fdca26"
             ],
             [
              1,
              "#f0f921"
             ]
            ],
            "type": "contour"
           }
          ],
          "contourcarpet": [
           {
            "colorbar": {
             "outlinewidth": 0,
             "ticks": ""
            },
            "type": "contourcarpet"
           }
          ],
          "heatmap": [
           {
            "colorbar": {
             "outlinewidth": 0,
             "ticks": ""
            },
            "colorscale": [
             [
              0,
              "#0d0887"
             ],
             [
              0.1111111111111111,
              "#46039f"
             ],
             [
              0.2222222222222222,
              "#7201a8"
             ],
             [
              0.3333333333333333,
              "#9c179e"
             ],
             [
              0.4444444444444444,
              "#bd3786"
             ],
             [
              0.5555555555555556,
              "#d8576b"
             ],
             [
              0.6666666666666666,
              "#ed7953"
             ],
             [
              0.7777777777777778,
              "#fb9f3a"
             ],
             [
              0.8888888888888888,
              "#fdca26"
             ],
             [
              1,
              "#f0f921"
             ]
            ],
            "type": "heatmap"
           }
          ],
          "histogram": [
           {
            "marker": {
             "pattern": {
              "fillmode": "overlay",
              "size": 10,
              "solidity": 0.2
             }
            },
            "type": "histogram"
           }
          ],
          "histogram2d": [
           {
            "colorbar": {
             "outlinewidth": 0,
             "ticks": ""
            },
            "colorscale": [
             [
              0,
              "#0d0887"
             ],
             [
              0.1111111111111111,
              "#46039f"
             ],
             [
              0.2222222222222222,
              "#7201a8"
             ],
             [
              0.3333333333333333,
              "#9c179e"
             ],
             [
              0.4444444444444444,
              "#bd3786"
             ],
             [
              0.5555555555555556,
              "#d8576b"
             ],
             [
              0.6666666666666666,
              "#ed7953"
             ],
             [
              0.7777777777777778,
              "#fb9f3a"
             ],
             [
              0.8888888888888888,
              "#fdca26"
             ],
             [
              1,
              "#f0f921"
             ]
            ],
            "type": "histogram2d"
           }
          ],
          "histogram2dcontour": [
           {
            "colorbar": {
             "outlinewidth": 0,
             "ticks": ""
            },
            "colorscale": [
             [
              0,
              "#0d0887"
             ],
             [
              0.1111111111111111,
              "#46039f"
             ],
             [
              0.2222222222222222,
              "#7201a8"
             ],
             [
              0.3333333333333333,
              "#9c179e"
             ],
             [
              0.4444444444444444,
              "#bd3786"
             ],
             [
              0.5555555555555556,
              "#d8576b"
             ],
             [
              0.6666666666666666,
              "#ed7953"
             ],
             [
              0.7777777777777778,
              "#fb9f3a"
             ],
             [
              0.8888888888888888,
              "#fdca26"
             ],
             [
              1,
              "#f0f921"
             ]
            ],
            "type": "histogram2dcontour"
           }
          ],
          "mesh3d": [
           {
            "colorbar": {
             "outlinewidth": 0,
             "ticks": ""
            },
            "type": "mesh3d"
           }
          ],
          "parcoords": [
           {
            "line": {
             "colorbar": {
              "outlinewidth": 0,
              "ticks": ""
             }
            },
            "type": "parcoords"
           }
          ],
          "pie": [
           {
            "automargin": true,
            "type": "pie"
           }
          ],
          "scatter": [
           {
            "fillpattern": {
             "fillmode": "overlay",
             "size": 10,
             "solidity": 0.2
            },
            "type": "scatter"
           }
          ],
          "scatter3d": [
           {
            "line": {
             "colorbar": {
              "outlinewidth": 0,
              "ticks": ""
             }
            },
            "marker": {
             "colorbar": {
              "outlinewidth": 0,
              "ticks": ""
             }
            },
            "type": "scatter3d"
           }
          ],
          "scattercarpet": [
           {
            "marker": {
             "colorbar": {
              "outlinewidth": 0,
              "ticks": ""
             }
            },
            "type": "scattercarpet"
           }
          ],
          "scattergeo": [
           {
            "marker": {
             "colorbar": {
              "outlinewidth": 0,
              "ticks": ""
             }
            },
            "type": "scattergeo"
           }
          ],
          "scattergl": [
           {
            "marker": {
             "colorbar": {
              "outlinewidth": 0,
              "ticks": ""
             }
            },
            "type": "scattergl"
           }
          ],
          "scattermap": [
           {
            "marker": {
             "colorbar": {
              "outlinewidth": 0,
              "ticks": ""
             }
            },
            "type": "scattermap"
           }
          ],
          "scattermapbox": [
           {
            "marker": {
             "colorbar": {
              "outlinewidth": 0,
              "ticks": ""
             }
            },
            "type": "scattermapbox"
           }
          ],
          "scatterpolar": [
           {
            "marker": {
             "colorbar": {
              "outlinewidth": 0,
              "ticks": ""
             }
            },
            "type": "scatterpolar"
           }
          ],
          "scatterpolargl": [
           {
            "marker": {
             "colorbar": {
              "outlinewidth": 0,
              "ticks": ""
             }
            },
            "type": "scatterpolargl"
           }
          ],
          "scatterternary": [
           {
            "marker": {
             "colorbar": {
              "outlinewidth": 0,
              "ticks": ""
             }
            },
            "type": "scatterternary"
           }
          ],
          "surface": [
           {
            "colorbar": {
             "outlinewidth": 0,
             "ticks": ""
            },
            "colorscale": [
             [
              0,
              "#0d0887"
             ],
             [
              0.1111111111111111,
              "#46039f"
             ],
             [
              0.2222222222222222,
              "#7201a8"
             ],
             [
              0.3333333333333333,
              "#9c179e"
             ],
             [
              0.4444444444444444,
              "#bd3786"
             ],
             [
              0.5555555555555556,
              "#d8576b"
             ],
             [
              0.6666666666666666,
              "#ed7953"
             ],
             [
              0.7777777777777778,
              "#fb9f3a"
             ],
             [
              0.8888888888888888,
              "#fdca26"
             ],
             [
              1,
              "#f0f921"
             ]
            ],
            "type": "surface"
           }
          ],
          "table": [
           {
            "cells": {
             "fill": {
              "color": "#EBF0F8"
             },
             "line": {
              "color": "white"
             }
            },
            "header": {
             "fill": {
              "color": "#C8D4E3"
             },
             "line": {
              "color": "white"
             }
            },
            "type": "table"
           }
          ]
         },
         "layout": {
          "annotationdefaults": {
           "arrowcolor": "#2a3f5f",
           "arrowhead": 0,
           "arrowwidth": 1
          },
          "autotypenumbers": "strict",
          "coloraxis": {
           "colorbar": {
            "outlinewidth": 0,
            "ticks": ""
           }
          },
          "colorscale": {
           "diverging": [
            [
             0,
             "#8e0152"
            ],
            [
             0.1,
             "#c51b7d"
            ],
            [
             0.2,
             "#de77ae"
            ],
            [
             0.3,
             "#f1b6da"
            ],
            [
             0.4,
             "#fde0ef"
            ],
            [
             0.5,
             "#f7f7f7"
            ],
            [
             0.6,
             "#e6f5d0"
            ],
            [
             0.7,
             "#b8e186"
            ],
            [
             0.8,
             "#7fbc41"
            ],
            [
             0.9,
             "#4d9221"
            ],
            [
             1,
             "#276419"
            ]
           ],
           "sequential": [
            [
             0,
             "#0d0887"
            ],
            [
             0.1111111111111111,
             "#46039f"
            ],
            [
             0.2222222222222222,
             "#7201a8"
            ],
            [
             0.3333333333333333,
             "#9c179e"
            ],
            [
             0.4444444444444444,
             "#bd3786"
            ],
            [
             0.5555555555555556,
             "#d8576b"
            ],
            [
             0.6666666666666666,
             "#ed7953"
            ],
            [
             0.7777777777777778,
             "#fb9f3a"
            ],
            [
             0.8888888888888888,
             "#fdca26"
            ],
            [
             1,
             "#f0f921"
            ]
           ],
           "sequentialminus": [
            [
             0,
             "#0d0887"
            ],
            [
             0.1111111111111111,
             "#46039f"
            ],
            [
             0.2222222222222222,
             "#7201a8"
            ],
            [
             0.3333333333333333,
             "#9c179e"
            ],
            [
             0.4444444444444444,
             "#bd3786"
            ],
            [
             0.5555555555555556,
             "#d8576b"
            ],
            [
             0.6666666666666666,
             "#ed7953"
            ],
            [
             0.7777777777777778,
             "#fb9f3a"
            ],
            [
             0.8888888888888888,
             "#fdca26"
            ],
            [
             1,
             "#f0f921"
            ]
           ]
          },
          "colorway": [
           "#636efa",
           "#EF553B",
           "#00cc96",
           "#ab63fa",
           "#FFA15A",
           "#19d3f3",
           "#FF6692",
           "#B6E880",
           "#FF97FF",
           "#FECB52"
          ],
          "font": {
           "color": "#2a3f5f"
          },
          "geo": {
           "bgcolor": "white",
           "lakecolor": "white",
           "landcolor": "#E5ECF6",
           "showlakes": true,
           "showland": true,
           "subunitcolor": "white"
          },
          "hoverlabel": {
           "align": "left"
          },
          "hovermode": "closest",
          "mapbox": {
           "style": "light"
          },
          "paper_bgcolor": "white",
          "plot_bgcolor": "#E5ECF6",
          "polar": {
           "angularaxis": {
            "gridcolor": "white",
            "linecolor": "white",
            "ticks": ""
           },
           "bgcolor": "#E5ECF6",
           "radialaxis": {
            "gridcolor": "white",
            "linecolor": "white",
            "ticks": ""
           }
          },
          "scene": {
           "xaxis": {
            "backgroundcolor": "#E5ECF6",
            "gridcolor": "white",
            "gridwidth": 2,
            "linecolor": "white",
            "showbackground": true,
            "ticks": "",
            "zerolinecolor": "white"
           },
           "yaxis": {
            "backgroundcolor": "#E5ECF6",
            "gridcolor": "white",
            "gridwidth": 2,
            "linecolor": "white",
            "showbackground": true,
            "ticks": "",
            "zerolinecolor": "white"
           },
           "zaxis": {
            "backgroundcolor": "#E5ECF6",
            "gridcolor": "white",
            "gridwidth": 2,
            "linecolor": "white",
            "showbackground": true,
            "ticks": "",
            "zerolinecolor": "white"
           }
          },
          "shapedefaults": {
           "line": {
            "color": "#2a3f5f"
           }
          },
          "ternary": {
           "aaxis": {
            "gridcolor": "white",
            "linecolor": "white",
            "ticks": ""
           },
           "baxis": {
            "gridcolor": "white",
            "linecolor": "white",
            "ticks": ""
           },
           "bgcolor": "#E5ECF6",
           "caxis": {
            "gridcolor": "white",
            "linecolor": "white",
            "ticks": ""
           }
          },
          "title": {
           "x": 0.05
          },
          "xaxis": {
           "automargin": true,
           "gridcolor": "white",
           "linecolor": "white",
           "ticks": "",
           "title": {
            "standoff": 15
           },
           "zerolinecolor": "white",
           "zerolinewidth": 2
          },
          "yaxis": {
           "automargin": true,
           "gridcolor": "white",
           "linecolor": "white",
           "ticks": "",
           "title": {
            "standoff": 15
           },
           "zerolinecolor": "white",
           "zerolinewidth": 2
          }
         }
        }
       }
      },
      "image/png": "[encoded data removed]"
     },
     "metadata": {},
     "output_type": "display_data"
    }
   ],
   "source": [
    "fig = go.Figure(data=[go.Histogram(x=x)])\n",
    "fig.show()"
   ]
  },
  {
   "cell_type": "code",
   "execution_count": 32,
   "id": "4f5da157-6204-4793-9a52-2d94ab735110",
   "metadata": {},
   "outputs": [],
   "source": [
    "x1 = np.random.randn(500) + 1"
   ]
  },
  {
   "cell_type": "code",
   "execution_count": 39,
   "id": "09259037-c55f-4b69-883c-6dd3e18e6fbd",
   "metadata": {},
   "outputs": [
    {
     "data": {
      "application/vnd.plotly.v1+json": {
       "config": {
        "plotlyServerURL": "https://plot.ly"
       },
       "data": [
        {
         "opacity": 0.8,
         "type": "histogram",
         "x": {
          "bdata": "6OUBr/UA4b/N0pcDtZirP2aARO9QE+i/RU32qV1H9L8FyKoRtX3svz5Tbvteh9q/tn1xbed857/Hp768CXjgPysBFHolZPc/608xv5XPzL+RinA033v2PzebId+ayd2/iUjPeP0G9z+j2l0RpsPnP/ZTc9n0scQ/JrsDqREV8T/PCjGssvzev2Nl2K08fdq/SdOpP7Nq6j/Cp/9Ulv/YP2jZKuPZCuo/L8Ocz9bNu7+PhPh47fD2vxabl5QFvO0/YQQuZBe98b/l5cmwdFbhPwmBbMQAYv4/EMqnjwo67D+TAnhjcl3tP7q9o89k3uE/+2pFxM/Z9D+ENG5/Pj3ov6NUM5Cia9G/33B4Ir+M9T9ak1vcRc/nv1wkgBLlsvE/ivJu6V934T+O/cCuNvnZv5V68qRyqey/6OOCvmcY4D8xQtPsqAT3P7cyGE894/W/6/h2BBPZ3b9XXrKHmmv2v3OLRAF1gus/vBeeXPaT+b9azgkX9wTTP3wI4SJ5h+s/vZ6tImTn1z/g4ww4ATDjP3rABN0X8oE/LATQ8xVy4z8fc02mNj3pv0UCMvl5VuI/sbqb8EGzzz9GXqor8zffvxCMiUOP5e0/mon5xepS/b9gF7f5TQ+jv4uOhfUeMv+/lB/q4iNY1j/tSjh4XK71PwwPrzix0+0/osovxQAH5b/umn6DmxHWPxIKomkVnPM/KJsoiD5s2b9QWRhWKUHpP5olg/+nF6S/FI712T1O8T+MYkyCeGm+vwL/7y+mdNY/wAcQ7LEyvj8gqF5Ff132PwSFy7g9ptA/b4ga7Zg+4j9d4KHX20/yP2Sy4OcxRb4/379tnwS/4r+V19RcUnzqvyYFyxH9WPk/RPcEGaY8vj9jWxOJNnYBQNEohO7WXeK/cACcKKro+L+61H9q4PDwvw/U/ejcl+W/tzBarz4+/79WsLz2JsF0v3QQyLiQePa//ZTHShRK2b/jQ6mpxKrkv3+IVaqH190/B3mSMSRP3D+jjrFrz/jMvwedwdsr9eY/XDGpzSR23b8DnsqFKNjlP0+jPqAZqvQ/HaOGSW7/0D/+P0T1C8P1P0yPfb3Sz/m/wupb34UJ8T9jlCn+TKWlP/U9zy+jwto/90wHkQbM2r9I8dCJuLHZP4AImwp/3+c/5fh1IoUmAUD0VRRJhWfZv2MxNUR3+vW/K8H+qbp7278YLKinfcjrPw8bTrC0P/y/L1mS3d5a4z8AFhb0kejzPzLRsTzxatc/aIrCDiEp8j8xx4zFT5/lPzHStmx1r/Q/HIMDS3315z9LGxQxP5rFv9O5hAstNuG/fwV0qLO/AMDddDYhEV3ov9isotaBmPE/4EfvWKfc9L8JLnFdBmbOPxLQ36SIaNs/gCSfmQLK9z8MNzqyZrzDvwH7sgAfIsk/vF67bOpv4b9n3Gre/oT1v3n7Y8IWk8I/GFEtswzQ4j/wHprMwnDCP0NwQXboito/he8IvAit7z+m9Qssqnjqvx1eUqlD5dc/LEE6i0Bc+T9xIFbDyGD1v3cTnoosrsa/Gkkbfath1L/UDvUOp9XxP91LXqdw5vc/qN0sV61G4L9NI7pQFu2NvxoJfHVN/eC/gIu1Oi5U0L9126WKojvpPwKS6z4oFwTAnJda5SBJzz9ApRdumArXvx8vax4Nl6U/h4M/hi8T/T9U572eDI7gv42wgJdhvNS/RJnTXuKA/z9U4rsVoS7Pv8lJwgjXzOG/2AshD5zy9j9AENC2mYOwP3xRRv3Tk+G/7ibf/X5Cv7+08lIRSYfcP6KifK2NeeW/uPM/D6Wp2L9mzQlNPz/pv+B/YakL8+i/hoCAa6mIAMBzvVNmL7rnP+sUwZ085eQ/Hi3apeca6r+84twix+PPP6CtYrcJl98/nTRzCLQC8r9uZQ2G1XzXv8tubzjf2+O/rp/BONPnzz8V0Ue79NHXP1zc7ABWMYK/FU5ziUfg3T+ZGEo/LrPmP0SUudlPHOI/e6qJwhuf6z9Xcg3AIuDTv0WqhKhAR9U/+mXBYmvQ4T8/LTUwlg7mvxxdgNi2Ys6/GBQ7zDS0y7//k4d3C3zaP0CpzQzn+cs/08nrrHfC8j/DmjNOLQ7Yv2qAW4mOa/G/XXZE/EEm5r+o9+fwG9TVP0dfvXw/ocK/mamuwO/Akj9ctA1iQTTSv0Hv/tvPGAPAl8zGb5V/pj/QO2Nlt3aqPzV9hPVEBow/z0clKqz09b8Ngc6jGvTrvyC7EoQw2/O/co5rPrPE8D+QVOEqPOnfv3+7DV3+QtY//QxJlEtN8L+YqwMSXv7sP1KbjgBy7eI/iRmELAYD8z+qS2QCoCf9P6Fzvl9DyvQ/u6xKxtAx2j8h8aDJ4TjlvzoP9f2yZt+/ls+4rUUg+j+AChvsbIbXv07Qwia4OeG/IUACCU11+b+70sKy0o7TP5extk3QNca/agxbxgoo8D//2rus8ev8v1HFOoL+xOY/PudeuMwKvz8ZWgVMDxy5v7r/kcGZAvG/QXxA54Wv1r8zrV9IBvXxvzQW506O2cw/AUEFJCz55r/nnmizy4nvv3Kg+1B++/U/QZxRItYK8L8WDu+a9iD7P1fca3wmGdW/gu2zSjRQ/r8NWsBISFYCQDOX1Fx04/E/Sx5vTn985L9mk7gfpz/rP8cNUyy7F9M/EB8eIUhw1b9W4TzNChraPw+Y7H3DzOK/GxVlYyxjBMCQtDNd1WryP9sadtyuis0/UsGyFQ7p8r8bUIUsr61iv6bBlV87jPK/WWpU3/mX1j/lum/oU6j2vyzaNn+uuNw/1eyzL5yr8L8NQTAsZPjxv4D5Hg1h9pc/2YZzrXu4879O1u6J5p3iP2yi9ttpmNC/fzBLCT8Y9L9Wvk82vxLxv48yxE76QOK/bDJlmwFG7r/Rlj/YuUXtP9v7I7dJJOM/r0CKMoyC9b8QUVP+3xfGP+hI4vW/AOe/iDuDCqhS8r9KZ0xxBszhPxzuDTCLtcK/DS2x5+Rf5z/bIEvuz8DPPyjJ1TPNoPc/xIVR7YRL9L9PxMkE0QXKP33w6OxAMADAJ24f109B1j//ITZZMGr2P7M35oYPmeY/1gQJqBVT3T+fl8xk9k7vP7bwhTv1kPM/RHCPaCqq4j/9sdi8XaP3v/3a6tb52X2/SC7iPZ153b+xp71PLBK7vwZN4q7WTsI/1anuX0rtsT/TFCcpq3Liv4kvtV9WpcU/RhGqgqqz/D8CMf2oxSjavzXJ/JCfQe2/0sx6SR6T8r/vEL0ZPBLKP8wfKGjXmN6/L9un2A0oyT8IidnADAPnPwqHWWAKXM6/KfTN7rBXlb8XzeWjepv5P+Y7kSZJ3uU/pEIShN+06D886D2/nXPWv8EyRmiOW++/UnoXfYZQ6T9ftQsoDOThP1lP3PmTAvK/VZ0zYGTw2j/0PHzvrGOjv3jKOKq7odG/bB0AEfdM9j/UyCYX6bLhP2aiUkigP+A/eqaElQgy3r9Zmq5fxSf5P2lsN2MSWfM/T6SFtV+F8z9ElG00INrfP1Hm3rmdXda/aCFVO3l3uL98vIngQ4ncv1QUqxrWBqq/LidWC69bub/H+46d18TKvyWEVPpxAeS/1QF7qVID9T/wZu3jYr75P//XpCuGsfC/7u0wiUJzBMD7vdujjovjP221kjx1gb8/xqf4j2bzAkC3bqrFLLwAQDVSPdXUSLy/WNcpBtgQwL9bn+C+5uPxvzjUMnulc/O/2NJEvGoL6T8Ko6YABIP2P+q3Upt0QuO/W5SEWF1r8j94hpuIdJjav17zazQ49sw/9Lvp+Wly+z/vqisFNCvRP0f+LbVmCPs/gyMiUrPi8z8jzOyATMDvv66VjoyX/Ma/LzcsM6kH9b/Q+kdVQFzfv9u+okCZ2fE/9UicxcTO9D/akH0g5i73P90qJRKftvQ/W7cuvsyc8j985mQcTvujv4x0HGXOMec/lNtw1NMN/b9Uc4+FGrLpP6CWqRu3ruQ/vU+cxlFJ4D9wQmw4bVPhPzCr9ua6+9i/+Pwk/vbx0D+JVnAMYsqzP9vAXqosaPC/m0+vHuvR9r913nI6XBz7v0JiCpBRacs/QyfjASH7+L/Ti6aRFyX2P5106kKYZs2/frKxlCUC9D93zsuJuwDsv43Qjka4Svk/z+JpZoNk9r9DyPDSobbgP/HbsASgoMO/VTnAiT1f6L9/qwA/pErZP6A8xY8qmO6/mt/7wVLL/b94R43S5Jfhv/TeiKQB8PE/aGcn9MFC9b8AAAQqABT8P5V2G//6aOe/PxJQsMg98r+AvITYzpD3v3ESbXchGMK/5fB/Shpv8D/HC2FK3Zm2P8uB9+jtmcY/ASvzW3nG87+maJaGGPf0P7jXLdMxFeO/NUv7UKOIzL+z8lBnKA3zv+2yDBPeTuq/HuRBXm0Z7T+Pq99yezjcv6ar6n4CQQDAvanTmNpX57/5wxhuJY3xv6TRNZT9kdS/P7rgK27ayL9OPobv3JzwPxgp0R2BveG/YrrMs5L+9T+TZXgaYPWzPxwHOsCrmu+/5XiT+MrV2r8uL9GZKCjCv85vMVs9C+U/sF9ujzcy8z+mrvfl0MkFwLqNXx2kYvo/LGWe6zQt07/SwwnT9bvjP0XE/tMhVOo/ceICy9FX7T9wj6bMwHXdv25D1utEHfU/E5RCBLaM4D9xW5rjGwX0v4bPKJGbvOg/sDf40WLuvD8stXRP3Kj1P45qVnm8Zeu/1iMMULIP7r8nHE/xG3TZv4IQdvPIT+w/4ss/vOY99D8Rw47BhcoFwCYIg69J7N8/femogKEyqj9bi8jfDITwP1ukD9XE1QPA7X25QUqq3z8XUSwpL3jOP+LakTx35f6/aYjz6KPe5r82aTlRVpz4PyyxUjIKi8o/IWBcsvLEtz9UWzLjZQ4FwCDVmCXpI+a/k5ABZ1Or4z/vccU3AwMAwAOzRPdhfNu/Rf/datxlyr/JRU8k8tX7v9thMnNDxtM/YSKa7SEv6D+fQcKofKPRP4Ruhg4SlPM/eNX01WXAwj/sRERqwrD7vxfG5goC6tm/XMq1wqtv9L9UbtQoRU71v0ob5GyeQu8/rLAoEFs+579YemAb4v3sP6tUaqDEd/S/Hsad6Q4V7T+ALrUV6mftP5FxJY3a9vw/lm/FFj5A+L9vKZ0/eDnrvzGvwKE+cvk/f5nlg1Ux2L9+uNgiXgr2Pw0BBpNoPPC/e9dMx2Ti8r+QAvnq4HDpPzw9OGfpGNE/NZed8nnUyb/foyHlC73KvwrYgODfNee/qxQKTrlY3D8aMRYtCoz1v2dgXyF1z7a/+2jE6H9n8r+qBvsC5+zKP6xPAKIFf/C/yXlR9oEmqL8MF/c4wijqPw==",
          "dtype": "f8"
         }
        },
        {
         "opacity": 0.8,
         "type": "histogram",
         "x": {
          "bdata": "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",
          "dtype": "f8"
         }
        }
       ],
       "layout": {
        "barmode": "overlay",
        "template": {
         "data": {
          "bar": [
           {
            "error_x": {
             "color": "#2a3f5f"
            },
            "error_y": {
             "color": "#2a3f5f"
            },
            "marker": {
             "line": {
              "color": "#E5ECF6",
              "width": 0.5
             },
             "pattern": {
              "fillmode": "overlay",
              "size": 10,
              "solidity": 0.2
             }
            },
            "type": "bar"
           }
          ],
          "barpolar": [
           {
            "marker": {
             "line": {
              "color": "#E5ECF6",
              "width": 0.5
             },
             "pattern": {
              "fillmode": "overlay",
              "size": 10,
              "solidity": 0.2
             }
            },
            "type": "barpolar"
           }
          ],
          "carpet": [
           {
            "aaxis": {
             "endlinecolor": "#2a3f5f",
             "gridcolor": "white",
             "linecolor": "white",
             "minorgridcolor": "white",
             "startlinecolor": "#2a3f5f"
            },
            "baxis": {
             "endlinecolor": "#2a3f5f",
             "gridcolor": "white",
             "linecolor": "white",
             "minorgridcolor": "white",
             "startlinecolor": "#2a3f5f"
            },
            "type": "carpet"
           }
          ],
          "choropleth": [
           {
            "colorbar": {
             "outlinewidth": 0,
             "ticks": ""
            },
            "type": "choropleth"
           }
          ],
          "contour": [
           {
            "colorbar": {
             "outlinewidth": 0,
             "ticks": ""
            },
            "colorscale": [
             [
              0,
              "#0d0887"
             ],
             [
              0.1111111111111111,
              "#46039f"
             ],
             [
              0.2222222222222222,
              "#7201a8"
             ],
             [
              0.3333333333333333,
              "#9c179e"
             ],
             [
              0.4444444444444444,
              "#bd3786"
             ],
             [
              0.5555555555555556,
              "#d8576b"
             ],
             [
              0.6666666666666666,
              "#ed7953"
             ],
             [
              0.7777777777777778,
              "#fb9f3a"
             ],
             [
              0.8888888888888888,
              "#fdca26"
             ],
             [
              1,
              "#f0f921"
             ]
            ],
            "type": "contour"
           }
          ],
          "contourcarpet": [
           {
            "colorbar": {
             "outlinewidth": 0,
             "ticks": ""
            },
            "type": "contourcarpet"
           }
          ],
          "heatmap": [
           {
            "colorbar": {
             "outlinewidth": 0,
             "ticks": ""
            },
            "colorscale": [
             [
              0,
              "#0d0887"
             ],
             [
              0.1111111111111111,
              "#46039f"
             ],
             [
              0.2222222222222222,
              "#7201a8"
             ],
             [
              0.3333333333333333,
              "#9c179e"
             ],
             [
              0.4444444444444444,
              "#bd3786"
             ],
             [
              0.5555555555555556,
              "#d8576b"
             ],
             [
              0.6666666666666666,
              "#ed7953"
             ],
             [
              0.7777777777777778,
              "#fb9f3a"
             ],
             [
              0.8888888888888888,
              "#fdca26"
             ],
             [
              1,
              "#f0f921"
             ]
            ],
            "type": "heatmap"
           }
          ],
          "histogram": [
           {
            "marker": {
             "pattern": {
              "fillmode": "overlay",
              "size": 10,
              "solidity": 0.2
             }
            },
            "type": "histogram"
           }
          ],
          "histogram2d": [
           {
            "colorbar": {
             "outlinewidth": 0,
             "ticks": ""
            },
            "colorscale": [
             [
              0,
              "#0d0887"
             ],
             [
              0.1111111111111111,
              "#46039f"
             ],
             [
              0.2222222222222222,
              "#7201a8"
             ],
             [
              0.3333333333333333,
              "#9c179e"
             ],
             [
              0.4444444444444444,
              "#bd3786"
             ],
             [
              0.5555555555555556,
              "#d8576b"
             ],
             [
              0.6666666666666666,
              "#ed7953"
             ],
             [
              0.7777777777777778,
              "#fb9f3a"
             ],
             [
              0.8888888888888888,
              "#fdca26"
             ],
             [
              1,
              "#f0f921"
             ]
            ],
            "type": "histogram2d"
           }
          ],
          "histogram2dcontour": [
           {
            "colorbar": {
             "outlinewidth": 0,
             "ticks": ""
            },
            "colorscale": [
             [
              0,
              "#0d0887"
             ],
             [
              0.1111111111111111,
              "#46039f"
             ],
             [
              0.2222222222222222,
              "#7201a8"
             ],
             [
              0.3333333333333333,
              "#9c179e"
             ],
             [
              0.4444444444444444,
              "#bd3786"
             ],
             [
              0.5555555555555556,
              "#d8576b"
             ],
             [
              0.6666666666666666,
              "#ed7953"
             ],
             [
              0.7777777777777778,
              "#fb9f3a"
             ],
             [
              0.8888888888888888,
              "#fdca26"
             ],
             [
              1,
              "#f0f921"
             ]
            ],
            "type": "histogram2dcontour"
           }
          ],
          "mesh3d": [
           {
            "colorbar": {
             "outlinewidth": 0,
             "ticks": ""
            },
            "type": "mesh3d"
           }
          ],
          "parcoords": [
           {
            "line": {
             "colorbar": {
              "outlinewidth": 0,
              "ticks": ""
             }
            },
            "type": "parcoords"
           }
          ],
          "pie": [
           {
            "automargin": true,
            "type": "pie"
           }
          ],
          "scatter": [
           {
            "fillpattern": {
             "fillmode": "overlay",
             "size": 10,
             "solidity": 0.2
            },
            "type": "scatter"
           }
          ],
          "scatter3d": [
           {
            "line": {
             "colorbar": {
              "outlinewidth": 0,
              "ticks": ""
             }
            },
            "marker": {
             "colorbar": {
              "outlinewidth": 0,
              "ticks": ""
             }
            },
            "type": "scatter3d"
           }
          ],
          "scattercarpet": [
           {
            "marker": {
             "colorbar": {
              "outlinewidth": 0,
              "ticks": ""
             }
            },
            "type": "scattercarpet"
           }
          ],
          "scattergeo": [
           {
            "marker": {
             "colorbar": {
              "outlinewidth": 0,
              "ticks": ""
             }
            },
            "type": "scattergeo"
           }
          ],
          "scattergl": [
           {
            "marker": {
             "colorbar": {
              "outlinewidth": 0,
              "ticks": ""
             }
            },
            "type": "scattergl"
           }
          ],
          "scattermap": [
           {
            "marker": {
             "colorbar": {
              "outlinewidth": 0,
              "ticks": ""
             }
            },
            "type": "scattermap"
           }
          ],
          "scattermapbox": [
           {
            "marker": {
             "colorbar": {
              "outlinewidth": 0,
              "ticks": ""
             }
            },
            "type": "scattermapbox"
           }
          ],
          "scatterpolar": [
           {
            "marker": {
             "colorbar": {
              "outlinewidth": 0,
              "ticks": ""
             }
            },
            "type": "scatterpolar"
           }
          ],
          "scatterpolargl": [
           {
            "marker": {
             "colorbar": {
              "outlinewidth": 0,
              "ticks": ""
             }
            },
            "type": "scatterpolargl"
           }
          ],
          "scatterternary": [
           {
            "marker": {
             "colorbar": {
              "outlinewidth": 0,
              "ticks": ""
             }
            },
            "type": "scatterternary"
           }
          ],
          "surface": [
           {
            "colorbar": {
             "outlinewidth": 0,
             "ticks": ""
            },
            "colorscale": [
             [
              0,
              "#0d0887"
             ],
             [
              0.1111111111111111,
              "#46039f"
             ],
             [
              0.2222222222222222,
              "#7201a8"
             ],
             [
              0.3333333333333333,
              "#9c179e"
             ],
             [
              0.4444444444444444,
              "#bd3786"
             ],
             [
              0.5555555555555556,
              "#d8576b"
             ],
             [
              0.6666666666666666,
              "#ed7953"
             ],
             [
              0.7777777777777778,
              "#fb9f3a"
             ],
             [
              0.8888888888888888,
              "#fdca26"
             ],
             [
              1,
              "#f0f921"
             ]
            ],
            "type": "surface"
           }
          ],
          "table": [
           {
            "cells": {
             "fill": {
              "color": "#EBF0F8"
             },
             "line": {
              "color": "white"
             }
            },
            "header": {
             "fill": {
              "color": "#C8D4E3"
             },
             "line": {
              "color": "white"
             }
            },
            "type": "table"
           }
          ]
         },
         "layout": {
          "annotationdefaults": {
           "arrowcolor": "#2a3f5f",
           "arrowhead": 0,
           "arrowwidth": 1
          },
          "autotypenumbers": "strict",
          "coloraxis": {
           "colorbar": {
            "outlinewidth": 0,
            "ticks": ""
           }
          },
          "colorscale": {
           "diverging": [
            [
             0,
             "#8e0152"
            ],
            [
             0.1,
             "#c51b7d"
            ],
            [
             0.2,
             "#de77ae"
            ],
            [
             0.3,
             "#f1b6da"
            ],
            [
             0.4,
             "#fde0ef"
            ],
            [
             0.5,
             "#f7f7f7"
            ],
            [
             0.6,
             "#e6f5d0"
            ],
            [
             0.7,
             "#b8e186"
            ],
            [
             0.8,
             "#7fbc41"
            ],
            [
             0.9,
             "#4d9221"
            ],
            [
             1,
             "#276419"
            ]
           ],
           "sequential": [
            [
             0,
             "#0d0887"
            ],
            [
             0.1111111111111111,
             "#46039f"
            ],
            [
             0.2222222222222222,
             "#7201a8"
            ],
            [
             0.3333333333333333,
             "#9c179e"
            ],
            [
             0.4444444444444444,
             "#bd3786"
            ],
            [
             0.5555555555555556,
             "#d8576b"
            ],
            [
             0.6666666666666666,
             "#ed7953"
            ],
            [
             0.7777777777777778,
             "#fb9f3a"
            ],
            [
             0.8888888888888888,
             "#fdca26"
            ],
            [
             1,
             "#f0f921"
            ]
           ],
           "sequentialminus": [
            [
             0,
             "#0d0887"
            ],
            [
             0.1111111111111111,
             "#46039f"
            ],
            [
             0.2222222222222222,
             "#7201a8"
            ],
            [
             0.3333333333333333,
             "#9c179e"
            ],
            [
             0.4444444444444444,
             "#bd3786"
            ],
            [
             0.5555555555555556,
             "#d8576b"
            ],
            [
             0.6666666666666666,
             "#ed7953"
            ],
            [
             0.7777777777777778,
             "#fb9f3a"
            ],
            [
             0.8888888888888888,
             "#fdca26"
            ],
            [
             1,
             "#f0f921"
            ]
           ]
          },
          "colorway": [
           "#636efa",
           "#EF553B",
           "#00cc96",
           "#ab63fa",
           "#FFA15A",
           "#19d3f3",
           "#FF6692",
           "#B6E880",
           "#FF97FF",
           "#FECB52"
          ],
          "font": {
           "color": "#2a3f5f"
          },
          "geo": {
           "bgcolor": "white",
           "lakecolor": "white",
           "landcolor": "#E5ECF6",
           "showlakes": true,
           "showland": true,
           "subunitcolor": "white"
          },
          "hoverlabel": {
           "align": "left"
          },
          "hovermode": "closest",
          "mapbox": {
           "style": "light"
          },
          "paper_bgcolor": "white",
          "plot_bgcolor": "#E5ECF6",
          "polar": {
           "angularaxis": {
            "gridcolor": "white",
            "linecolor": "white",
            "ticks": ""
           },
           "bgcolor": "#E5ECF6",
           "radialaxis": {
            "gridcolor": "white",
            "linecolor": "white",
            "ticks": ""
           }
          },
          "scene": {
           "xaxis": {
            "backgroundcolor": "#E5ECF6",
            "gridcolor": "white",
            "gridwidth": 2,
            "linecolor": "white",
            "showbackground": true,
            "ticks": "",
            "zerolinecolor": "white"
           },
           "yaxis": {
            "backgroundcolor": "#E5ECF6",
            "gridcolor": "white",
            "gridwidth": 2,
            "linecolor": "white",
            "showbackground": true,
            "ticks": "",
            "zerolinecolor": "white"
           },
           "zaxis": {
            "backgroundcolor": "#E5ECF6",
            "gridcolor": "white",
            "gridwidth": 2,
            "linecolor": "white",
            "showbackground": true,
            "ticks": "",
            "zerolinecolor": "white"
           }
          },
          "shapedefaults": {
           "line": {
            "color": "#2a3f5f"
           }
          },
          "ternary": {
           "aaxis": {
            "gridcolor": "white",
            "linecolor": "white",
            "ticks": ""
           },
           "baxis": {
            "gridcolor": "white",
            "linecolor": "white",
            "ticks": ""
           },
           "bgcolor": "#E5ECF6",
           "caxis": {
            "gridcolor": "white",
            "linecolor": "white",
            "ticks": ""
           }
          },
          "title": {
           "x": 0.05
          },
          "xaxis": {
           "automargin": true,
           "gridcolor": "white",
           "linecolor": "white",
           "ticks": "",
           "title": {
            "standoff": 15
           },
           "zerolinecolor": "white",
           "zerolinewidth": 2
          },
          "yaxis": {
           "automargin": true,
           "gridcolor": "white",
           "linecolor": "white",
           "ticks": "",
           "title": {
            "standoff": 15
           },
           "zerolinecolor": "white",
           "zerolinewidth": 2
          }
         }
        }
       }
      },
      "image/png": "[encoded data removed]"
     },
     "metadata": {},
     "output_type": "display_data"
    }
   ],
   "source": [
    "fig = go.Figure()\n",
    "fig.add_trace(go.Histogram(x=x))\n",
    "fig.add_trace(go.Histogram(x=x1))\n",
    "\n",
    "fig.update_layout(barmode='overlay')\n",
    "fig.update_traces(opacity=0.8)"
   ]
  },
  {
   "cell_type": "markdown",
   "id": "5b191f31-0a65-4e0b-8bd9-5923a8d5ebd1",
   "metadata": {},
   "source": [
    "## Boxplots"
   ]
  },
  {
   "cell_type": "code",
   "execution_count": 40,
   "id": "564434f8-55df-438c-af1d-2397619f409c",
   "metadata": {},
   "outputs": [],
   "source": [
    "import plotly.graph_objects as go\n",
    "import numpy as np\n",
    "np.random.seed(1)\n",
    "\n",
    "y0 = np.random.randn(50) - 1\n",
    "y1 = np.random.randn(50) + 1"
   ]
  },
  {
   "cell_type": "code",
   "execution_count": 44,
   "id": "0ab6be2e-1185-4168-971a-594a9fdda280",
   "metadata": {},
   "outputs": [
    {
     "data": {
      "application/vnd.plotly.v1+json": {
       "config": {
        "plotlyServerURL": "https://plot.ly"
       },
       "data": [
        {
         "type": "box",
         "y": {
          "bdata": "oPjKIKP64z/W7NsXwcn5v+lHKjlkc/i/BlyuknCVAMAMuiujUjrBv1mizB6NaQrACowfe3/V5z/7V41J5y38v25CiYVuyuW/eUR0ymv987/YITUrLZPdP/SaYw0rewjADn4u8Z4o9b/l/tItFiX2v1h2BGpbH8E/dijyypPMAMBxZIUURMLyv3fZt0S1C/6/30ZNWy+m7r+8rF7RJ7Pav+PWW20RzgDAkMRbeE6Gwj9QR628WTG5vwpy//sh19+/yJeAJ4Fhub8iSaifjPD6v0ycub1b9/G/ctPLXun4/r8zts8CRUn0vwCzxvGnDt6/Q2RJ3QoR+7+OtOY5Gln2v657G82o/vq/chvKWfaF/b+6KziVbL36vznHYsvfM/C/jvd2aEDwAMA6nIamqn/ovx6HkHQZHeU/DHyINVmC0L/WpvknwhHzv7Cgu226M/6/KIVJQVz0+7/yHyyNlijmPxFSW2rIX+6/IFvbWCIx+r8ttKE1BeTpvxzsRiGlmvE/FKKYaagn7L/uSzSHvn/Yvw==",
          "dtype": "f8"
         }
        },
        {
         "type": "box",
         "y": {
          "bdata": "ywq3ZH/N9D8WQqmHXrrkP0iDy0sJPsK/xIMENi/S5D+AomoKvVDpPzw+0//OYvk/j6NH33ls/T8i+8ZLy+X+PxDo4QPEkfQ/oi0OyIkp/j8o9J9l42/PPyJqR73fBQJAgGo95vU0+D82+8EDBnbmP+0Ybmf40Pc/v0yCoeqU7T8CX1K1kw0BQK6NE7iVKARAwQNw9Q58CUAA8nkqMmDZv6BrgU9cbNy/qpQs0NS23z9c0bYHg4/yP+Bz37PJBP4/wAn+OtcM9T8YVH6p71rwv/Rte6STM+Y/hqW+VmI//T/m8jXRd67zPyoGqqIyMfw/N0JQF7Di6D+WM3HQY5PpP+/aD8wn/PI/4eLmUJKP9j/CAcxTPCzzP9PyGpx15/E/9Jdufd4T1T++byZTgAr2P5TYbdz68vE/Qrju2y4JAUAOIuZBYpcBQBrPW5Nm9vI/rdKVaqr94z+8fkF/Ch/XP6jvCwSixvY/taOD8Mg88T/BApqTJv/kP9f7JJ6SsvA/UAbw+udR2D+aaF6jIyv7Pw==",
          "dtype": "f8"
         }
        }
       ],
       "layout": {
        "height": 600,
        "template": {
         "data": {
          "bar": [
           {
            "error_x": {
             "color": "#2a3f5f"
            },
            "error_y": {
             "color": "#2a3f5f"
            },
            "marker": {
             "line": {
              "color": "#E5ECF6",
              "width": 0.5
             },
             "pattern": {
              "fillmode": "overlay",
              "size": 10,
              "solidity": 0.2
             }
            },
            "type": "bar"
           }
          ],
          "barpolar": [
           {
            "marker": {
             "line": {
              "color": "#E5ECF6",
              "width": 0.5
             },
             "pattern": {
              "fillmode": "overlay",
              "size": 10,
              "solidity": 0.2
             }
            },
            "type": "barpolar"
           }
          ],
          "carpet": [
           {
            "aaxis": {
             "endlinecolor": "#2a3f5f",
             "gridcolor": "white",
             "linecolor": "white",
             "minorgridcolor": "white",
             "startlinecolor": "#2a3f5f"
            },
            "baxis": {
             "endlinecolor": "#2a3f5f",
             "gridcolor": "white",
             "linecolor": "white",
             "minorgridcolor": "white",
             "startlinecolor": "#2a3f5f"
            },
            "type": "carpet"
           }
          ],
          "choropleth": [
           {
            "colorbar": {
             "outlinewidth": 0,
             "ticks": ""
            },
            "type": "choropleth"
           }
          ],
          "contour": [
           {
            "colorbar": {
             "outlinewidth": 0,
             "ticks": ""
            },
            "colorscale": [
             [
              0,
              "#0d0887"
             ],
             [
              0.1111111111111111,
              "#46039f"
             ],
             [
              0.2222222222222222,
              "#7201a8"
             ],
             [
              0.3333333333333333,
              "#9c179e"
             ],
             [
              0.4444444444444444,
              "#bd3786"
             ],
             [
              0.5555555555555556,
              "#d8576b"
             ],
             [
              0.6666666666666666,
              "#ed7953"
             ],
             [
              0.7777777777777778,
              "#fb9f3a"
             ],
             [
              0.8888888888888888,
              "#fdca26"
             ],
             [
              1,
              "#f0f921"
             ]
            ],
            "type": "contour"
           }
          ],
          "contourcarpet": [
           {
            "colorbar": {
             "outlinewidth": 0,
             "ticks": ""
            },
            "type": "contourcarpet"
           }
          ],
          "heatmap": [
           {
            "colorbar": {
             "outlinewidth": 0,
             "ticks": ""
            },
            "colorscale": [
             [
              0,
              "#0d0887"
             ],
             [
              0.1111111111111111,
              "#46039f"
             ],
             [
              0.2222222222222222,
              "#7201a8"
             ],
             [
              0.3333333333333333,
              "#9c179e"
             ],
             [
              0.4444444444444444,
              "#bd3786"
             ],
             [
              0.5555555555555556,
              "#d8576b"
             ],
             [
              0.6666666666666666,
              "#ed7953"
             ],
             [
              0.7777777777777778,
              "#fb9f3a"
             ],
             [
              0.8888888888888888,
              "#fdca26"
             ],
             [
              1,
              "#f0f921"
             ]
            ],
            "type": "heatmap"
           }
          ],
          "histogram": [
           {
            "marker": {
             "pattern": {
              "fillmode": "overlay",
              "size": 10,
              "solidity": 0.2
             }
            },
            "type": "histogram"
           }
          ],
          "histogram2d": [
           {
            "colorbar": {
             "outlinewidth": 0,
             "ticks": ""
            },
            "colorscale": [
             [
              0,
              "#0d0887"
             ],
             [
              0.1111111111111111,
              "#46039f"
             ],
             [
              0.2222222222222222,
              "#7201a8"
             ],
             [
              0.3333333333333333,
              "#9c179e"
             ],
             [
              0.4444444444444444,
              "#bd3786"
             ],
             [
              0.5555555555555556,
              "#d8576b"
             ],
             [
              0.6666666666666666,
              "#ed7953"
             ],
             [
              0.7777777777777778,
              "#fb9f3a"
             ],
             [
              0.8888888888888888,
              "#fdca26"
             ],
             [
              1,
              "#f0f921"
             ]
            ],
            "type": "histogram2d"
           }
          ],
          "histogram2dcontour": [
           {
            "colorbar": {
             "outlinewidth": 0,
             "ticks": ""
            },
            "colorscale": [
             [
              0,
              "#0d0887"
             ],
             [
              0.1111111111111111,
              "#46039f"
             ],
             [
              0.2222222222222222,
              "#7201a8"
             ],
             [
              0.3333333333333333,
              "#9c179e"
             ],
             [
              0.4444444444444444,
              "#bd3786"
             ],
             [
              0.5555555555555556,
              "#d8576b"
             ],
             [
              0.6666666666666666,
              "#ed7953"
             ],
             [
              0.7777777777777778,
              "#fb9f3a"
             ],
             [
              0.8888888888888888,
              "#fdca26"
             ],
             [
              1,
              "#f0f921"
             ]
            ],
            "type": "histogram2dcontour"
           }
          ],
          "mesh3d": [
           {
            "colorbar": {
             "outlinewidth": 0,
             "ticks": ""
            },
            "type": "mesh3d"
           }
          ],
          "parcoords": [
           {
            "line": {
             "colorbar": {
              "outlinewidth": 0,
              "ticks": ""
             }
            },
            "type": "parcoords"
           }
          ],
          "pie": [
           {
            "automargin": true,
            "type": "pie"
           }
          ],
          "scatter": [
           {
            "fillpattern": {
             "fillmode": "overlay",
             "size": 10,
             "solidity": 0.2
            },
            "type": "scatter"
           }
          ],
          "scatter3d": [
           {
            "line": {
             "colorbar": {
              "outlinewidth": 0,
              "ticks": ""
             }
            },
            "marker": {
             "colorbar": {
              "outlinewidth": 0,
              "ticks": ""
             }
            },
            "type": "scatter3d"
           }
          ],
          "scattercarpet": [
           {
            "marker": {
             "colorbar": {
              "outlinewidth": 0,
              "ticks": ""
             }
            },
            "type": "scattercarpet"
           }
          ],
          "scattergeo": [
           {
            "marker": {
             "colorbar": {
              "outlinewidth": 0,
              "ticks": ""
             }
            },
            "type": "scattergeo"
           }
          ],
          "scattergl": [
           {
            "marker": {
             "colorbar": {
              "outlinewidth": 0,
              "ticks": ""
             }
            },
            "type": "scattergl"
           }
          ],
          "scattermap": [
           {
            "marker": {
             "colorbar": {
              "outlinewidth": 0,
              "ticks": ""
             }
            },
            "type": "scattermap"
           }
          ],
          "scattermapbox": [
           {
            "marker": {
             "colorbar": {
              "outlinewidth": 0,
              "ticks": ""
             }
            },
            "type": "scattermapbox"
           }
          ],
          "scatterpolar": [
           {
            "marker": {
             "colorbar": {
              "outlinewidth": 0,
              "ticks": ""
             }
            },
            "type": "scatterpolar"
           }
          ],
          "scatterpolargl": [
           {
            "marker": {
             "colorbar": {
              "outlinewidth": 0,
              "ticks": ""
             }
            },
            "type": "scatterpolargl"
           }
          ],
          "scatterternary": [
           {
            "marker": {
             "colorbar": {
              "outlinewidth": 0,
              "ticks": ""
             }
            },
            "type": "scatterternary"
           }
          ],
          "surface": [
           {
            "colorbar": {
             "outlinewidth": 0,
             "ticks": ""
            },
            "colorscale": [
             [
              0,
              "#0d0887"
             ],
             [
              0.1111111111111111,
              "#46039f"
             ],
             [
              0.2222222222222222,
              "#7201a8"
             ],
             [
              0.3333333333333333,
              "#9c179e"
             ],
             [
              0.4444444444444444,
              "#bd3786"
             ],
             [
              0.5555555555555556,
              "#d8576b"
             ],
             [
              0.6666666666666666,
              "#ed7953"
             ],
             [
              0.7777777777777778,
              "#fb9f3a"
             ],
             [
              0.8888888888888888,
              "#fdca26"
             ],
             [
              1,
              "#f0f921"
             ]
            ],
            "type": "surface"
           }
          ],
          "table": [
           {
            "cells": {
             "fill": {
              "color": "#EBF0F8"
             },
             "line": {
              "color": "white"
             }
            },
            "header": {
             "fill": {
              "color": "#C8D4E3"
             },
             "line": {
              "color": "white"
             }
            },
            "type": "table"
           }
          ]
         },
         "layout": {
          "annotationdefaults": {
           "arrowcolor": "#2a3f5f",
           "arrowhead": 0,
           "arrowwidth": 1
          },
          "autotypenumbers": "strict",
          "coloraxis": {
           "colorbar": {
            "outlinewidth": 0,
            "ticks": ""
           }
          },
          "colorscale": {
           "diverging": [
            [
             0,
             "#8e0152"
            ],
            [
             0.1,
             "#c51b7d"
            ],
            [
             0.2,
             "#de77ae"
            ],
            [
             0.3,
             "#f1b6da"
            ],
            [
             0.4,
             "#fde0ef"
            ],
            [
             0.5,
             "#f7f7f7"
            ],
            [
             0.6,
             "#e6f5d0"
            ],
            [
             0.7,
             "#b8e186"
            ],
            [
             0.8,
             "#7fbc41"
            ],
            [
             0.9,
             "#4d9221"
            ],
            [
             1,
             "#276419"
            ]
           ],
           "sequential": [
            [
             0,
             "#0d0887"
            ],
            [
             0.1111111111111111,
             "#46039f"
            ],
            [
             0.2222222222222222,
             "#7201a8"
            ],
            [
             0.3333333333333333,
             "#9c179e"
            ],
            [
             0.4444444444444444,
             "#bd3786"
            ],
            [
             0.5555555555555556,
             "#d8576b"
            ],
            [
             0.6666666666666666,
             "#ed7953"
            ],
            [
             0.7777777777777778,
             "#fb9f3a"
            ],
            [
             0.8888888888888888,
             "#fdca26"
            ],
            [
             1,
             "#f0f921"
            ]
           ],
           "sequentialminus": [
            [
             0,
             "#0d0887"
            ],
            [
             0.1111111111111111,
             "#46039f"
            ],
            [
             0.2222222222222222,
             "#7201a8"
            ],
            [
             0.3333333333333333,
             "#9c179e"
            ],
            [
             0.4444444444444444,
             "#bd3786"
            ],
            [
             0.5555555555555556,
             "#d8576b"
            ],
            [
             0.6666666666666666,
             "#ed7953"
            ],
            [
             0.7777777777777778,
             "#fb9f3a"
            ],
            [
             0.8888888888888888,
             "#fdca26"
            ],
            [
             1,
             "#f0f921"
            ]
           ]
          },
          "colorway": [
           "#636efa",
           "#EF553B",
           "#00cc96",
           "#ab63fa",
           "#FFA15A",
           "#19d3f3",
           "#FF6692",
           "#B6E880",
           "#FF97FF",
           "#FECB52"
          ],
          "font": {
           "color": "#2a3f5f"
          },
          "geo": {
           "bgcolor": "white",
           "lakecolor": "white",
           "landcolor": "#E5ECF6",
           "showlakes": true,
           "showland": true,
           "subunitcolor": "white"
          },
          "hoverlabel": {
           "align": "left"
          },
          "hovermode": "closest",
          "mapbox": {
           "style": "light"
          },
          "paper_bgcolor": "white",
          "plot_bgcolor": "#E5ECF6",
          "polar": {
           "angularaxis": {
            "gridcolor": "white",
            "linecolor": "white",
            "ticks": ""
           },
           "bgcolor": "#E5ECF6",
           "radialaxis": {
            "gridcolor": "white",
            "linecolor": "white",
            "ticks": ""
           }
          },
          "scene": {
           "xaxis": {
            "backgroundcolor": "#E5ECF6",
            "gridcolor": "white",
            "gridwidth": 2,
            "linecolor": "white",
            "showbackground": true,
            "ticks": "",
            "zerolinecolor": "white"
           },
           "yaxis": {
            "backgroundcolor": "#E5ECF6",
            "gridcolor": "white",
            "gridwidth": 2,
            "linecolor": "white",
            "showbackground": true,
            "ticks": "",
            "zerolinecolor": "white"
           },
           "zaxis": {
            "backgroundcolor": "#E5ECF6",
            "gridcolor": "white",
            "gridwidth": 2,
            "linecolor": "white",
            "showbackground": true,
            "ticks": "",
            "zerolinecolor": "white"
           }
          },
          "shapedefaults": {
           "line": {
            "color": "#2a3f5f"
           }
          },
          "ternary": {
           "aaxis": {
            "gridcolor": "white",
            "linecolor": "white",
            "ticks": ""
           },
           "baxis": {
            "gridcolor": "white",
            "linecolor": "white",
            "ticks": ""
           },
           "bgcolor": "#E5ECF6",
           "caxis": {
            "gridcolor": "white",
            "linecolor": "white",
            "ticks": ""
           }
          },
          "title": {
           "x": 0.05
          },
          "xaxis": {
           "automargin": true,
           "gridcolor": "white",
           "linecolor": "white",
           "ticks": "",
           "title": {
            "standoff": 15
           },
           "zerolinecolor": "white",
           "zerolinewidth": 2
          },
          "yaxis": {
           "automargin": true,
           "gridcolor": "white",
           "linecolor": "white",
           "ticks": "",
           "title": {
            "standoff": 15
           },
           "zerolinecolor": "white",
           "zerolinewidth": 2
          }
         }
        }
       }
      },
      "image/png": "[encoded data removed]"
     },
     "metadata": {},
     "output_type": "display_data"
    }
   ],
   "source": [
    "fig = go.Figure()\n",
    "fig.add_trace(go.Box(y=y0))\n",
    "fig.add_trace(go.Box(y=y1))\n",
    "\n",
    "fig.update_layout(height=600)"
   ]
  },
  {
   "cell_type": "markdown",
   "id": "bbedb931-47a7-420e-8ac3-9351f99481e1",
   "metadata": {},
   "source": [
    "## Histogram2D"
   ]
  },
  {
   "cell_type": "code",
   "execution_count": 45,
   "id": "dd7d028b-dbba-4867-8e37-06c2aaa3460f",
   "metadata": {},
   "outputs": [],
   "source": [
    "import plotly.graph_objects as go\n",
    "import numpy as np\n",
    "np.random.seed(1)\n",
    "\n",
    "x = np.random.randn(500)\n",
    "y = np.random.randn(500) + 1"
   ]
  },
  {
   "cell_type": "code",
   "execution_count": 47,
   "id": "fa4e1a2b-5306-4ec8-bd7a-6a16fa518aa1",
   "metadata": {},
   "outputs": [
    {
     "data": {
      "application/vnd.plotly.v1+json": {
       "config": {
        "plotlyServerURL": "https://plot.ly"
       },
       "data": [
        {
         "type": "histogram2d",
         "x": {
          "bdata": "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",
          "dtype": "f8"
         },
         "y": {
          "bdata": "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",
          "dtype": "f8"
         }
        }
       ],
       "layout": {
        "height": 500,
        "template": {
         "data": {
          "bar": [
           {
            "error_x": {
             "color": "#2a3f5f"
            },
            "error_y": {
             "color": "#2a3f5f"
            },
            "marker": {
             "line": {
              "color": "#E5ECF6",
              "width": 0.5
             },
             "pattern": {
              "fillmode": "overlay",
              "size": 10,
              "solidity": 0.2
             }
            },
            "type": "bar"
           }
          ],
          "barpolar": [
           {
            "marker": {
             "line": {
              "color": "#E5ECF6",
              "width": 0.5
             },
             "pattern": {
              "fillmode": "overlay",
              "size": 10,
              "solidity": 0.2
             }
            },
            "type": "barpolar"
           }
          ],
          "carpet": [
           {
            "aaxis": {
             "endlinecolor": "#2a3f5f",
             "gridcolor": "white",
             "linecolor": "white",
             "minorgridcolor": "white",
             "startlinecolor": "#2a3f5f"
            },
            "baxis": {
             "endlinecolor": "#2a3f5f",
             "gridcolor": "white",
             "linecolor": "white",
             "minorgridcolor": "white",
             "startlinecolor": "#2a3f5f"
            },
            "type": "carpet"
           }
          ],
          "choropleth": [
           {
            "colorbar": {
             "outlinewidth": 0,
             "ticks": ""
            },
            "type": "choropleth"
           }
          ],
          "contour": [
           {
            "colorbar": {
             "outlinewidth": 0,
             "ticks": ""
            },
            "colorscale": [
             [
              0,
              "#0d0887"
             ],
             [
              0.1111111111111111,
              "#46039f"
             ],
             [
              0.2222222222222222,
              "#7201a8"
             ],
             [
              0.3333333333333333,
              "#9c179e"
             ],
             [
              0.4444444444444444,
              "#bd3786"
             ],
             [
              0.5555555555555556,
              "#d8576b"
             ],
             [
              0.6666666666666666,
              "#ed7953"
             ],
             [
              0.7777777777777778,
              "#fb9f3a"
             ],
             [
              0.8888888888888888,
              "#fdca26"
             ],
             [
              1,
              "#f0f921"
             ]
            ],
            "type": "contour"
           }
          ],
          "contourcarpet": [
           {
            "colorbar": {
             "outlinewidth": 0,
             "ticks": ""
            },
            "type": "contourcarpet"
           }
          ],
          "heatmap": [
           {
            "colorbar": {
             "outlinewidth": 0,
             "ticks": ""
            },
            "colorscale": [
             [
              0,
              "#0d0887"
             ],
             [
              0.1111111111111111,
              "#46039f"
             ],
             [
              0.2222222222222222,
              "#7201a8"
             ],
             [
              0.3333333333333333,
              "#9c179e"
             ],
             [
              0.4444444444444444,
              "#bd3786"
             ],
             [
              0.5555555555555556,
              "#d8576b"
             ],
             [
              0.6666666666666666,
              "#ed7953"
             ],
             [
              0.7777777777777778,
              "#fb9f3a"
             ],
             [
              0.8888888888888888,
              "#fdca26"
             ],
             [
              1,
              "#f0f921"
             ]
            ],
            "type": "heatmap"
           }
          ],
          "histogram": [
           {
            "marker": {
             "pattern": {
              "fillmode": "overlay",
              "size": 10,
              "solidity": 0.2
             }
            },
            "type": "histogram"
           }
          ],
          "histogram2d": [
           {
            "colorbar": {
             "outlinewidth": 0,
             "ticks": ""
            },
            "colorscale": [
             [
              0,
              "#0d0887"
             ],
             [
              0.1111111111111111,
              "#46039f"
             ],
             [
              0.2222222222222222,
              "#7201a8"
             ],
             [
              0.3333333333333333,
              "#9c179e"
             ],
             [
              0.4444444444444444,
              "#bd3786"
             ],
             [
              0.5555555555555556,
              "#d8576b"
             ],
             [
              0.6666666666666666,
              "#ed7953"
             ],
             [
              0.7777777777777778,
              "#fb9f3a"
             ],
             [
              0.8888888888888888,
              "#fdca26"
             ],
             [
              1,
              "#f0f921"
             ]
            ],
            "type": "histogram2d"
           }
          ],
          "histogram2dcontour": [
           {
            "colorbar": {
             "outlinewidth": 0,
             "ticks": ""
            },
            "colorscale": [
             [
              0,
              "#0d0887"
             ],
             [
              0.1111111111111111,
              "#46039f"
             ],
             [
              0.2222222222222222,
              "#7201a8"
             ],
             [
              0.3333333333333333,
              "#9c179e"
             ],
             [
              0.4444444444444444,
              "#bd3786"
             ],
             [
              0.5555555555555556,
              "#d8576b"
             ],
             [
              0.6666666666666666,
              "#ed7953"
             ],
             [
              0.7777777777777778,
              "#fb9f3a"
             ],
             [
              0.8888888888888888,
              "#fdca26"
             ],
             [
              1,
              "#f0f921"
             ]
            ],
            "type": "histogram2dcontour"
           }
          ],
          "mesh3d": [
           {
            "colorbar": {
             "outlinewidth": 0,
             "ticks": ""
            },
            "type": "mesh3d"
           }
          ],
          "parcoords": [
           {
            "line": {
             "colorbar": {
              "outlinewidth": 0,
              "ticks": ""
             }
            },
            "type": "parcoords"
           }
          ],
          "pie": [
           {
            "automargin": true,
            "type": "pie"
           }
          ],
          "scatter": [
           {
            "fillpattern": {
             "fillmode": "overlay",
             "size": 10,
             "solidity": 0.2
            },
            "type": "scatter"
           }
          ],
          "scatter3d": [
           {
            "line": {
             "colorbar": {
              "outlinewidth": 0,
              "ticks": ""
             }
            },
            "marker": {
             "colorbar": {
              "outlinewidth": 0,
              "ticks": ""
             }
            },
            "type": "scatter3d"
           }
          ],
          "scattercarpet": [
           {
            "marker": {
             "colorbar": {
              "outlinewidth": 0,
              "ticks": ""
             }
            },
            "type": "scattercarpet"
           }
          ],
          "scattergeo": [
           {
            "marker": {
             "colorbar": {
              "outlinewidth": 0,
              "ticks": ""
             }
            },
            "type": "scattergeo"
           }
          ],
          "scattergl": [
           {
            "marker": {
             "colorbar": {
              "outlinewidth": 0,
              "ticks": ""
             }
            },
            "type": "scattergl"
           }
          ],
          "scattermap": [
           {
            "marker": {
             "colorbar": {
              "outlinewidth": 0,
              "ticks": ""
             }
            },
            "type": "scattermap"
           }
          ],
          "scattermapbox": [
           {
            "marker": {
             "colorbar": {
              "outlinewidth": 0,
              "ticks": ""
             }
            },
            "type": "scattermapbox"
           }
          ],
          "scatterpolar": [
           {
            "marker": {
             "colorbar": {
              "outlinewidth": 0,
              "ticks": ""
             }
            },
            "type": "scatterpolar"
           }
          ],
          "scatterpolargl": [
           {
            "marker": {
             "colorbar": {
              "outlinewidth": 0,
              "ticks": ""
             }
            },
            "type": "scatterpolargl"
           }
          ],
          "scatterternary": [
           {
            "marker": {
             "colorbar": {
              "outlinewidth": 0,
              "ticks": ""
             }
            },
            "type": "scatterternary"
           }
          ],
          "surface": [
           {
            "colorbar": {
             "outlinewidth": 0,
             "ticks": ""
            },
            "colorscale": [
             [
              0,
              "#0d0887"
             ],
             [
              0.1111111111111111,
              "#46039f"
             ],
             [
              0.2222222222222222,
              "#7201a8"
             ],
             [
              0.3333333333333333,
              "#9c179e"
             ],
             [
              0.4444444444444444,
              "#bd3786"
             ],
             [
              0.5555555555555556,
              "#d8576b"
             ],
             [
              0.6666666666666666,
              "#ed7953"
             ],
             [
              0.7777777777777778,
              "#fb9f3a"
             ],
             [
              0.8888888888888888,
              "#fdca26"
             ],
             [
              1,
              "#f0f921"
             ]
            ],
            "type": "surface"
           }
          ],
          "table": [
           {
            "cells": {
             "fill": {
              "color": "#EBF0F8"
             },
             "line": {
              "color": "white"
             }
            },
            "header": {
             "fill": {
              "color": "#C8D4E3"
             },
             "line": {
              "color": "white"
             }
            },
            "type": "table"
           }
          ]
         },
         "layout": {
          "annotationdefaults": {
           "arrowcolor": "#2a3f5f",
           "arrowhead": 0,
           "arrowwidth": 1
          },
          "autotypenumbers": "strict",
          "coloraxis": {
           "colorbar": {
            "outlinewidth": 0,
            "ticks": ""
           }
          },
          "colorscale": {
           "diverging": [
            [
             0,
             "#8e0152"
            ],
            [
             0.1,
             "#c51b7d"
            ],
            [
             0.2,
             "#de77ae"
            ],
            [
             0.3,
             "#f1b6da"
            ],
            [
             0.4,
             "#fde0ef"
            ],
            [
             0.5,
             "#f7f7f7"
            ],
            [
             0.6,
             "#e6f5d0"
            ],
            [
             0.7,
             "#b8e186"
            ],
            [
             0.8,
             "#7fbc41"
            ],
            [
             0.9,
             "#4d9221"
            ],
            [
             1,
             "#276419"
            ]
           ],
           "sequential": [
            [
             0,
             "#0d0887"
            ],
            [
             0.1111111111111111,
             "#46039f"
            ],
            [
             0.2222222222222222,
             "#7201a8"
            ],
            [
             0.3333333333333333,
             "#9c179e"
            ],
            [
             0.4444444444444444,
             "#bd3786"
            ],
            [
             0.5555555555555556,
             "#d8576b"
            ],
            [
             0.6666666666666666,
             "#ed7953"
            ],
            [
             0.7777777777777778,
             "#fb9f3a"
            ],
            [
             0.8888888888888888,
             "#fdca26"
            ],
            [
             1,
             "#f0f921"
            ]
           ],
           "sequentialminus": [
            [
             0,
             "#0d0887"
            ],
            [
             0.1111111111111111,
             "#46039f"
            ],
            [
             0.2222222222222222,
             "#7201a8"
            ],
            [
             0.3333333333333333,
             "#9c179e"
            ],
            [
             0.4444444444444444,
             "#bd3786"
            ],
            [
             0.5555555555555556,
             "#d8576b"
            ],
            [
             0.6666666666666666,
             "#ed7953"
            ],
            [
             0.7777777777777778,
             "#fb9f3a"
            ],
            [
             0.8888888888888888,
             "#fdca26"
            ],
            [
             1,
             "#f0f921"
            ]
           ]
          },
          "colorway": [
           "#636efa",
           "#EF553B",
           "#00cc96",
           "#ab63fa",
           "#FFA15A",
           "#19d3f3",
           "#FF6692",
           "#B6E880",
           "#FF97FF",
           "#FECB52"
          ],
          "font": {
           "color": "#2a3f5f"
          },
          "geo": {
           "bgcolor": "white",
           "lakecolor": "white",
           "landcolor": "#E5ECF6",
           "showlakes": true,
           "showland": true,
           "subunitcolor": "white"
          },
          "hoverlabel": {
           "align": "left"
          },
          "hovermode": "closest",
          "mapbox": {
           "style": "light"
          },
          "paper_bgcolor": "white",
          "plot_bgcolor": "#E5ECF6",
          "polar": {
           "angularaxis": {
            "gridcolor": "white",
            "linecolor": "white",
            "ticks": ""
           },
           "bgcolor": "#E5ECF6",
           "radialaxis": {
            "gridcolor": "white",
            "linecolor": "white",
            "ticks": ""
           }
          },
          "scene": {
           "xaxis": {
            "backgroundcolor": "#E5ECF6",
            "gridcolor": "white",
            "gridwidth": 2,
            "linecolor": "white",
            "showbackground": true,
            "ticks": "",
            "zerolinecolor": "white"
           },
           "yaxis": {
            "backgroundcolor": "#E5ECF6",
            "gridcolor": "white",
            "gridwidth": 2,
            "linecolor": "white",
            "showbackground": true,
            "ticks": "",
            "zerolinecolor": "white"
           },
           "zaxis": {
            "backgroundcolor": "#E5ECF6",
            "gridcolor": "white",
            "gridwidth": 2,
            "linecolor": "white",
            "showbackground": true,
            "ticks": "",
            "zerolinecolor": "white"
           }
          },
          "shapedefaults": {
           "line": {
            "color": "#2a3f5f"
           }
          },
          "ternary": {
           "aaxis": {
            "gridcolor": "white",
            "linecolor": "white",
            "ticks": ""
           },
           "baxis": {
            "gridcolor": "white",
            "linecolor": "white",
            "ticks": ""
           },
           "bgcolor": "#E5ECF6",
           "caxis": {
            "gridcolor": "white",
            "linecolor": "white",
            "ticks": ""
           }
          },
          "title": {
           "x": 0.05
          },
          "xaxis": {
           "automargin": true,
           "gridcolor": "white",
           "linecolor": "white",
           "ticks": "",
           "title": {
            "standoff": 15
           },
           "zerolinecolor": "white",
           "zerolinewidth": 2
          },
          "yaxis": {
           "automargin": true,
           "gridcolor": "white",
           "linecolor": "white",
           "ticks": "",
           "title": {
            "standoff": 15
           },
           "zerolinecolor": "white",
           "zerolinewidth": 2
          }
         }
        }
       }
      },
      "image/png": "[encoded data removed]"
     },
     "metadata": {},
     "output_type": "display_data"
    }
   ],
   "source": [
    "fig = go.Figure(go.Histogram2d(\n",
    "        x=x,\n",
    "        y=y\n",
    "    ))\n",
    "\n",
    "fig.update_layout(height=500)\n",
    "fig.show()"
   ]
  },
  {
   "cell_type": "code",
   "execution_count": 48,
   "id": "31c3abe6-acb0-4d12-9c68-c333c26c7db6",
   "metadata": {},
   "outputs": [
    {
     "data": {
      "application/vnd.plotly.v1+json": {
       "config": {
        "plotlyServerURL": "https://plot.ly"
       },
       "data": [
        {
         "type": "heatmap",
         "x": [
          "Segunda",
          "Terça",
          "Quarta",
          "Quinta",
          "Sexta"
         ],
         "y": [
          "Manhã",
          "Tarde",
          "Noite"
         ],
         "z": [
          [
           1,
           null,
           30,
           50,
           1
          ],
          [
           20,
           1,
           60,
           80,
           30
          ],
          [
           30,
           60,
           1,
           -10,
           20
          ]
         ]
        }
       ],
       "layout": {
        "template": {
         "data": {
          "bar": [
           {
            "error_x": {
             "color": "#2a3f5f"
            },
            "error_y": {
             "color": "#2a3f5f"
            },
            "marker": {
             "line": {
              "color": "#E5ECF6",
              "width": 0.5
             },
             "pattern": {
              "fillmode": "overlay",
              "size": 10,
              "solidity": 0.2
             }
            },
            "type": "bar"
           }
          ],
          "barpolar": [
           {
            "marker": {
             "line": {
              "color": "#E5ECF6",
              "width": 0.5
             },
             "pattern": {
              "fillmode": "overlay",
              "size": 10,
              "solidity": 0.2
             }
            },
            "type": "barpolar"
           }
          ],
          "carpet": [
           {
            "aaxis": {
             "endlinecolor": "#2a3f5f",
             "gridcolor": "white",
             "linecolor": "white",
             "minorgridcolor": "white",
             "startlinecolor": "#2a3f5f"
            },
            "baxis": {
             "endlinecolor": "#2a3f5f",
             "gridcolor": "white",
             "linecolor": "white",
             "minorgridcolor": "white",
             "startlinecolor": "#2a3f5f"
            },
            "type": "carpet"
           }
          ],
          "choropleth": [
           {
            "colorbar": {
             "outlinewidth": 0,
             "ticks": ""
            },
            "type": "choropleth"
           }
          ],
          "contour": [
           {
            "colorbar": {
             "outlinewidth": 0,
             "ticks": ""
            },
            "colorscale": [
             [
              0,
              "#0d0887"
             ],
             [
              0.1111111111111111,
              "#46039f"
             ],
             [
              0.2222222222222222,
              "#7201a8"
             ],
             [
              0.3333333333333333,
              "#9c179e"
             ],
             [
              0.4444444444444444,
              "#bd3786"
             ],
             [
              0.5555555555555556,
              "#d8576b"
             ],
             [
              0.6666666666666666,
              "#ed7953"
             ],
             [
              0.7777777777777778,
              "#fb9f3a"
             ],
             [
              0.8888888888888888,
              "#fdca26"
             ],
             [
              1,
              "#f0f921"
             ]
            ],
            "type": "contour"
           }
          ],
          "contourcarpet": [
           {
            "colorbar": {
             "outlinewidth": 0,
             "ticks": ""
            },
            "type": "contourcarpet"
           }
          ],
          "heatmap": [
           {
            "colorbar": {
             "outlinewidth": 0,
             "ticks": ""
            },
            "colorscale": [
             [
              0,
              "#0d0887"
             ],
             [
              0.1111111111111111,
              "#46039f"
             ],
             [
              0.2222222222222222,
              "#7201a8"
             ],
             [
              0.3333333333333333,
              "#9c179e"
             ],
             [
              0.4444444444444444,
              "#bd3786"
             ],
             [
              0.5555555555555556,
              "#d8576b"
             ],
             [
              0.6666666666666666,
              "#ed7953"
             ],
             [
              0.7777777777777778,
              "#fb9f3a"
             ],
             [
              0.8888888888888888,
              "#fdca26"
             ],
             [
              1,
              "#f0f921"
             ]
            ],
            "type": "heatmap"
           }
          ],
          "histogram": [
           {
            "marker": {
             "pattern": {
              "fillmode": "overlay",
              "size": 10,
              "solidity": 0.2
             }
            },
            "type": "histogram"
           }
          ],
          "histogram2d": [
           {
            "colorbar": {
             "outlinewidth": 0,
             "ticks": ""
            },
            "colorscale": [
             [
              0,
              "#0d0887"
             ],
             [
              0.1111111111111111,
              "#46039f"
             ],
             [
              0.2222222222222222,
              "#7201a8"
             ],
             [
              0.3333333333333333,
              "#9c179e"
             ],
             [
              0.4444444444444444,
              "#bd3786"
             ],
             [
              0.5555555555555556,
              "#d8576b"
             ],
             [
              0.6666666666666666,
              "#ed7953"
             ],
             [
              0.7777777777777778,
              "#fb9f3a"
             ],
             [
              0.8888888888888888,
              "#fdca26"
             ],
             [
              1,
              "#f0f921"
             ]
            ],
            "type": "histogram2d"
           }
          ],
          "histogram2dcontour": [
           {
            "colorbar": {
             "outlinewidth": 0,
             "ticks": ""
            },
            "colorscale": [
             [
              0,
              "#0d0887"
             ],
             [
              0.1111111111111111,
              "#46039f"
             ],
             [
              0.2222222222222222,
              "#7201a8"
             ],
             [
              0.3333333333333333,
              "#9c179e"
             ],
             [
              0.4444444444444444,
              "#bd3786"
             ],
             [
              0.5555555555555556,
              "#d8576b"
             ],
             [
              0.6666666666666666,
              "#ed7953"
             ],
             [
              0.7777777777777778,
              "#fb9f3a"
             ],
             [
              0.8888888888888888,
              "#fdca26"
             ],
             [
              1,
              "#f0f921"
             ]
            ],
            "type": "histogram2dcontour"
           }
          ],
          "mesh3d": [
           {
            "colorbar": {
             "outlinewidth": 0,
             "ticks": ""
            },
            "type": "mesh3d"
           }
          ],
          "parcoords": [
           {
            "line": {
             "colorbar": {
              "outlinewidth": 0,
              "ticks": ""
             }
            },
            "type": "parcoords"
           }
          ],
          "pie": [
           {
            "automargin": true,
            "type": "pie"
           }
          ],
          "scatter": [
           {
            "fillpattern": {
             "fillmode": "overlay",
             "size": 10,
             "solidity": 0.2
            },
            "type": "scatter"
           }
          ],
          "scatter3d": [
           {
            "line": {
             "colorbar": {
              "outlinewidth": 0,
              "ticks": ""
             }
            },
            "marker": {
             "colorbar": {
              "outlinewidth": 0,
              "ticks": ""
             }
            },
            "type": "scatter3d"
           }
          ],
          "scattercarpet": [
           {
            "marker": {
             "colorbar": {
              "outlinewidth": 0,
              "ticks": ""
             }
            },
            "type": "scattercarpet"
           }
          ],
          "scattergeo": [
           {
            "marker": {
             "colorbar": {
              "outlinewidth": 0,
              "ticks": ""
             }
            },
            "type": "scattergeo"
           }
          ],
          "scattergl": [
           {
            "marker": {
             "colorbar": {
              "outlinewidth": 0,
              "ticks": ""
             }
            },
            "type": "scattergl"
           }
          ],
          "scattermap": [
           {
            "marker": {
             "colorbar": {
              "outlinewidth": 0,
              "ticks": ""
             }
            },
            "type": "scattermap"
           }
          ],
          "scattermapbox": [
           {
            "marker": {
             "colorbar": {
              "outlinewidth": 0,
              "ticks": ""
             }
            },
            "type": "scattermapbox"
           }
          ],
          "scatterpolar": [
           {
            "marker": {
             "colorbar": {
              "outlinewidth": 0,
              "ticks": ""
             }
            },
            "type": "scatterpolar"
           }
          ],
          "scatterpolargl": [
           {
            "marker": {
             "colorbar": {
              "outlinewidth": 0,
              "ticks": ""
             }
            },
            "type": "scatterpolargl"
           }
          ],
          "scatterternary": [
           {
            "marker": {
             "colorbar": {
              "outlinewidth": 0,
              "ticks": ""
             }
            },
            "type": "scatterternary"
           }
          ],
          "surface": [
           {
            "colorbar": {
             "outlinewidth": 0,
             "ticks": ""
            },
            "colorscale": [
             [
              0,
              "#0d0887"
             ],
             [
              0.1111111111111111,
              "#46039f"
             ],
             [
              0.2222222222222222,
              "#7201a8"
             ],
             [
              0.3333333333333333,
              "#9c179e"
             ],
             [
              0.4444444444444444,
              "#bd3786"
             ],
             [
              0.5555555555555556,
              "#d8576b"
             ],
             [
              0.6666666666666666,
              "#ed7953"
             ],
             [
              0.7777777777777778,
              "#fb9f3a"
             ],
             [
              0.8888888888888888,
              "#fdca26"
             ],
             [
              1,
              "#f0f921"
             ]
            ],
            "type": "surface"
           }
          ],
          "table": [
           {
            "cells": {
             "fill": {
              "color": "#EBF0F8"
             },
             "line": {
              "color": "white"
             }
            },
            "header": {
             "fill": {
              "color": "#C8D4E3"
             },
             "line": {
              "color": "white"
             }
            },
            "type": "table"
           }
          ]
         },
         "layout": {
          "annotationdefaults": {
           "arrowcolor": "#2a3f5f",
           "arrowhead": 0,
           "arrowwidth": 1
          },
          "autotypenumbers": "strict",
          "coloraxis": {
           "colorbar": {
            "outlinewidth": 0,
            "ticks": ""
           }
          },
          "colorscale": {
           "diverging": [
            [
             0,
             "#8e0152"
            ],
            [
             0.1,
             "#c51b7d"
            ],
            [
             0.2,
             "#de77ae"
            ],
            [
             0.3,
             "#f1b6da"
            ],
            [
             0.4,
             "#fde0ef"
            ],
            [
             0.5,
             "#f7f7f7"
            ],
            [
             0.6,
             "#e6f5d0"
            ],
            [
             0.7,
             "#b8e186"
            ],
            [
             0.8,
             "#7fbc41"
            ],
            [
             0.9,
             "#4d9221"
            ],
            [
             1,
             "#276419"
            ]
           ],
           "sequential": [
            [
             0,
             "#0d0887"
            ],
            [
             0.1111111111111111,
             "#46039f"
            ],
            [
             0.2222222222222222,
             "#7201a8"
            ],
            [
             0.3333333333333333,
             "#9c179e"
            ],
            [
             0.4444444444444444,
             "#bd3786"
            ],
            [
             0.5555555555555556,
             "#d8576b"
            ],
            [
             0.6666666666666666,
             "#ed7953"
            ],
            [
             0.7777777777777778,
             "#fb9f3a"
            ],
            [
             0.8888888888888888,
             "#fdca26"
            ],
            [
             1,
             "#f0f921"
            ]
           ],
           "sequentialminus": [
            [
             0,
             "#0d0887"
            ],
            [
             0.1111111111111111,
             "#46039f"
            ],
            [
             0.2222222222222222,
             "#7201a8"
            ],
            [
             0.3333333333333333,
             "#9c179e"
            ],
            [
             0.4444444444444444,
             "#bd3786"
            ],
            [
             0.5555555555555556,
             "#d8576b"
            ],
            [
             0.6666666666666666,
             "#ed7953"
            ],
            [
             0.7777777777777778,
             "#fb9f3a"
            ],
            [
             0.8888888888888888,
             "#fdca26"
            ],
            [
             1,
             "#f0f921"
            ]
           ]
          },
          "colorway": [
           "#636efa",
           "#EF553B",
           "#00cc96",
           "#ab63fa",
           "#FFA15A",
           "#19d3f3",
           "#FF6692",
           "#B6E880",
           "#FF97FF",
           "#FECB52"
          ],
          "font": {
           "color": "#2a3f5f"
          },
          "geo": {
           "bgcolor": "white",
           "lakecolor": "white",
           "landcolor": "#E5ECF6",
           "showlakes": true,
           "showland": true,
           "subunitcolor": "white"
          },
          "hoverlabel": {
           "align": "left"
          },
          "hovermode": "closest",
          "mapbox": {
           "style": "light"
          },
          "paper_bgcolor": "white",
          "plot_bgcolor": "#E5ECF6",
          "polar": {
           "angularaxis": {
            "gridcolor": "white",
            "linecolor": "white",
            "ticks": ""
           },
           "bgcolor": "#E5ECF6",
           "radialaxis": {
            "gridcolor": "white",
            "linecolor": "white",
            "ticks": ""
           }
          },
          "scene": {
           "xaxis": {
            "backgroundcolor": "#E5ECF6",
            "gridcolor": "white",
            "gridwidth": 2,
            "linecolor": "white",
            "showbackground": true,
            "ticks": "",
            "zerolinecolor": "white"
           },
           "yaxis": {
            "backgroundcolor": "#E5ECF6",
            "gridcolor": "white",
            "gridwidth": 2,
            "linecolor": "white",
            "showbackground": true,
            "ticks": "",
            "zerolinecolor": "white"
           },
           "zaxis": {
            "backgroundcolor": "#E5ECF6",
            "gridcolor": "white",
            "gridwidth": 2,
            "linecolor": "white",
            "showbackground": true,
            "ticks": "",
            "zerolinecolor": "white"
           }
          },
          "shapedefaults": {
           "line": {
            "color": "#2a3f5f"
           }
          },
          "ternary": {
           "aaxis": {
            "gridcolor": "white",
            "linecolor": "white",
            "ticks": ""
           },
           "baxis": {
            "gridcolor": "white",
            "linecolor": "white",
            "ticks": ""
           },
           "bgcolor": "#E5ECF6",
           "caxis": {
            "gridcolor": "white",
            "linecolor": "white",
            "ticks": ""
           }
          },
          "title": {
           "x": 0.05
          },
          "xaxis": {
           "automargin": true,
           "gridcolor": "white",
           "linecolor": "white",
           "ticks": "",
           "title": {
            "standoff": 15
           },
           "zerolinecolor": "white",
           "zerolinewidth": 2
          },
          "yaxis": {
           "automargin": true,
           "gridcolor": "white",
           "linecolor": "white",
           "ticks": "",
           "title": {
            "standoff": 15
           },
           "zerolinecolor": "white",
           "zerolinewidth": 2
          }
         }
        }
       }
      },
      "image/png": "[encoded data removed]"
     },
     "metadata": {},
     "output_type": "display_data"
    }
   ],
   "source": [
    "fig = go.Figure(data=go.Heatmap(\n",
    "        z=[[1, None, 30, 50, 1], [20, 1, 60, 80, 30], [30, 60, 1, -10, 20]],\n",
    "        x=['Segunda', 'Terça', 'Quarta', 'Quinta', 'Sexta'],\n",
    "        y=['Manhã', 'Tarde', 'Noite'],\n",
    "))\n",
    "\n",
    "fig.show()"
   ]
  },
  {
   "cell_type": "markdown",
   "id": "8cea8431-aefe-4e64-922b-2f9466d9e4aa",
   "metadata": {},
   "source": [
    "## Candlesticks"
   ]
  },
  {
   "cell_type": "code",
   "execution_count": 49,
   "id": "c637e48f-387f-4533-b6b0-f4d62dd44a44",
   "metadata": {},
   "outputs": [],
   "source": [
    "import plotly.graph_objects as go\n",
    "import pandas as pd\n",
    "\n",
    "df = pd.read_csv('https://raw.githubusercontent.com/plotly/datasets/master/finance-charts-apple.csv')"
   ]
  },
  {
   "cell_type": "code",
   "execution_count": 50,
   "id": "75277d35-a7ad-4d3e-a233-ad900c52a17b",
   "metadata": {},
   "outputs": [
    {
     "data": {
      "text/html": [
       "<div>\n",
       "<style scoped>\n",
       "    .dataframe tbody tr th:only-of-type {\n",
       "        vertical-align: middle;\n",
       "    }\n",
       "\n",
       "    .dataframe tbody tr th {\n",
       "        vertical-align: top;\n",
       "    }\n",
       "\n",
       "    .dataframe thead th {\n",
       "        text-align: right;\n",
       "    }\n",
       "</style>\n",
       "<table border=\"1\" class=\"dataframe\">\n",
       "  <thead>\n",
       "    <tr style=\"text-align: right;\">\n",
       "      <th></th>\n",
       "      <th>Date</th>\n",
       "      <th>AAPL.Open</th>\n",
       "      <th>AAPL.High</th>\n",
       "      <th>AAPL.Low</th>\n",
       "      <th>AAPL.Close</th>\n",
       "      <th>AAPL.Volume</th>\n",
       "      <th>AAPL.Adjusted</th>\n",
       "      <th>dn</th>\n",
       "      <th>mavg</th>\n",
       "      <th>up</th>\n",
       "      <th>direction</th>\n",
       "    </tr>\n",
       "  </thead>\n",
       "  <tbody>\n",
       "    <tr>\n",
       "      <th>0</th>\n",
       "      <td>2015-02-17</td>\n",
       "      <td>127.489998</td>\n",
       "      <td>128.880005</td>\n",
       "      <td>126.919998</td>\n",
       "      <td>127.830002</td>\n",
       "      <td>63152400</td>\n",
       "      <td>122.905254</td>\n",
       "      <td>106.741052</td>\n",
       "      <td>117.927667</td>\n",
       "      <td>129.114281</td>\n",
       "      <td>Increasing</td>\n",
       "    </tr>\n",
       "    <tr>\n",
       "      <th>1</th>\n",
       "      <td>2015-02-18</td>\n",
       "      <td>127.629997</td>\n",
       "      <td>128.779999</td>\n",
       "      <td>127.449997</td>\n",
       "      <td>128.720001</td>\n",
       "      <td>44891700</td>\n",
       "      <td>123.760965</td>\n",
       "      <td>107.842423</td>\n",
       "      <td>118.940333</td>\n",
       "      <td>130.038244</td>\n",
       "      <td>Increasing</td>\n",
       "    </tr>\n",
       "    <tr>\n",
       "      <th>2</th>\n",
       "      <td>2015-02-19</td>\n",
       "      <td>128.479996</td>\n",
       "      <td>129.029999</td>\n",
       "      <td>128.330002</td>\n",
       "      <td>128.449997</td>\n",
       "      <td>37362400</td>\n",
       "      <td>123.501363</td>\n",
       "      <td>108.894245</td>\n",
       "      <td>119.889167</td>\n",
       "      <td>130.884089</td>\n",
       "      <td>Decreasing</td>\n",
       "    </tr>\n",
       "    <tr>\n",
       "      <th>3</th>\n",
       "      <td>2015-02-20</td>\n",
       "      <td>128.619995</td>\n",
       "      <td>129.500000</td>\n",
       "      <td>128.050003</td>\n",
       "      <td>129.500000</td>\n",
       "      <td>48948400</td>\n",
       "      <td>124.510914</td>\n",
       "      <td>109.785449</td>\n",
       "      <td>120.763500</td>\n",
       "      <td>131.741551</td>\n",
       "      <td>Increasing</td>\n",
       "    </tr>\n",
       "    <tr>\n",
       "      <th>4</th>\n",
       "      <td>2015-02-23</td>\n",
       "      <td>130.020004</td>\n",
       "      <td>133.000000</td>\n",
       "      <td>129.660004</td>\n",
       "      <td>133.000000</td>\n",
       "      <td>70974100</td>\n",
       "      <td>127.876074</td>\n",
       "      <td>110.372516</td>\n",
       "      <td>121.720167</td>\n",
       "      <td>133.067817</td>\n",
       "      <td>Increasing</td>\n",
       "    </tr>\n",
       "    <tr>\n",
       "      <th>...</th>\n",
       "      <td>...</td>\n",
       "      <td>...</td>\n",
       "      <td>...</td>\n",
       "      <td>...</td>\n",
       "      <td>...</td>\n",
       "      <td>...</td>\n",
       "      <td>...</td>\n",
       "      <td>...</td>\n",
       "      <td>...</td>\n",
       "      <td>...</td>\n",
       "      <td>...</td>\n",
       "    </tr>\n",
       "    <tr>\n",
       "      <th>501</th>\n",
       "      <td>2017-02-10</td>\n",
       "      <td>132.460007</td>\n",
       "      <td>132.940002</td>\n",
       "      <td>132.050003</td>\n",
       "      <td>132.119995</td>\n",
       "      <td>20065500</td>\n",
       "      <td>132.119995</td>\n",
       "      <td>114.494004</td>\n",
       "      <td>124.498666</td>\n",
       "      <td>134.503328</td>\n",
       "      <td>Decreasing</td>\n",
       "    </tr>\n",
       "    <tr>\n",
       "      <th>502</th>\n",
       "      <td>2017-02-13</td>\n",
       "      <td>133.080002</td>\n",
       "      <td>133.820007</td>\n",
       "      <td>132.750000</td>\n",
       "      <td>133.289993</td>\n",
       "      <td>23035400</td>\n",
       "      <td>133.289993</td>\n",
       "      <td>114.820798</td>\n",
       "      <td>125.205166</td>\n",
       "      <td>135.589534</td>\n",
       "      <td>Increasing</td>\n",
       "    </tr>\n",
       "    <tr>\n",
       "      <th>503</th>\n",
       "      <td>2017-02-14</td>\n",
       "      <td>133.470001</td>\n",
       "      <td>135.089996</td>\n",
       "      <td>133.250000</td>\n",
       "      <td>135.020004</td>\n",
       "      <td>32815500</td>\n",
       "      <td>135.020004</td>\n",
       "      <td>115.175718</td>\n",
       "      <td>125.953499</td>\n",
       "      <td>136.731280</td>\n",
       "      <td>Increasing</td>\n",
       "    </tr>\n",
       "    <tr>\n",
       "      <th>504</th>\n",
       "      <td>2017-02-15</td>\n",
       "      <td>135.520004</td>\n",
       "      <td>136.270004</td>\n",
       "      <td>134.619995</td>\n",
       "      <td>135.509995</td>\n",
       "      <td>35501600</td>\n",
       "      <td>135.509995</td>\n",
       "      <td>115.545035</td>\n",
       "      <td>126.723499</td>\n",
       "      <td>137.901963</td>\n",
       "      <td>Decreasing</td>\n",
       "    </tr>\n",
       "    <tr>\n",
       "      <th>505</th>\n",
       "      <td>2017-02-16</td>\n",
       "      <td>135.669998</td>\n",
       "      <td>135.899994</td>\n",
       "      <td>134.839996</td>\n",
       "      <td>135.350006</td>\n",
       "      <td>22118000</td>\n",
       "      <td>135.350006</td>\n",
       "      <td>116.203299</td>\n",
       "      <td>127.504333</td>\n",
       "      <td>138.805366</td>\n",
       "      <td>Decreasing</td>\n",
       "    </tr>\n",
       "  </tbody>\n",
       "</table>\n",
       "<p>506 rows × 11 columns</p>\n",
       "</div>"
      ],
      "text/plain": [
       "           Date   AAPL.Open   AAPL.High    AAPL.Low  AAPL.Close  AAPL.Volume  \\\n",
       "0    2015-02-17  127.489998  128.880005  126.919998  127.830002     63152400   \n",
       "1    2015-02-18  127.629997  128.779999  127.449997  128.720001     44891700   \n",
       "2    2015-02-19  128.479996  129.029999  128.330002  128.449997     37362400   \n",
       "3    2015-02-20  128.619995  129.500000  128.050003  129.500000     48948400   \n",
       "4    2015-02-23  130.020004  133.000000  129.660004  133.000000     70974100   \n",
       "..          ...         ...         ...         ...         ...          ...   \n",
       "501  2017-02-10  132.460007  132.940002  132.050003  132.119995     20065500   \n",
       "502  2017-02-13  133.080002  133.820007  132.750000  133.289993     23035400   \n",
       "503  2017-02-14  133.470001  135.089996  133.250000  135.020004     32815500   \n",
       "504  2017-02-15  135.520004  136.270004  134.619995  135.509995     35501600   \n",
       "505  2017-02-16  135.669998  135.899994  134.839996  135.350006     22118000   \n",
       "\n",
       "     AAPL.Adjusted          dn        mavg          up   direction  \n",
       "0       122.905254  106.741052  117.927667  129.114281  Increasing  \n",
       "1       123.760965  107.842423  118.940333  130.038244  Increasing  \n",
       "2       123.501363  108.894245  119.889167  130.884089  Decreasing  \n",
       "3       124.510914  109.785449  120.763500  131.741551  Increasing  \n",
       "4       127.876074  110.372516  121.720167  133.067817  Increasing  \n",
       "..             ...         ...         ...         ...         ...  \n",
       "501     132.119995  114.494004  124.498666  134.503328  Decreasing  \n",
       "502     133.289993  114.820798  125.205166  135.589534  Increasing  \n",
       "503     135.020004  115.175718  125.953499  136.731280  Increasing  \n",
       "504     135.509995  115.545035  126.723499  137.901963  Decreasing  \n",
       "505     135.350006  116.203299  127.504333  138.805366  Decreasing  \n",
       "\n",
       "[506 rows x 11 columns]"
      ]
     },
     "execution_count": 50,
     "metadata": {},
     "output_type": "execute_result"
    }
   ],
   "source": [
    "df"
   ]
  },
  {
   "cell_type": "code",
   "execution_count": 54,
   "id": "cd3e887b-34cd-4324-98fb-bd4b7c1b4bb0",
   "metadata": {},
   "outputs": [
    {
     "data": {
      "application/vnd.plotly.v1+json": {
       "config": {
        "plotlyServerURL": "https://plot.ly"
       },
       "data": [
        {
         "close": {
          "bdata": "VWe1wB71X0DLgok/ChdgQIrJG2BmDmBAAAAAAAAwYEAAAAAAAKBgQFVMpZ9whWBANWJmn0cZYEBVTKWfcE1gQMudmWC4DmBAq5hKP+EiYEDgMNEghStgQDViZp9HEWBAq85qgT2aX0CW6gJeZqZfQEGeXb71yF9AQblt36MgX0C/RpIgXI9eQBSTN8DMHF9AVTGVfsLlXkAUkzfAzDxfQKuzWmCPwl9Ay4KJPwoPYEAAAAAAAOBfQGoV/aGZeV9AVUyln3DNX0AtCyb+KKxfQADl795R2F5Av0aSIFwPX0AAAAAAANBeQAAbECGul19A7FG4HoUbX0AAAAAAABBfQBSuR+F6VF9AluoCXmbWX0BBuW3fo4BfQJbqAl5mZl9A0/TZAdejX0CW6gJeZsZfQJbqAl5mtl9A7GzIPzOTX0Bq+uyA67FfQKuYSj/hil9AAAAAAAAwX0CW6gJeZuZfQKvOaoE9ul9A3xXB/9YTYEBVTKWfcDVgQDV9dsD1SGBAFJM3wMyUYEBq+uyA61FgQCDPLt96FGBAahX9oZlJX0CKyRtgZh5gQIrJG2BmFmBA7GzIPzNzX0BBuW3fo0BfQEG5bd+jUF9AABsQIa7nX0AUrkfhepRfQAAbECGud19AQblt36OAX0CKyRtgZh5gQEG5bd+jGGBAlgUTfxRGYEC371F/PUJgQGr67IDrQWBAIM8u33psYEA1YmafR5FgQN8Vwf/WM2BANWJmn0eBYEA1fXbA9XhgQDV9dsD1SGBANWJmn0dRYEDLnZlguD5gQN8Vwf/WQ2BA4DDRIIUrYEAUkzfAzBRgQOxsyD8z819Aq5hKP+HaX0Ah6j4AKRxgQKuYSj/hEmBAq5hKP+HKX0CrmEo/4bpfQJbqAl5m5l9A7GzIPzPTX0AA5e/eUfhfQJbqAl5mpl9Av2GiQQrnX0Bq+uyA68FfQOAw0SCFA2BAAAAAAADgX0AAAAAAALBfQGr67IDrIV9A7FG4HoVbX0CW6gJeZqZfQC0LJv4onF9AAAAAAACAX0AtCyb+KGxfQBSuR+F6pF5AFK5H4XoEXkBq+uyA69FeQKvOaoE9al9Av2GiQQpnX0AUrkfherRfQPTDCOFREGBA3xXB/9YzYEC371F/PYJgQAAAAAAAWGBAlgUTfxROX0CrzmqBPUpfQAAAAAAAIF9AKUF/oUexXkAA5e/eUdheQL9GkiBcv15AABsQIa6XXkDsbMg/M1NeQC0LJv4onF1AQZ5dvvWoXEBqFf2hmdlcQADl795RyFxAKUF/oUfhXECWBRN/FO5dQL9GkiBcX1xAv0aSIFzPXEBqFf2hmclcQFVMpZ9w/VxAq85qgT1KXUAAAAAAACBdQEG5bd+jwFxAahX9oZkpXEBBuW3fo3BaQAAbECGux1lAv0aSIFzvWUAtCyb+KGxbQKuYSj/hOlxAq7NaYI9SXEBBuW3fozBcQJYFE38U7lpAVTGVfsIVXEAAGxAhrpdbQClBf6FHUVtA0/TZAdcTXEBqFf2hmYlbQBSuR+F6JFxAVUyln3CNXEDT9NkB19NcQGr67IDrEV1Aq85qgT0aXUCrmEo/4XpcQBSTN8DMXFxAVUyln3DNXEBqFf2hmVlcQBSuR+F6lFxAAAAAAADAXEBVTKWfcK1cQC0LJv4oHFxA0/TZAddDW0DsbMg/M5NbQFVntcAeZVtAAOXv3lGYW0Bq+uyA67FbQNP02QHX01tAavrsgOuxW0AAAAAAAGBbQAAbECGuB1xAluoCXmbmW0Crs1pgj/JbQFVMpZ9wjVtAv2GiQQr3W0Crs1pgj8JbQNe+gF647ltAKUF/oUdxXEBBuW3fo3BcQAAAAAAA4FxAVWe1wB7FXUBq+uyA69FcQOxsyD8zo1xAKUF/oUfRXUBq+uyA6yFeQAAAAAAA4F1A7FG4HoVLXkAUrkfheqReQAAAAAAAgF5Aq5hKP+E6XkDT9NkB10NeQBSuR+F6JF5AKUF/oUcxXUC/YaJBCgddQJYFE38U7lxAVTGVfsIVXEDsUbgehYtcQC0LJv4obFxAq7NaYI9SXUBq+uyA67FdQOxsyD8z011AAAAAAABwXUAA5e/eUbhdQGr67IDrgV1A0/TZAddzXUDsbMg/M5NdQFUxlX7CVV1AavrsgOsRXUAUkzfAzMxcQGr67IDrwV1AavrsgOuRXUDXvoBeuI5dQAAbECGu51xAq5hKP+EKXUDsUbgehUtcQNe+gF64HlxAv0aSIFyfW0BVMZV+wtVbQNe+gF64PltAavrsgOuBWkBVZ7XAHtVaQNe+gF64zlpAv2GiQQonW0Bq+uyA6wFbQBSuR+F6tFpAv0aSIFwvW0AUrkfhetRaQEG5bd+jUFpAluoCXmZWWkBVTKWfcK1ZQBSTN8DMLFlAFJM3wMwcWEBVTKWfcD1YQGr67IDroVhAVUyln3D9WEBBnl2+9VhYQClBf6FH4VhAAOXv3lFIWECrzmqBPSpYQKuzWmCPMlhA7GzIPzMTWECrmEo/4VpZQC0LJv4o3FhAv0aSIFz/WECrmEo/4VpXQFUxlX7ChVdAVTGVfsJVWEDsUbgehRtYQNe+gF64nldAluoCXmYWWECW6gJeZiZYQClBf6FHgVdAQblt36PAV0C/RpIgXL9XQClBf6FHkVdAFJM3wMxsV0C/RpIgXH9XQEGeXb71KFhAABsQIa6HWEBBuW3foxBYQKuzWmCPAlhAAOXv3lE4WEAtCyb+KKxXQJbqAl5mBlhAQblt36MwWECrzmqBPTpYQC0LJv4oLFhAavrsgOshWUAAAAAAADBZQAAAAAAAYFlAQblt36PAWUAAGxAhrndZQGr67IDrQVlAABsQIa5HWUCrmEo/4UpZQEG5bd+jkFlAKUF/oUehWUBVZ7XAHiVaQJYFE38UflpA7GzIPzNzWkCrmEo/4XpaQKvOaoE9elpAlgUTfxSuWkAA5e/eUYhaQKuYSj/halpALQsm/ihMWkDsUbgehetaQNP02QHXY1tAv0aSIFw/W0C/RpIgXH9bQAAbECGux1tA0/TZAddzW0BVTKWfcL1bQKuzWmCPIltAq85qgT0qW0ApQX+hR0FbQC0LJv4onFtAq7NaYI8CXECW6gJeZgZcQJbqAl5mdltA176AXrjeWkCrzmqBPbpaQADl795RyFpAlgUTfxR+WkDsUbgehWtaQFVntcAeRVpAluoCXmYWWkAUrkfhenRYQFVntcAetVdAv0aSIFxvV0BBnl2+9WhXQOxRuB6Fy1dALQsm/iiMV0C/RpIgXE9XQJYFE38ULldAq7NaYI8yV0CrmEo/4VpXQEG5bd+jIFdAVTGVfsKVVkApQX+hR6FWQADl795ReFdAv0aSIFxfV0DT9NkB16NXQBSTN8DMjFdAlgUTfxTOV0DsUbgehRtYQGoV/aGZeVhAABsQIa7nWECrzmqBPRpZQJbqAl5mFllAv2GiQQr3WEBVTKWfcJ1YQJYFE38UblhAq5hKP+F6WEAA5e/eUahYQGr67IDrwVhALQsm/ii8WEBqFf2hmelYQFVntcAetVhAVTGVfsJVWEBVTKWfcF1YQEGeXb71SFhA7GzIPzNjWEBVZ7XAHtVXQJbqAl5mxldAq85qgT36V0DsbMg/M+NXQJbqAl5mBlhAahX9oZlZV0Crs1pgjwJXQFUxlX7CZVdAahX9oZmZV0CW6gJeZuZXQEGeXb71+FdAv0aSIFy/V0Bq+uyA6+FXQC0LJv4o/FdA7FG4HoUrWEDXvoBeuD5YQKuYSj/hWlhAABsQIa43WECrs1pgj7JYQGr67IDrsVhAVWe1wB71WEAAGxAhrvdYQFVMpZ9w/VhA7FG4HoXbWECrzmqBPapYQFUxlX7CVVhAq5hKP+EqWEAUkzfAzLxZQFUxlX7CFVpAVUyln3ANWkDsbMg/M4NaQNe+gF64HlpAq7NaYI9yWkAAGxAhrndaQNe+gF643lpAABsQIa4XW0DT9NkB1zNbQAAAAAAAAFtA7FG4HoX7WkDsUbgehQtbQNe+gF64XltAAOXv3lFYW0CWBRN/FE5bQFVntcAeRVtAv2GiQQpXW0BBuW3foyBbQJbqAl5mNltAavrsgOsBW0AUrkfheuRaQC0LJv4ovFpAFK5H4Xq0WkAAAAAAAIBaQJbqAl5mhlpA176AXriuWkDXvoBeuO5aQBSTN8DM7FpAv2GiQQoXW0ApQX+hR2FaQADl795RyFlALQsm/ihcWkAUkzfAzPxaQClBf6FH8VtAFK5H4XrkXECrmEo/4bpcQFVntcAeZVxAFK5H4XpkXEDsbMg/M2NcQAAbECGup1xAVUyln3AtXEAA5e/eUThcQFUxlX7CRVxAFJM3wMx8XEDsUbgehQtcQOxsyD8zQ1xAKUF/oUchXEAAAAAAAEBcQOxsyD8zQ1xAQZ5dvvV4XEDT9NkB14NcQOxsyD8zA11A7GzIPzMTXUBVMZV+wlVdQNe+gF64Pl1AAOXv3lFoXUDsbMg/M2NdQJYFE38UXl1AABsQIa5HXUDT9NkB10NdQJbqAl5mJl1AahX9oZlpXUAAAAAAAJBdQFUxlX7C5VxA176AXrieXECWBRN/FG5cQKuzWmCPYlxAv0aSIFzfW0BVMZV+wuVbQFVntcAedVtAVTGVfsI1W0CrzmqBPZpbQNP02QHXw1tAAOXv3lG4W0Crs1pgj/JaQOxRuB6FG1tAVUyln3BtWkC/YaJBCsdaQL9GkiBcf1tAFJM3wMx8W0DT9NkB14NbQNe+gF647ltA7GzIPzPzW0DXvoBeuM5bQKuzWmCP8ltAFK5H4XrkW0BVTKWfcN1bQClBf6FHoVtAv0aSIFxfW0BqFf2hmXlbQL9hokEKR1tAFJM3wMx8W0Bq+uyA68FbQAAbECGuB1xAFJM3wMx8XEDsbMg/M1NcQC0LJv4ozFxALQsm/ijMXEAUrkfhevRcQJYFE38U/lxAQZ5dvvUoXUAUkzfAzDxdQNP02QHXQ11Aq7NaYI8SXUApQX+hRyFdQEG5bd+jUF1AQblt36MwXUDXvoBeuC5dQBSuR+F69FxAahX9oZkJXUApQX+hRwFdQL9hokEKJ11Aq85qgT16XUC/RpIgXL9dQL9hokEKx11AAAAAAADwXUAAAAAAANBdQKuzWmCPwl1AAAAAAAAAXkC/RpIgXP9dQGr67IDr8V1AAAAAAAAAXkBVZ7XAHgVeQJYFE38U/l1AAOXv3lF4XkAtCyb+KHxeQBSTN8DMfF5AAOXv3lFoXkCW6gJeZlZeQAAAAAAAGGBANX12wPUQYECrs1pgjyJgQDViZp9HSWBANX12wPVwYEA1YmafR4FgQFVMpZ9wjWBA3xXB/9aDYEA1YmafR6lgQEG5bd+j4GBA9MMI4VHwYEDsbMg/M+tgQA==",
          "dtype": "f8"
         },
         "high": {
          "bdata": "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",
          "dtype": "f8"
         },
         "low": {
          "bdata": "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",
          "dtype": "f8"
         },
         "open": {
          "bdata": "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",
          "dtype": "f8"
         },
         "type": "candlestick",
         "x": [
          "2015-02-17",
          "2015-02-18",
          "2015-02-19",
          "2015-02-20",
          "2015-02-23",
          "2015-02-24",
          "2015-02-25",
          "2015-02-26",
          "2015-02-27",
          "2015-03-02",
          "2015-03-03",
          "2015-03-04",
          "2015-03-05",
          "2015-03-06",
          "2015-03-09",
          "2015-03-10",
          "2015-03-11",
          "2015-03-12",
          "2015-03-13",
          "2015-03-16",
          "2015-03-17",
          "2015-03-18",
          "2015-03-19",
          "2015-03-20",
          "2015-03-23",
          "2015-03-24",
          "2015-03-25",
          "2015-03-26",
          "2015-03-27",
          "2015-03-30",
          "2015-03-31",
          "2015-04-01",
          "2015-04-02",
          "2015-04-06",
          "2015-04-07",
          "2015-04-08",
          "2015-04-09",
          "2015-04-10",
          "2015-04-13",
          "2015-04-14",
          "2015-04-15",
          "2015-04-16",
          "2015-04-17",
          "2015-04-20",
          "2015-04-21",
          "2015-04-22",
          "2015-04-23",
          "2015-04-24",
          "2015-04-27",
          "2015-04-28",
          "2015-04-29",
          "2015-04-30",
          "2015-05-01",
          "2015-05-04",
          "2015-05-05",
          "2015-05-06",
          "2015-05-07",
          "2015-05-08",
          "2015-05-11",
          "2015-05-12",
          "2015-05-13",
          "2015-05-14",
          "2015-05-15",
          "2015-05-18",
          "2015-05-19",
          "2015-05-20",
          "2015-05-21",
          "2015-05-22",
          "2015-05-26",
          "2015-05-27",
          "2015-05-28",
          "2015-05-29",
          "2015-06-01",
          "2015-06-02",
          "2015-06-03",
          "2015-06-04",
          "2015-06-05",
          "2015-06-08",
          "2015-06-09",
          "2015-06-10",
          "2015-06-11",
          "2015-06-12",
          "2015-06-15",
          "2015-06-16",
          "2015-06-17",
          "2015-06-18",
          "2015-06-19",
          "2015-06-22",
          "2015-06-23",
          "2015-06-24",
          "2015-06-25",
          "2015-06-26",
          "2015-06-29",
          "2015-06-30",
          "2015-07-01",
          "2015-07-02",
          "2015-07-06",
          "2015-07-07",
          "2015-07-08",
          "2015-07-09",
          "2015-07-10",
          "2015-07-13",
          "2015-07-14",
          "2015-07-15",
          "2015-07-16",
          "2015-07-17",
          "2015-07-20",
          "2015-07-21",
          "2015-07-22",
          "2015-07-23",
          "2015-07-24",
          "2015-07-27",
          "2015-07-28",
          "2015-07-29",
          "2015-07-30",
          "2015-07-31",
          "2015-08-03",
          "2015-08-04",
          "2015-08-05",
          "2015-08-06",
          "2015-08-07",
          "2015-08-10",
          "2015-08-11",
          "2015-08-12",
          "2015-08-13",
          "2015-08-14",
          "2015-08-17",
          "2015-08-18",
          "2015-08-19",
          "2015-08-20",
          "2015-08-21",
          "2015-08-24",
          "2015-08-25",
          "2015-08-26",
          "2015-08-27",
          "2015-08-28",
          "2015-08-31",
          "2015-09-01",
          "2015-09-02",
          "2015-09-03",
          "2015-09-04",
          "2015-09-08",
          "2015-09-09",
          "2015-09-10",
          "2015-09-11",
          "2015-09-14",
          "2015-09-15",
          "2015-09-16",
          "2015-09-17",
          "2015-09-18",
          "2015-09-21",
          "2015-09-22",
          "2015-09-23",
          "2015-09-24",
          "2015-09-25",
          "2015-09-28",
          "2015-09-29",
          "2015-09-30",
          "2015-10-01",
          "2015-10-02",
          "2015-10-05",
          "2015-10-06",
          "2015-10-07",
          "2015-10-08",
          "2015-10-09",
          "2015-10-12",
          "2015-10-13",
          "2015-10-14",
          "2015-10-15",
          "2015-10-16",
          "2015-10-19",
          "2015-10-20",
          "2015-10-21",
          "2015-10-22",
          "2015-10-23",
          "2015-10-26",
          "2015-10-27",
          "2015-10-28",
          "2015-10-29",
          "2015-10-30",
          "2015-11-02",
          "2015-11-03",
          "2015-11-04",
          "2015-11-05",
          "2015-11-06",
          "2015-11-09",
          "2015-11-10",
          "2015-11-11",
          "2015-11-12",
          "2015-11-13",
          "2015-11-16",
          "2015-11-17",
          "2015-11-18",
          "2015-11-19",
          "2015-11-20",
          "2015-11-23",
          "2015-11-24",
          "2015-11-25",
          "2015-11-27",
          "2015-11-30",
          "2015-12-01",
          "2015-12-02",
          "2015-12-03",
          "2015-12-04",
          "2015-12-07",
          "2015-12-08",
          "2015-12-09",
          "2015-12-10",
          "2015-12-11",
          "2015-12-14",
          "2015-12-15",
          "2015-12-16",
          "2015-12-17",
          "2015-12-18",
          "2015-12-21",
          "2015-12-22",
          "2015-12-23",
          "2015-12-24",
          "2015-12-28",
          "2015-12-29",
          "2015-12-30",
          "2015-12-31",
          "2016-01-04",
          "2016-01-05",
          "2016-01-06",
          "2016-01-07",
          "2016-01-08",
          "2016-01-11",
          "2016-01-12",
          "2016-01-13",
          "2016-01-14",
          "2016-01-15",
          "2016-01-19",
          "2016-01-20",
          "2016-01-21",
          "2016-01-22",
          "2016-01-25",
          "2016-01-26",
          "2016-01-27",
          "2016-01-28",
          "2016-01-29",
          "2016-02-01",
          "2016-02-02",
          "2016-02-03",
          "2016-02-04",
          "2016-02-05",
          "2016-02-08",
          "2016-02-09",
          "2016-02-10",
          "2016-02-11",
          "2016-02-12",
          "2016-02-16",
          "2016-02-17",
          "2016-02-18",
          "2016-02-19",
          "2016-02-22",
          "2016-02-23",
          "2016-02-24",
          "2016-02-25",
          "2016-02-26",
          "2016-02-29",
          "2016-03-01",
          "2016-03-02",
          "2016-03-03",
          "2016-03-04",
          "2016-03-07",
          "2016-03-08",
          "2016-03-09",
          "2016-03-10",
          "2016-03-11",
          "2016-03-14",
          "2016-03-15",
          "2016-03-16",
          "2016-03-17",
          "2016-03-18",
          "2016-03-21",
          "2016-03-22",
          "2016-03-23",
          "2016-03-24",
          "2016-03-28",
          "2016-03-29",
          "2016-03-30",
          "2016-03-31",
          "2016-04-01",
          "2016-04-04",
          "2016-04-05",
          "2016-04-06",
          "2016-04-07",
          "2016-04-08",
          "2016-04-11",
          "2016-04-12",
          "2016-04-13",
          "2016-04-14",
          "2016-04-15",
          "2016-04-18",
          "2016-04-19",
          "2016-04-20",
          "2016-04-21",
          "2016-04-22",
          "2016-04-25",
          "2016-04-26",
          "2016-04-27",
          "2016-04-28",
          "2016-04-29",
          "2016-05-02",
          "2016-05-03",
          "2016-05-04",
          "2016-05-05",
          "2016-05-06",
          "2016-05-09",
          "2016-05-10",
          "2016-05-11",
          "2016-05-12",
          "2016-05-13",
          "2016-05-16",
          "2016-05-17",
          "2016-05-18",
          "2016-05-19",
          "2016-05-20",
          "2016-05-23",
          "2016-05-24",
          "2016-05-25",
          "2016-05-26",
          "2016-05-27",
          "2016-05-31",
          "2016-06-01",
          "2016-06-02",
          "2016-06-03",
          "2016-06-06",
          "2016-06-07",
          "2016-06-08",
          "2016-06-09",
          "2016-06-10",
          "2016-06-13",
          "2016-06-14",
          "2016-06-15",
          "2016-06-16",
          "2016-06-17",
          "2016-06-20",
          "2016-06-21",
          "2016-06-22",
          "2016-06-23",
          "2016-06-24",
          "2016-06-27",
          "2016-06-28",
          "2016-06-29",
          "2016-06-30",
          "2016-07-01",
          "2016-07-05",
          "2016-07-06",
          "2016-07-07",
          "2016-07-08",
          "2016-07-11",
          "2016-07-12",
          "2016-07-13",
          "2016-07-14",
          "2016-07-15",
          "2016-07-18",
          "2016-07-19",
          "2016-07-20",
          "2016-07-21",
          "2016-07-22",
          "2016-07-25",
          "2016-07-26",
          "2016-07-27",
          "2016-07-28",
          "2016-07-29",
          "2016-08-01",
          "2016-08-02",
          "2016-08-03",
          "2016-08-04",
          "2016-08-05",
          "2016-08-08",
          "2016-08-09",
          "2016-08-10",
          "2016-08-11",
          "2016-08-12",
          "2016-08-15",
          "2016-08-16",
          "2016-08-17",
          "2016-08-18",
          "2016-08-19",
          "2016-08-22",
          "2016-08-23",
          "2016-08-24",
          "2016-08-25",
          "2016-08-26",
          "2016-08-29",
          "2016-08-30",
          "2016-08-31",
          "2016-09-01",
          "2016-09-02",
          "2016-09-06",
          "2016-09-07",
          "2016-09-08",
          "2016-09-09",
          "2016-09-12",
          "2016-09-13",
          "2016-09-14",
          "2016-09-15",
          "2016-09-16",
          "2016-09-19",
          "2016-09-20",
          "2016-09-21",
          "2016-09-22",
          "2016-09-23",
          "2016-09-26",
          "2016-09-27",
          "2016-09-28",
          "2016-09-29",
          "2016-09-30",
          "2016-10-03",
          "2016-10-04",
          "2016-10-05",
          "2016-10-06",
          "2016-10-07",
          "2016-10-10",
          "2016-10-11",
          "2016-10-12",
          "2016-10-13",
          "2016-10-14",
          "2016-10-17",
          "2016-10-18",
          "2016-10-19",
          "2016-10-20",
          "2016-10-21",
          "2016-10-24",
          "2016-10-25",
          "2016-10-26",
          "2016-10-27",
          "2016-10-28",
          "2016-10-31",
          "2016-11-01",
          "2016-11-02",
          "2016-11-03",
          "2016-11-04",
          "2016-11-07",
          "2016-11-08",
          "2016-11-09",
          "2016-11-10",
          "2016-11-11",
          "2016-11-14",
          "2016-11-15",
          "2016-11-16",
          "2016-11-17",
          "2016-11-18",
          "2016-11-21",
          "2016-11-22",
          "2016-11-23",
          "2016-11-25",
          "2016-11-28",
          "2016-11-29",
          "2016-11-30",
          "2016-12-01",
          "2016-12-02",
          "2016-12-05",
          "2016-12-06",
          "2016-12-07",
          "2016-12-08",
          "2016-12-09",
          "2016-12-12",
          "2016-12-13",
          "2016-12-14",
          "2016-12-15",
          "2016-12-16",
          "2016-12-19",
          "2016-12-20",
          "2016-12-21",
          "2016-12-22",
          "2016-12-23",
          "2016-12-27",
          "2016-12-28",
          "2016-12-29",
          "2016-12-30",
          "2017-01-03",
          "2017-01-04",
          "2017-01-05",
          "2017-01-06",
          "2017-01-09",
          "2017-01-10",
          "2017-01-11",
          "2017-01-12",
          "2017-01-13",
          "2017-01-17",
          "2017-01-18",
          "2017-01-19",
          "2017-01-20",
          "2017-01-23",
          "2017-01-24",
          "2017-01-25",
          "2017-01-26",
          "2017-01-27",
          "2017-01-30",
          "2017-01-31",
          "2017-02-01",
          "2017-02-02",
          "2017-02-03",
          "2017-02-06",
          "2017-02-07",
          "2017-02-08",
          "2017-02-09",
          "2017-02-10",
          "2017-02-13",
          "2017-02-14",
          "2017-02-15",
          "2017-02-16"
         ]
        }
       ],
       "layout": {
        "height": 500,
        "template": {
         "data": {
          "bar": [
           {
            "error_x": {
             "color": "#2a3f5f"
            },
            "error_y": {
             "color": "#2a3f5f"
            },
            "marker": {
             "line": {
              "color": "#E5ECF6",
              "width": 0.5
             },
             "pattern": {
              "fillmode": "overlay",
              "size": 10,
              "solidity": 0.2
             }
            },
            "type": "bar"
           }
          ],
          "barpolar": [
           {
            "marker": {
             "line": {
              "color": "#E5ECF6",
              "width": 0.5
             },
             "pattern": {
              "fillmode": "overlay",
              "size": 10,
              "solidity": 0.2
             }
            },
            "type": "barpolar"
           }
          ],
          "carpet": [
           {
            "aaxis": {
             "endlinecolor": "#2a3f5f",
             "gridcolor": "white",
             "linecolor": "white",
             "minorgridcolor": "white",
             "startlinecolor": "#2a3f5f"
            },
            "baxis": {
             "endlinecolor": "#2a3f5f",
             "gridcolor": "white",
             "linecolor": "white",
             "minorgridcolor": "white",
             "startlinecolor": "#2a3f5f"
            },
            "type": "carpet"
           }
          ],
          "choropleth": [
           {
            "colorbar": {
             "outlinewidth": 0,
             "ticks": ""
            },
            "type": "choropleth"
           }
          ],
          "contour": [
           {
            "colorbar": {
             "outlinewidth": 0,
             "ticks": ""
            },
            "colorscale": [
             [
              0,
              "#0d0887"
             ],
             [
              0.1111111111111111,
              "#46039f"
             ],
             [
              0.2222222222222222,
              "#7201a8"
             ],
             [
              0.3333333333333333,
              "#9c179e"
             ],
             [
              0.4444444444444444,
              "#bd3786"
             ],
             [
              0.5555555555555556,
              "#d8576b"
             ],
             [
              0.6666666666666666,
              "#ed7953"
             ],
             [
              0.7777777777777778,
              "#fb9f3a"
             ],
             [
              0.8888888888888888,
              "#fdca26"
             ],
             [
              1,
              "#f0f921"
             ]
            ],
            "type": "contour"
           }
          ],
          "contourcarpet": [
           {
            "colorbar": {
             "outlinewidth": 0,
             "ticks": ""
            },
            "type": "contourcarpet"
           }
          ],
          "heatmap": [
           {
            "colorbar": {
             "outlinewidth": 0,
             "ticks": ""
            },
            "colorscale": [
             [
              0,
              "#0d0887"
             ],
             [
              0.1111111111111111,
              "#46039f"
             ],
             [
              0.2222222222222222,
              "#7201a8"
             ],
             [
              0.3333333333333333,
              "#9c179e"
             ],
             [
              0.4444444444444444,
              "#bd3786"
             ],
             [
              0.5555555555555556,
              "#d8576b"
             ],
             [
              0.6666666666666666,
              "#ed7953"
             ],
             [
              0.7777777777777778,
              "#fb9f3a"
             ],
             [
              0.8888888888888888,
              "#fdca26"
             ],
             [
              1,
              "#f0f921"
             ]
            ],
            "type": "heatmap"
           }
          ],
          "histogram": [
           {
            "marker": {
             "pattern": {
              "fillmode": "overlay",
              "size": 10,
              "solidity": 0.2
             }
            },
            "type": "histogram"
           }
          ],
          "histogram2d": [
           {
            "colorbar": {
             "outlinewidth": 0,
             "ticks": ""
            },
            "colorscale": [
             [
              0,
              "#0d0887"
             ],
             [
              0.1111111111111111,
              "#46039f"
             ],
             [
              0.2222222222222222,
              "#7201a8"
             ],
             [
              0.3333333333333333,
              "#9c179e"
             ],
             [
              0.4444444444444444,
              "#bd3786"
             ],
             [
              0.5555555555555556,
              "#d8576b"
             ],
             [
              0.6666666666666666,
              "#ed7953"
             ],
             [
              0.7777777777777778,
              "#fb9f3a"
             ],
             [
              0.8888888888888888,
              "#fdca26"
             ],
             [
              1,
              "#f0f921"
             ]
            ],
            "type": "histogram2d"
           }
          ],
          "histogram2dcontour": [
           {
            "colorbar": {
             "outlinewidth": 0,
             "ticks": ""
            },
            "colorscale": [
             [
              0,
              "#0d0887"
             ],
             [
              0.1111111111111111,
              "#46039f"
             ],
             [
              0.2222222222222222,
              "#7201a8"
             ],
             [
              0.3333333333333333,
              "#9c179e"
             ],
             [
              0.4444444444444444,
              "#bd3786"
             ],
             [
              0.5555555555555556,
              "#d8576b"
             ],
             [
              0.6666666666666666,
              "#ed7953"
             ],
             [
              0.7777777777777778,
              "#fb9f3a"
             ],
             [
              0.8888888888888888,
              "#fdca26"
             ],
             [
              1,
              "#f0f921"
             ]
            ],
            "type": "histogram2dcontour"
           }
          ],
          "mesh3d": [
           {
            "colorbar": {
             "outlinewidth": 0,
             "ticks": ""
            },
            "type": "mesh3d"
           }
          ],
          "parcoords": [
           {
            "line": {
             "colorbar": {
              "outlinewidth": 0,
              "ticks": ""
             }
            },
            "type": "parcoords"
           }
          ],
          "pie": [
           {
            "automargin": true,
            "type": "pie"
           }
          ],
          "scatter": [
           {
            "fillpattern": {
             "fillmode": "overlay",
             "size": 10,
             "solidity": 0.2
            },
            "type": "scatter"
           }
          ],
          "scatter3d": [
           {
            "line": {
             "colorbar": {
              "outlinewidth": 0,
              "ticks": ""
             }
            },
            "marker": {
             "colorbar": {
              "outlinewidth": 0,
              "ticks": ""
             }
            },
            "type": "scatter3d"
           }
          ],
          "scattercarpet": [
           {
            "marker": {
             "colorbar": {
              "outlinewidth": 0,
              "ticks": ""
             }
            },
            "type": "scattercarpet"
           }
          ],
          "scattergeo": [
           {
            "marker": {
             "colorbar": {
              "outlinewidth": 0,
              "ticks": ""
             }
            },
            "type": "scattergeo"
           }
          ],
          "scattergl": [
           {
            "marker": {
             "colorbar": {
              "outlinewidth": 0,
              "ticks": ""
             }
            },
            "type": "scattergl"
           }
          ],
          "scattermap": [
           {
            "marker": {
             "colorbar": {
              "outlinewidth": 0,
              "ticks": ""
             }
            },
            "type": "scattermap"
           }
          ],
          "scattermapbox": [
           {
            "marker": {
             "colorbar": {
              "outlinewidth": 0,
              "ticks": ""
             }
            },
            "type": "scattermapbox"
           }
          ],
          "scatterpolar": [
           {
            "marker": {
             "colorbar": {
              "outlinewidth": 0,
              "ticks": ""
             }
            },
            "type": "scatterpolar"
           }
          ],
          "scatterpolargl": [
           {
            "marker": {
             "colorbar": {
              "outlinewidth": 0,
              "ticks": ""
             }
            },
            "type": "scatterpolargl"
           }
          ],
          "scatterternary": [
           {
            "marker": {
             "colorbar": {
              "outlinewidth": 0,
              "ticks": ""
             }
            },
            "type": "scatterternary"
           }
          ],
          "surface": [
           {
            "colorbar": {
             "outlinewidth": 0,
             "ticks": ""
            },
            "colorscale": [
             [
              0,
              "#0d0887"
             ],
             [
              0.1111111111111111,
              "#46039f"
             ],
             [
              0.2222222222222222,
              "#7201a8"
             ],
             [
              0.3333333333333333,
              "#9c179e"
             ],
             [
              0.4444444444444444,
              "#bd3786"
             ],
             [
              0.5555555555555556,
              "#d8576b"
             ],
             [
              0.6666666666666666,
              "#ed7953"
             ],
             [
              0.7777777777777778,
              "#fb9f3a"
             ],
             [
              0.8888888888888888,
              "#fdca26"
             ],
             [
              1,
              "#f0f921"
             ]
            ],
            "type": "surface"
           }
          ],
          "table": [
           {
            "cells": {
             "fill": {
              "color": "#EBF0F8"
             },
             "line": {
              "color": "white"
             }
            },
            "header": {
             "fill": {
              "color": "#C8D4E3"
             },
             "line": {
              "color": "white"
             }
            },
            "type": "table"
           }
          ]
         },
         "layout": {
          "annotationdefaults": {
           "arrowcolor": "#2a3f5f",
           "arrowhead": 0,
           "arrowwidth": 1
          },
          "autotypenumbers": "strict",
          "coloraxis": {
           "colorbar": {
            "outlinewidth": 0,
            "ticks": ""
           }
          },
          "colorscale": {
           "diverging": [
            [
             0,
             "#8e0152"
            ],
            [
             0.1,
             "#c51b7d"
            ],
            [
             0.2,
             "#de77ae"
            ],
            [
             0.3,
             "#f1b6da"
            ],
            [
             0.4,
             "#fde0ef"
            ],
            [
             0.5,
             "#f7f7f7"
            ],
            [
             0.6,
             "#e6f5d0"
            ],
            [
             0.7,
             "#b8e186"
            ],
            [
             0.8,
             "#7fbc41"
            ],
            [
             0.9,
             "#4d9221"
            ],
            [
             1,
             "#276419"
            ]
           ],
           "sequential": [
            [
             0,
             "#0d0887"
            ],
            [
             0.1111111111111111,
             "#46039f"
            ],
            [
             0.2222222222222222,
             "#7201a8"
            ],
            [
             0.3333333333333333,
             "#9c179e"
            ],
            [
             0.4444444444444444,
             "#bd3786"
            ],
            [
             0.5555555555555556,
             "#d8576b"
            ],
            [
             0.6666666666666666,
             "#ed7953"
            ],
            [
             0.7777777777777778,
             "#fb9f3a"
            ],
            [
             0.8888888888888888,
             "#fdca26"
            ],
            [
             1,
             "#f0f921"
            ]
           ],
           "sequentialminus": [
            [
             0,
             "#0d0887"
            ],
            [
             0.1111111111111111,
             "#46039f"
            ],
            [
             0.2222222222222222,
             "#7201a8"
            ],
            [
             0.3333333333333333,
             "#9c179e"
            ],
            [
             0.4444444444444444,
             "#bd3786"
            ],
            [
             0.5555555555555556,
             "#d8576b"
            ],
            [
             0.6666666666666666,
             "#ed7953"
            ],
            [
             0.7777777777777778,
             "#fb9f3a"
            ],
            [
             0.8888888888888888,
             "#fdca26"
            ],
            [
             1,
             "#f0f921"
            ]
           ]
          },
          "colorway": [
           "#636efa",
           "#EF553B",
           "#00cc96",
           "#ab63fa",
           "#FFA15A",
           "#19d3f3",
           "#FF6692",
           "#B6E880",
           "#FF97FF",
           "#FECB52"
          ],
          "font": {
           "color": "#2a3f5f"
          },
          "geo": {
           "bgcolor": "white",
           "lakecolor": "white",
           "landcolor": "#E5ECF6",
           "showlakes": true,
           "showland": true,
           "subunitcolor": "white"
          },
          "hoverlabel": {
           "align": "left"
          },
          "hovermode": "closest",
          "mapbox": {
           "style": "light"
          },
          "paper_bgcolor": "white",
          "plot_bgcolor": "#E5ECF6",
          "polar": {
           "angularaxis": {
            "gridcolor": "white",
            "linecolor": "white",
            "ticks": ""
           },
           "bgcolor": "#E5ECF6",
           "radialaxis": {
            "gridcolor": "white",
            "linecolor": "white",
            "ticks": ""
           }
          },
          "scene": {
           "xaxis": {
            "backgroundcolor": "#E5ECF6",
            "gridcolor": "white",
            "gridwidth": 2,
            "linecolor": "white",
            "showbackground": true,
            "ticks": "",
            "zerolinecolor": "white"
           },
           "yaxis": {
            "backgroundcolor": "#E5ECF6",
            "gridcolor": "white",
            "gridwidth": 2,
            "linecolor": "white",
            "showbackground": true,
            "ticks": "",
            "zerolinecolor": "white"
           },
           "zaxis": {
            "backgroundcolor": "#E5ECF6",
            "gridcolor": "white",
            "gridwidth": 2,
            "linecolor": "white",
            "showbackground": true,
            "ticks": "",
            "zerolinecolor": "white"
           }
          },
          "shapedefaults": {
           "line": {
            "color": "#2a3f5f"
           }
          },
          "ternary": {
           "aaxis": {
            "gridcolor": "white",
            "linecolor": "white",
            "ticks": ""
           },
           "baxis": {
            "gridcolor": "white",
            "linecolor": "white",
            "ticks": ""
           },
           "bgcolor": "#E5ECF6",
           "caxis": {
            "gridcolor": "white",
            "linecolor": "white",
            "ticks": ""
           }
          },
          "title": {
           "x": 0.05
          },
          "xaxis": {
           "automargin": true,
           "gridcolor": "white",
           "linecolor": "white",
           "ticks": "",
           "title": {
            "standoff": 15
           },
           "zerolinecolor": "white",
           "zerolinewidth": 2
          },
          "yaxis": {
           "automargin": true,
           "gridcolor": "white",
           "linecolor": "white",
           "ticks": "",
           "title": {
            "standoff": 15
           },
           "zerolinecolor": "white",
           "zerolinewidth": 2
          }
         }
        },
        "xaxis": {
         "rangeslider": {
          "visible": false
         }
        }
       }
      },
      "image/png": "[encoded data removed]"
     },
     "metadata": {},
     "output_type": "display_data"
    }
   ],
   "source": [
    "fig = go.Figure(data=[go.Candlestick(\n",
    "    x = df['Date'],\n",
    "    open=df['AAPL.Open'],\n",
    "    high=df['AAPL.High'],\n",
    "    low=df['AAPL.Low'],\n",
    "    close=df['AAPL.Close'],\n",
    ")])\n",
    "\n",
    "fig.update_layout(height=500)\n",
    "fig.update_layout(xaxis_rangeslider_visible=False)\n",
    "fig.show()"
   ]
  },
  {
   "cell_type": "code",
   "execution_count": null,
   "id": "508eeb6a-69f6-4af5-ad1b-637e0ef9cc57",
   "metadata": {},
   "outputs": [],
   "source": []
  }
 ],
 "metadata": {
  "kernelspec": {
   "display_name": "Python 3 (ipykernel)",
   "language": "python",
   "name": "python3"
  },
  "language_info": {
   "codemirror_mode": {
    "name": "ipython",
    "version": 3
   },
   "file_extension": ".py",
   "mimetype": "text/x-python",
   "name": "python",
   "nbconvert_exporter": "python",
   "pygments_lexer": "ipython3",
   "version": "3.13.5"
  }
 },
 "nbformat": 4,
 "nbformat_minor": 5
}
